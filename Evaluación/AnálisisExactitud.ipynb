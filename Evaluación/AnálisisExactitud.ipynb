{
  "nbformat": 4,
  "nbformat_minor": 0,
  "metadata": {
    "colab": {
      "provenance": [],
      "authorship_tag": "ABX9TyPc3Ff1Vx1VVDlFWr/1dQQV",
      "include_colab_link": true
    },
    "kernelspec": {
      "name": "python3",
      "display_name": "Python 3"
    },
    "language_info": {
      "name": "python"
    }
  },
  "cells": [
    {
      "cell_type": "markdown",
      "metadata": {
        "id": "view-in-github",
        "colab_type": "text"
      },
      "source": [
        "<a href=\"https://colab.research.google.com/github/cesarrivera52/Concentracion2/blob/main/Evaluaci%C3%B3n/An%C3%A1lisisExactitud.ipynb\" target=\"_parent\"><img src=\"https://colab.research.google.com/assets/colab-badge.svg\" alt=\"Open In Colab\"/></a>"
      ]
    },
    {
      "cell_type": "code",
      "execution_count": null,
      "metadata": {
        "colab": {
          "base_uri": "https://localhost:8080/"
        },
        "id": "3EsWBEUFXFlV",
        "outputId": "f76cd04b-2704-4e06-e569-7111adab8421"
      },
      "outputs": [
        {
          "output_type": "stream",
          "name": "stdout",
          "text": [
            "Conjunto de datos inicial: \n",
            "\n",
            " quality\n",
            "Cat_5    681\n",
            "Cat_7    199\n",
            "Name: count, dtype: int64\n"
          ]
        }
      ],
      "source": [
        "import pandas as pd\n",
        "from pandas import DataFrame\n",
        "\n",
        "setInicial=pd.read_csv('Vinos.csv')\n",
        "#Dividir el conjunto de datos y clase\n",
        "inicialDatos=setInicial.drop('quality',axis=1)\n",
        "inicialClase=setInicial['quality'] #clase\n",
        "\n",
        "print('Conjunto de datos inicial: \\n\\n',inicialClase.value_counts())\n"
      ]
    },
    {
      "cell_type": "markdown",
      "source": [
        "# Extraer conjunto de entrenamiento y conjunto de evaluación"
      ],
      "metadata": {
        "id": "vxSoEv2-ZoVC"
      }
    },
    {
      "cell_type": "code",
      "source": [
        "from sklearn.model_selection import train_test_split\n",
        "\n",
        "entrenamientoDatos, evaluacionDatos, entrenamientoClase, evaluacionClase=\\\n",
        "train_test_split(inicialDatos, inicialClase, test_size=0.3,stratify=inicialClase)\n",
        "\n",
        "print('Datos de entrenamiento: \\n',entrenamientoClase.value_counts())\n",
        "print('\\nDatos de evaluación: \\n',evaluacionClase.value_counts())"
      ],
      "metadata": {
        "colab": {
          "base_uri": "https://localhost:8080/"
        },
        "id": "SY5CfiBhZuoc",
        "outputId": "d5844722-cc67-4e02-89b5-546a53709a2c"
      },
      "execution_count": null,
      "outputs": [
        {
          "output_type": "stream",
          "name": "stdout",
          "text": [
            "Datos de entrenamiento: \n",
            " quality\n",
            "Cat_5    477\n",
            "Cat_7    139\n",
            "Name: count, dtype: int64\n",
            "\n",
            "Datos de evaluación: \n",
            " quality\n",
            "Cat_5    204\n",
            "Cat_7     60\n",
            "Name: count, dtype: int64\n"
          ]
        }
      ]
    },
    {
      "cell_type": "markdown",
      "source": [
        "# **Generación del Modelo**\n",
        "*Arbol*"
      ],
      "metadata": {
        "id": "P8nx0z-NmxTl"
      }
    },
    {
      "cell_type": "code",
      "source": [
        "from sklearn.tree import DecisionTreeClassifier\n",
        "from sklearn.metrics import accuracy_score\n",
        "\n",
        "profundidad=[1,2,3,4,5,6,7,8]\n",
        "exactitud=[]\n",
        "exactitudTrain=[]\n",
        "for x in profundidad:\n",
        "  clasificador=DecisionTreeClassifier(criterion='entropy', max_depth=x)\n",
        "\n",
        "##### Generar modelo\n",
        "  modelo=clasificador.fit(entrenamientoDatos,entrenamientoClase)\n",
        "\n",
        "### Clasificacion\n",
        "  ClaseAsignada=modelo.predict(evaluacionDatos)\n",
        "  ClaseAsignadaTrain=modelo.predict(entrenamientoDatos)\n",
        "\n",
        "### Evaluar\n",
        "  exactitud.append(accuracy_score(evaluacionClase,ClaseAsignada))\n",
        "  exactitudTrain.append(accuracy_score(entrenamientoClase,ClaseAsignadaTrain))\n"
      ],
      "metadata": {
        "id": "mP0HRL6Fm1hs"
      },
      "execution_count": null,
      "outputs": []
    },
    {
      "cell_type": "markdown",
      "source": [
        "## **Evaliación del modelo**"
      ],
      "metadata": {
        "id": "aYodZIu_nTvy"
      }
    },
    {
      "cell_type": "code",
      "source": [
        "import matplotlib.pyplot as plt\n",
        "plt.plot(profundidad,exactitudTrain,color='red',label='Conjunto Entrenamiento')\n",
        "plt.plot(profundidad,exactitud,color='green',label='Conjunto Evaluación')\n",
        "plt.ylim(0,1)\n",
        "plt.legend()\n",
        "plt.show()"
      ],
      "metadata": {
        "colab": {
          "base_uri": "https://localhost:8080/",
          "height": 435
        },
        "id": "9db8rV-HnwlC",
        "outputId": "cc06010f-6031-4181-ea3a-43a54020de2f"
      },
      "execution_count": null,
      "outputs": [
        {
          "output_type": "display_data",
          "data": {
            "text/plain": [
              "<Figure size 640x480 with 1 Axes>"
            ],
            "image/png": "[encoded data removed]"
          },
          "metadata": {}
        }
      ]
    },
    {
      "cell_type": "code",
      "source": [
        "print('Clase Real:  ',entrenamientoClase.head(1))\n",
        "print('Clase Predicción:  ',ClaseAsignadaTrain[0])"
      ],
      "metadata": {
        "colab": {
          "base_uri": "https://localhost:8080/"
        },
        "id": "Es1QnvA8pGiN",
        "outputId": "b91fccb1-46a4-4054-c012-241ca857d947"
      },
      "execution_count": null,
      "outputs": [
        {
          "output_type": "stream",
          "name": "stdout",
          "text": [
            "Clase Real:   631    Cat_5\n",
            "Name: quality, dtype: object\n",
            "Clase Predicción:   Cat_5\n"
          ]
        }
      ]
    },
    {
      "cell_type": "markdown",
      "source": [
        "# **Generación del Modelo**\n",
        "*KNN*"
      ],
      "metadata": {
        "id": "vEV8KWXUrxTn"
      }
    },
    {
      "cell_type": "code",
      "source": [
        "from sklearn.neighbors import KNeighborsClassifier #Permite utilizar el clasificador K-NN\n",
        "\n",
        "#1. Datos del modelo\n",
        "clasificador= KNeighborsClassifier(n_neighbors=7) #Si no se le agrega nada dentro de los parentesis, por defecto es la distancia euclidiana y k=5\n",
        "print(clasificador)\n",
        "\n",
        "exactitud1=[]\n",
        "profundidad1=[1,2,3,4,5,6,7,8,9]\n",
        "exactitudTrain1=[]\n",
        "\n",
        "for x in profundidad1:\n",
        "  clasificador= KNeighborsClassifier(n_neighbors=x)\n",
        "##### Generar modelo\n",
        "  modelo=clasificador.fit(entrenamientoDatos,entrenamientoClase)\n",
        "\n",
        "### Clasificacion\n",
        "  ClaseAsignada=modelo.predict(evaluacionDatos)\n",
        "  ClaseAsignadaTrain=modelo.predict(entrenamientoDatos)\n",
        "\n",
        "### Evaluar\n",
        "  exactitud1.append(accuracy_score(evaluacionClase,ClaseAsignada))\n",
        "  exactitudTrain1.append(accuracy_score(entrenamientoClase,ClaseAsignadaTrain))\n"
      ],
      "metadata": {
        "colab": {
          "base_uri": "https://localhost:8080/"
        },
        "id": "sk9XUdWPr1_W",
        "outputId": "91939273-920b-43e0-eab7-28ef14a7e005"
      },
      "execution_count": null,
      "outputs": [
        {
          "output_type": "stream",
          "name": "stdout",
          "text": [
            "KNeighborsClassifier(n_neighbors=7)\n"
          ]
        }
      ]
    },
    {
      "cell_type": "markdown",
      "source": [
        "## **Evaluación del modelo**"
      ],
      "metadata": {
        "id": "TKmyStLKt5FT"
      }
    },
    {
      "cell_type": "code",
      "source": [
        "import matplotlib.pyplot as plt\n",
        "plt.plot(profundidad1,exactitudTrain1,color='red',label='Conjunto Entrenamiento')\n",
        "plt.plot(profundidad1,exactitud1,color='green',label='Conjunto Evaluación')\n",
        "plt.ylim(0,1)\n",
        "plt.legend()\n",
        "plt.show()"
      ],
      "metadata": {
        "colab": {
          "base_uri": "https://localhost:8080/",
          "height": 435
        },
        "id": "Y7Sig-pst1wR",
        "outputId": "6107fa61-464c-4ac7-92c0-872065f1247a"
      },
      "execution_count": null,
      "outputs": [
        {
          "output_type": "display_data",
          "data": {
            "text/plain": [
              "<Figure size 640x480 with 1 Axes>"
            ],
            "image/png": "[encoded data removed]"
          },
          "metadata": {}
        }
      ]
    },
    {
      "cell_type": "markdown",
      "source": [
        "## Análisis de los modelos\n",
        "**¿En qué clasificador se obtienen mejores resultados?**\n",
        "\n",
        "En el modelo realizado de árbol de decisión es el que menor distancia tiene, entre el comportamiento de conjunto de entrenamiento y del conjunto de evaluación, es importante mencionar que la instancia que es mejor para este caso es la 4.\n",
        "\n",
        "**¿Qué experimentos de cada clasificador cayeron en overfiting y underfiting? ¿Por que?**\n",
        "\n",
        "En el experimento del clasificador\n",
        "\n",
        "\n",
        "**¿Aplicarías estos modelos en la industria o seguirías buscando otras combinaciones para mejorar el resultado?**"
      ],
      "metadata": {
        "id": "0xSB39vkdkna"
      }
    },
    {
      "cell_type": "code",
      "source": [],
      "metadata": {
        "id": "nsL0WvCpdpLU"
      },
      "execution_count": null,
      "outputs": []
    }
  ]
}