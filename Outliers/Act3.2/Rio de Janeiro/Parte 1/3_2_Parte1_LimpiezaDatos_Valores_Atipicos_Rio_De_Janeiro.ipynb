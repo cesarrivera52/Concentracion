{
  "cells": [
    {
      "cell_type": "markdown",
      "metadata": {
        "id": "view-in-github",
        "colab_type": "text"
      },
      "source": [
        "<a href=\"https://colab.research.google.com/github/cesarrivera52/Concentracion2/blob/main/Outliers/Act3.2/Rio%20de%20Janeiro/Parte%201/3_2_Parte1_LimpiezaDatos_Valores_Atipicos_Rio_De_Janeiro.ipynb\" target=\"_parent\"><img src=\"https://colab.research.google.com/assets/colab-badge.svg\" alt=\"Open In Colab\"/></a>"
      ]
    },
    {
      "cell_type": "code",
      "execution_count": null,
      "metadata": {
        "id": "gcz5zhdXnmJS"
      },
      "outputs": [],
      "source": [
        "#Importamos las libreerias pandas, numpy y matplotlib respectivamente\n",
        "import numpy as np\n",
        "import pandas as pd\n",
        "import matplotlib.pyplot as plt"
      ]
    },
    {
      "cell_type": "code",
      "execution_count": null,
      "metadata": {
        "id": "15ClvHXknuYH"
      },
      "outputs": [],
      "source": [
        "#Cargar archivo csv desde equipo\n",
        "data=pd.read_csv(\"listings.csv\")"
      ]
    },
    {
      "cell_type": "markdown",
      "metadata": {
        "id": "KY5aKKVnDrTO"
      },
      "source": [
        "# Analisis de columnas"
      ]
    },
    {
      "cell_type": "code",
      "execution_count": null,
      "metadata": {
        "colab": {
          "base_uri": "https://localhost:8080/"
        },
        "collapsed": true,
        "id": "iDmCbblW_1uN",
        "outputId": "fda6b74a-0884-45f0-c867-2df1f83937af"
      },
      "outputs": [
        {
          "output_type": "stream",
          "name": "stdout",
          "text": [
            "<class 'pandas.core.frame.DataFrame'>\n",
            "RangeIndex: 34664 entries, 0 to 34663\n",
            "Data columns (total 75 columns):\n",
            " #   Column                                        Non-Null Count  Dtype  \n",
            "---  ------                                        --------------  -----  \n",
            " 0   id                                            34664 non-null  int64  \n",
            " 1   listing_url                                   34664 non-null  object \n",
            " 2   scrape_id                                     34664 non-null  int64  \n",
            " 3   last_scraped                                  34664 non-null  object \n",
            " 4   source                                        34664 non-null  object \n",
            " 5   name                                          34664 non-null  object \n",
            " 6   description                                   33501 non-null  object \n",
            " 7   neighborhood_overview                         17016 non-null  object \n",
            " 8   picture_url                                   34664 non-null  object \n",
            " 9   host_id                                       34664 non-null  int64  \n",
            " 10  host_url                                      34664 non-null  object \n",
            " 11  host_name                                     34664 non-null  object \n",
            " 12  host_since                                    34664 non-null  object \n",
            " 13  host_location                                 27869 non-null  object \n",
            " 14  host_about                                    16551 non-null  object \n",
            " 15  host_response_time                            28879 non-null  object \n",
            " 16  host_response_rate                            28879 non-null  object \n",
            " 17  host_acceptance_rate                          31089 non-null  object \n",
            " 18  host_is_superhost                             33796 non-null  object \n",
            " 19  host_thumbnail_url                            34664 non-null  object \n",
            " 20  host_picture_url                              34664 non-null  object \n",
            " 21  host_neighbourhood                            28779 non-null  object \n",
            " 22  host_listings_count                           34664 non-null  int64  \n",
            " 23  host_total_listings_count                     34664 non-null  int64  \n",
            " 24  host_verifications                            34664 non-null  object \n",
            " 25  host_has_profile_pic                          34664 non-null  object \n",
            " 26  host_identity_verified                        34664 non-null  object \n",
            " 27  neighbourhood                                 17016 non-null  object \n",
            " 28  neighbourhood_cleansed                        34664 non-null  object \n",
            " 29  neighbourhood_group_cleansed                  0 non-null      float64\n",
            " 30  latitude                                      34664 non-null  float64\n",
            " 31  longitude                                     34664 non-null  float64\n",
            " 32  property_type                                 34664 non-null  object \n",
            " 33  room_type                                     34664 non-null  object \n",
            " 34  accommodates                                  34664 non-null  int64  \n",
            " 35  bathrooms                                     33824 non-null  float64\n",
            " 36  bathrooms_text                                34623 non-null  object \n",
            " 37  bedrooms                                      34526 non-null  float64\n",
            " 38  beds                                          33822 non-null  float64\n",
            " 39  amenities                                     34664 non-null  object \n",
            " 40  price                                         33692 non-null  object \n",
            " 41  minimum_nights                                34664 non-null  int64  \n",
            " 42  maximum_nights                                34664 non-null  int64  \n",
            " 43  minimum_minimum_nights                        34664 non-null  int64  \n",
            " 44  maximum_minimum_nights                        34664 non-null  int64  \n",
            " 45  minimum_maximum_nights                        34664 non-null  int64  \n",
            " 46  maximum_maximum_nights                        34664 non-null  int64  \n",
            " 47  minimum_nights_avg_ntm                        34664 non-null  float64\n",
            " 48  maximum_nights_avg_ntm                        34664 non-null  float64\n",
            " 49  calendar_updated                              0 non-null      float64\n",
            " 50  has_availability                              34327 non-null  object \n",
            " 51  availability_30                               34664 non-null  int64  \n",
            " 52  availability_60                               34664 non-null  int64  \n",
            " 53  availability_90                               34664 non-null  int64  \n",
            " 54  availability_365                              34664 non-null  int64  \n",
            " 55  calendar_last_scraped                         34664 non-null  object \n",
            " 56  number_of_reviews                             34664 non-null  int64  \n",
            " 57  number_of_reviews_ltm                         34664 non-null  int64  \n",
            " 58  number_of_reviews_l30d                        34664 non-null  int64  \n",
            " 59  first_review                                  26218 non-null  object \n",
            " 60  last_review                                   26218 non-null  object \n",
            " 61  review_scores_rating                          26218 non-null  float64\n",
            " 62  review_scores_accuracy                        26209 non-null  float64\n",
            " 63  review_scores_cleanliness                     26209 non-null  float64\n",
            " 64  review_scores_checkin                         26209 non-null  float64\n",
            " 65  review_scores_communication                   26209 non-null  float64\n",
            " 66  review_scores_location                        26209 non-null  float64\n",
            " 67  review_scores_value                           26207 non-null  float64\n",
            " 68  license                                       0 non-null      float64\n",
            " 69  instant_bookable                              34664 non-null  object \n",
            " 70  calculated_host_listings_count                34664 non-null  int64  \n",
            " 71  calculated_host_listings_count_entire_homes   34664 non-null  int64  \n",
            " 72  calculated_host_listings_count_private_rooms  34664 non-null  int64  \n",
            " 73  calculated_host_listings_count_shared_rooms   34664 non-null  int64  \n",
            " 74  reviews_per_month                             26218 non-null  float64\n",
            "dtypes: float64(18), int64(23), object(34)\n",
            "memory usage: 19.8+ MB\n"
          ]
        }
      ],
      "source": [
        "data.info()"
      ]
    },
    {
      "cell_type": "markdown",
      "metadata": {
        "id": "r4vcXTuwDwgi"
      },
      "source": [
        "## Eliminacion de columnas innecesarias"
      ]
    },
    {
      "cell_type": "code",
      "execution_count": null,
      "metadata": {
        "id": "Oknk8Qy5rZPr"
      },
      "outputs": [],
      "source": [
        "data.drop(['listing_url','scrape_id','last_scraped','source','name','description','bathrooms_text','neighborhood_overview','picture_url','host_url','host_about','host_thumbnail_url','host_picture_url','neighbourhood_group_cleansed','bathrooms','amenities','minimum_minimum_nights','maximum_minimum_nights','minimum_maximum_nights','calendar_updated','calendar_last_scraped','number_of_reviews_l30d','first_review','license','calculated_host_listings_count_entire_homes','last_review','calculated_host_listings_count_private_rooms','calculated_host_listings_count_shared_rooms'],axis=1,inplace=True)"
      ]
    },
    {
      "cell_type": "code",
      "execution_count": null,
      "metadata": {
        "id": "tERksPsVBBUR"
      },
      "outputs": [],
      "source": [
        "#Corregimos columna\n",
        "data['price'] = data['price'].str.replace('$', '').str.replace(',', '').astype(float)"
      ]
    },
    {
      "cell_type": "code",
      "execution_count": null,
      "metadata": {
        "id": "pzcm57ZfFUB2"
      },
      "outputs": [],
      "source": [
        "data['host_acceptance_rate']=data['host_acceptance_rate'].str.replace('%', '').astype(float)\n",
        "data['host_response_rate']=data['host_response_rate'].str.replace('%', '').astype(float)"
      ]
    },
    {
      "cell_type": "code",
      "execution_count": null,
      "metadata": {
        "id": "8WwrnFaHFmsy"
      },
      "outputs": [],
      "source": [
        "data['host_acceptance_rate']=data['host_acceptance_rate']/100\n",
        "data['host_response_rate']=data['host_response_rate']/100\n"
      ]
    },
    {
      "cell_type": "markdown",
      "metadata": {
        "id": "yLwBp76MEHWv"
      },
      "source": [
        "# Limpieza de DF"
      ]
    },
    {
      "cell_type": "code",
      "execution_count": null,
      "metadata": {
        "colab": {
          "base_uri": "https://localhost:8080/",
          "height": 1000
        },
        "collapsed": true,
        "id": "qT_zBtpuoei7",
        "outputId": "b5332cad-a799-48fa-88ca-3d4c48940491"
      },
      "outputs": [
        {
          "output_type": "execute_result",
          "data": {
            "text/plain": [
              "id                                    0\n",
              "host_id                               0\n",
              "host_name                             0\n",
              "host_since                            0\n",
              "host_location                      6795\n",
              "host_response_time                 5785\n",
              "host_response_rate                 5785\n",
              "host_acceptance_rate               3575\n",
              "host_is_superhost                   868\n",
              "host_neighbourhood                 5885\n",
              "host_listings_count                   0\n",
              "host_total_listings_count             0\n",
              "host_verifications                    0\n",
              "host_has_profile_pic                  0\n",
              "host_identity_verified                0\n",
              "neighbourhood                     17648\n",
              "neighbourhood_cleansed                0\n",
              "latitude                              0\n",
              "longitude                             0\n",
              "property_type                         0\n",
              "room_type                             0\n",
              "accommodates                          0\n",
              "bedrooms                            138\n",
              "beds                                842\n",
              "price                               972\n",
              "minimum_nights                        0\n",
              "maximum_nights                        0\n",
              "maximum_maximum_nights                0\n",
              "minimum_nights_avg_ntm                0\n",
              "maximum_nights_avg_ntm                0\n",
              "has_availability                    337\n",
              "availability_30                       0\n",
              "availability_60                       0\n",
              "availability_90                       0\n",
              "availability_365                      0\n",
              "number_of_reviews                     0\n",
              "number_of_reviews_ltm                 0\n",
              "review_scores_rating               8446\n",
              "review_scores_accuracy             8455\n",
              "review_scores_cleanliness          8455\n",
              "review_scores_checkin              8455\n",
              "review_scores_communication        8455\n",
              "review_scores_location             8455\n",
              "review_scores_value                8457\n",
              "instant_bookable                      0\n",
              "calculated_host_listings_count        0\n",
              "reviews_per_month                  8446\n",
              "dtype: int64"
            ],
            "text/html": [
              "<div>\n",
              "<style scoped>\n",
              "    .dataframe tbody tr th:only-of-type {\n",
              "        vertical-align: middle;\n",
              "    }\n",
              "\n",
              "    .dataframe tbody tr th {\n",
              "        vertical-align: top;\n",
              "    }\n",
              "\n",
              "    .dataframe thead th {\n",
              "        text-align: right;\n",
              "    }\n",
              "</style>\n",
              "<table border=\"1\" class=\"dataframe\">\n",
              "  <thead>\n",
              "    <tr style=\"text-align: right;\">\n",
              "      <th></th>\n",
              "      <th>0</th>\n",
              "    </tr>\n",
              "  </thead>\n",
              "  <tbody>\n",
              "    <tr>\n",
              "      <th>id</th>\n",
              "      <td>0</td>\n",
              "    </tr>\n",
              "    <tr>\n",
              "      <th>host_id</th>\n",
              "      <td>0</td>\n",
              "    </tr>\n",
              "    <tr>\n",
              "      <th>host_name</th>\n",
              "      <td>0</td>\n",
              "    </tr>\n",
              "    <tr>\n",
              "      <th>host_since</th>\n",
              "      <td>0</td>\n",
              "    </tr>\n",
              "    <tr>\n",
              "      <th>host_location</th>\n",
              "      <td>6795</td>\n",
              "    </tr>\n",
              "    <tr>\n",
              "      <th>host_response_time</th>\n",
              "      <td>5785</td>\n",
              "    </tr>\n",
              "    <tr>\n",
              "      <th>host_response_rate</th>\n",
              "      <td>5785</td>\n",
              "    </tr>\n",
              "    <tr>\n",
              "      <th>host_acceptance_rate</th>\n",
              "      <td>3575</td>\n",
              "    </tr>\n",
              "    <tr>\n",
              "      <th>host_is_superhost</th>\n",
              "      <td>868</td>\n",
              "    </tr>\n",
              "    <tr>\n",
              "      <th>host_neighbourhood</th>\n",
              "      <td>5885</td>\n",
              "    </tr>\n",
              "    <tr>\n",
              "      <th>host_listings_count</th>\n",
              "      <td>0</td>\n",
              "    </tr>\n",
              "    <tr>\n",
              "      <th>host_total_listings_count</th>\n",
              "      <td>0</td>\n",
              "    </tr>\n",
              "    <tr>\n",
              "      <th>host_verifications</th>\n",
              "      <td>0</td>\n",
              "    </tr>\n",
              "    <tr>\n",
              "      <th>host_has_profile_pic</th>\n",
              "      <td>0</td>\n",
              "    </tr>\n",
              "    <tr>\n",
              "      <th>host_identity_verified</th>\n",
              "      <td>0</td>\n",
              "    </tr>\n",
              "    <tr>\n",
              "      <th>neighbourhood</th>\n",
              "      <td>17648</td>\n",
              "    </tr>\n",
              "    <tr>\n",
              "      <th>neighbourhood_cleansed</th>\n",
              "      <td>0</td>\n",
              "    </tr>\n",
              "    <tr>\n",
              "      <th>latitude</th>\n",
              "      <td>0</td>\n",
              "    </tr>\n",
              "    <tr>\n",
              "      <th>longitude</th>\n",
              "      <td>0</td>\n",
              "    </tr>\n",
              "    <tr>\n",
              "      <th>property_type</th>\n",
              "      <td>0</td>\n",
              "    </tr>\n",
              "    <tr>\n",
              "      <th>room_type</th>\n",
              "      <td>0</td>\n",
              "    </tr>\n",
              "    <tr>\n",
              "      <th>accommodates</th>\n",
              "      <td>0</td>\n",
              "    </tr>\n",
              "    <tr>\n",
              "      <th>bedrooms</th>\n",
              "      <td>138</td>\n",
              "    </tr>\n",
              "    <tr>\n",
              "      <th>beds</th>\n",
              "      <td>842</td>\n",
              "    </tr>\n",
              "    <tr>\n",
              "      <th>price</th>\n",
              "      <td>972</td>\n",
              "    </tr>\n",
              "    <tr>\n",
              "      <th>minimum_nights</th>\n",
              "      <td>0</td>\n",
              "    </tr>\n",
              "    <tr>\n",
              "      <th>maximum_nights</th>\n",
              "      <td>0</td>\n",
              "    </tr>\n",
              "    <tr>\n",
              "      <th>maximum_maximum_nights</th>\n",
              "      <td>0</td>\n",
              "    </tr>\n",
              "    <tr>\n",
              "      <th>minimum_nights_avg_ntm</th>\n",
              "      <td>0</td>\n",
              "    </tr>\n",
              "    <tr>\n",
              "      <th>maximum_nights_avg_ntm</th>\n",
              "      <td>0</td>\n",
              "    </tr>\n",
              "    <tr>\n",
              "      <th>has_availability</th>\n",
              "      <td>337</td>\n",
              "    </tr>\n",
              "    <tr>\n",
              "      <th>availability_30</th>\n",
              "      <td>0</td>\n",
              "    </tr>\n",
              "    <tr>\n",
              "      <th>availability_60</th>\n",
              "      <td>0</td>\n",
              "    </tr>\n",
              "    <tr>\n",
              "      <th>availability_90</th>\n",
              "      <td>0</td>\n",
              "    </tr>\n",
              "    <tr>\n",
              "      <th>availability_365</th>\n",
              "      <td>0</td>\n",
              "    </tr>\n",
              "    <tr>\n",
              "      <th>number_of_reviews</th>\n",
              "      <td>0</td>\n",
              "    </tr>\n",
              "    <tr>\n",
              "      <th>number_of_reviews_ltm</th>\n",
              "      <td>0</td>\n",
              "    </tr>\n",
              "    <tr>\n",
              "      <th>review_scores_rating</th>\n",
              "      <td>8446</td>\n",
              "    </tr>\n",
              "    <tr>\n",
              "      <th>review_scores_accuracy</th>\n",
              "      <td>8455</td>\n",
              "    </tr>\n",
              "    <tr>\n",
              "      <th>review_scores_cleanliness</th>\n",
              "      <td>8455</td>\n",
              "    </tr>\n",
              "    <tr>\n",
              "      <th>review_scores_checkin</th>\n",
              "      <td>8455</td>\n",
              "    </tr>\n",
              "    <tr>\n",
              "      <th>review_scores_communication</th>\n",
              "      <td>8455</td>\n",
              "    </tr>\n",
              "    <tr>\n",
              "      <th>review_scores_location</th>\n",
              "      <td>8455</td>\n",
              "    </tr>\n",
              "    <tr>\n",
              "      <th>review_scores_value</th>\n",
              "      <td>8457</td>\n",
              "    </tr>\n",
              "    <tr>\n",
              "      <th>instant_bookable</th>\n",
              "      <td>0</td>\n",
              "    </tr>\n",
              "    <tr>\n",
              "      <th>calculated_host_listings_count</th>\n",
              "      <td>0</td>\n",
              "    </tr>\n",
              "    <tr>\n",
              "      <th>reviews_per_month</th>\n",
              "      <td>8446</td>\n",
              "    </tr>\n",
              "  </tbody>\n",
              "</table>\n",
              "</div><br><label><b>dtype:</b> int64</label>"
            ]
          },
          "metadata": {},
          "execution_count": 8
        }
      ],
      "source": [
        "#Corroboramos valores nulos\n",
        "pd.options.display.max_rows= None\n",
        "valores_nulos=data.isnull().sum()\n",
        "valores_nulos"
      ]
    },
    {
      "cell_type": "markdown",
      "metadata": {
        "id": "2F_tlOFHENTI"
      },
      "source": [
        "## Separamos y limpiamos DF"
      ]
    },
    {
      "cell_type": "code",
      "execution_count": null,
      "metadata": {
        "id": "n0BhJBV6owUr"
      },
      "outputs": [],
      "source": [
        "#Creamos 2 DF's para poder procesar los outliers\n",
        "cuantitativas = data.select_dtypes(include=[int, np.float64])\n",
        "cualitativas=data.select_dtypes(include=[object])"
      ]
    },
    {
      "cell_type": "markdown",
      "metadata": {
        "id": "MoiOxa6VEWp5"
      },
      "source": [
        "### Limpieza var. cuantitativas"
      ]
    },
    {
      "cell_type": "code",
      "execution_count": null,
      "metadata": {
        "id": "V1MMBVLHCP5A"
      },
      "outputs": [],
      "source": [
        "cuantitativas[['bedrooms']]=cuantitativas[['bedrooms']].fillna(round(cuantitativas[['bedrooms']].mean(),1))"
      ]
    },
    {
      "cell_type": "code",
      "execution_count": null,
      "metadata": {
        "id": "fk56jTEMCoA1"
      },
      "outputs": [],
      "source": [
        "cuantitativas[['beds']]=cuantitativas[['beds']].fillna(round(cuantitativas[['beds']].mean(),1))"
      ]
    },
    {
      "cell_type": "code",
      "execution_count": null,
      "metadata": {
        "id": "a4hheNNKCtob"
      },
      "outputs": [],
      "source": [
        "cuantitativas[['price']]=cuantitativas[['price']].fillna(round(cuantitativas[['price']].mean(),1))"
      ]
    },
    {
      "cell_type": "code",
      "execution_count": null,
      "metadata": {
        "id": "G4GLxW_zCz2z"
      },
      "outputs": [],
      "source": [
        "cuantitativas[['review_scores_rating']]=cuantitativas[['review_scores_rating']].fillna(round(cuantitativas[['review_scores_rating']].mean(),1))"
      ]
    },
    {
      "cell_type": "code",
      "execution_count": null,
      "metadata": {
        "id": "Fh-FlAa7DTfi"
      },
      "outputs": [],
      "source": [
        "cuantitativas[['review_scores_accuracy']]=cuantitativas[['review_scores_accuracy']].fillna(round(cuantitativas[['review_scores_accuracy']].mean(),1))"
      ]
    },
    {
      "cell_type": "code",
      "execution_count": null,
      "metadata": {
        "id": "YnhxYtFnC2vV"
      },
      "outputs": [],
      "source": [
        "cuantitativas[['review_scores_cleanliness']]=cuantitativas[['review_scores_cleanliness']].fillna(round(cuantitativas[['review_scores_cleanliness']].mean(),1))"
      ]
    },
    {
      "cell_type": "code",
      "execution_count": null,
      "metadata": {
        "id": "InGUId1KDd5r"
      },
      "outputs": [],
      "source": [
        "cuantitativas[['review_scores_checkin']]=cuantitativas[['review_scores_checkin']].fillna(round(cuantitativas[['review_scores_checkin']].mean(),1))"
      ]
    },
    {
      "cell_type": "code",
      "execution_count": null,
      "metadata": {
        "id": "kdmh9mg3C6eu"
      },
      "outputs": [],
      "source": [
        "cuantitativas[['review_scores_communication']]=cuantitativas[['review_scores_communication']].fillna(round(cuantitativas[['review_scores_communication']].mean(),1))"
      ]
    },
    {
      "cell_type": "code",
      "execution_count": null,
      "metadata": {
        "id": "t0M5BabtDBui"
      },
      "outputs": [],
      "source": [
        "cuantitativas[['review_scores_location']]=cuantitativas[['review_scores_location']].fillna(round(cuantitativas[['review_scores_location']].mean(),1))"
      ]
    },
    {
      "cell_type": "code",
      "execution_count": null,
      "metadata": {
        "id": "yzEVES67DHCp"
      },
      "outputs": [],
      "source": [
        "cuantitativas[['review_scores_value']]=cuantitativas[['review_scores_value']].fillna(round(cuantitativas[['review_scores_value']].mean(),1))"
      ]
    },
    {
      "cell_type": "code",
      "execution_count": null,
      "metadata": {
        "id": "nTgoAPq6DKGn"
      },
      "outputs": [],
      "source": [
        "cuantitativas[['reviews_per_month']]=cuantitativas[['reviews_per_month']].fillna(round(cuantitativas[['reviews_per_month']].mean(),1))"
      ]
    },
    {
      "cell_type": "code",
      "execution_count": null,
      "metadata": {
        "id": "JywK3vZQHjtc"
      },
      "outputs": [],
      "source": [
        "cuantitativas[['host_response_rate']]=cuantitativas[['host_response_rate']].fillna(round(cuantitativas[['host_response_rate']].mean(),1))"
      ]
    },
    {
      "cell_type": "code",
      "execution_count": null,
      "metadata": {
        "id": "GFwx3snkHx6s"
      },
      "outputs": [],
      "source": [
        "cuantitativas[['host_acceptance_rate']]=cuantitativas[['host_acceptance_rate']].fillna(round(cuantitativas[['host_acceptance_rate']].mean(),1))"
      ]
    },
    {
      "cell_type": "code",
      "execution_count": null,
      "metadata": {
        "colab": {
          "base_uri": "https://localhost:8080/",
          "height": 1000
        },
        "id": "nGIlehMuDn3Z",
        "outputId": "816123db-48d4-430c-d8c7-3c3344976319"
      },
      "outputs": [
        {
          "output_type": "execute_result",
          "data": {
            "text/plain": [
              "id                                0\n",
              "host_id                           0\n",
              "host_response_rate                0\n",
              "host_acceptance_rate              0\n",
              "host_listings_count               0\n",
              "host_total_listings_count         0\n",
              "latitude                          0\n",
              "longitude                         0\n",
              "accommodates                      0\n",
              "bedrooms                          0\n",
              "beds                              0\n",
              "price                             0\n",
              "minimum_nights                    0\n",
              "maximum_nights                    0\n",
              "maximum_maximum_nights            0\n",
              "minimum_nights_avg_ntm            0\n",
              "maximum_nights_avg_ntm            0\n",
              "availability_30                   0\n",
              "availability_60                   0\n",
              "availability_90                   0\n",
              "availability_365                  0\n",
              "number_of_reviews                 0\n",
              "number_of_reviews_ltm             0\n",
              "review_scores_rating              0\n",
              "review_scores_accuracy            0\n",
              "review_scores_cleanliness         0\n",
              "review_scores_checkin             0\n",
              "review_scores_communication       0\n",
              "review_scores_location            0\n",
              "review_scores_value               0\n",
              "calculated_host_listings_count    0\n",
              "reviews_per_month                 0\n",
              "dtype: int64"
            ],
            "text/html": [
              "<div>\n",
              "<style scoped>\n",
              "    .dataframe tbody tr th:only-of-type {\n",
              "        vertical-align: middle;\n",
              "    }\n",
              "\n",
              "    .dataframe tbody tr th {\n",
              "        vertical-align: top;\n",
              "    }\n",
              "\n",
              "    .dataframe thead th {\n",
              "        text-align: right;\n",
              "    }\n",
              "</style>\n",
              "<table border=\"1\" class=\"dataframe\">\n",
              "  <thead>\n",
              "    <tr style=\"text-align: right;\">\n",
              "      <th></th>\n",
              "      <th>0</th>\n",
              "    </tr>\n",
              "  </thead>\n",
              "  <tbody>\n",
              "    <tr>\n",
              "      <th>id</th>\n",
              "      <td>0</td>\n",
              "    </tr>\n",
              "    <tr>\n",
              "      <th>host_id</th>\n",
              "      <td>0</td>\n",
              "    </tr>\n",
              "    <tr>\n",
              "      <th>host_response_rate</th>\n",
              "      <td>0</td>\n",
              "    </tr>\n",
              "    <tr>\n",
              "      <th>host_acceptance_rate</th>\n",
              "      <td>0</td>\n",
              "    </tr>\n",
              "    <tr>\n",
              "      <th>host_listings_count</th>\n",
              "      <td>0</td>\n",
              "    </tr>\n",
              "    <tr>\n",
              "      <th>host_total_listings_count</th>\n",
              "      <td>0</td>\n",
              "    </tr>\n",
              "    <tr>\n",
              "      <th>latitude</th>\n",
              "      <td>0</td>\n",
              "    </tr>\n",
              "    <tr>\n",
              "      <th>longitude</th>\n",
              "      <td>0</td>\n",
              "    </tr>\n",
              "    <tr>\n",
              "      <th>accommodates</th>\n",
              "      <td>0</td>\n",
              "    </tr>\n",
              "    <tr>\n",
              "      <th>bedrooms</th>\n",
              "      <td>0</td>\n",
              "    </tr>\n",
              "    <tr>\n",
              "      <th>beds</th>\n",
              "      <td>0</td>\n",
              "    </tr>\n",
              "    <tr>\n",
              "      <th>price</th>\n",
              "      <td>0</td>\n",
              "    </tr>\n",
              "    <tr>\n",
              "      <th>minimum_nights</th>\n",
              "      <td>0</td>\n",
              "    </tr>\n",
              "    <tr>\n",
              "      <th>maximum_nights</th>\n",
              "      <td>0</td>\n",
              "    </tr>\n",
              "    <tr>\n",
              "      <th>maximum_maximum_nights</th>\n",
              "      <td>0</td>\n",
              "    </tr>\n",
              "    <tr>\n",
              "      <th>minimum_nights_avg_ntm</th>\n",
              "      <td>0</td>\n",
              "    </tr>\n",
              "    <tr>\n",
              "      <th>maximum_nights_avg_ntm</th>\n",
              "      <td>0</td>\n",
              "    </tr>\n",
              "    <tr>\n",
              "      <th>availability_30</th>\n",
              "      <td>0</td>\n",
              "    </tr>\n",
              "    <tr>\n",
              "      <th>availability_60</th>\n",
              "      <td>0</td>\n",
              "    </tr>\n",
              "    <tr>\n",
              "      <th>availability_90</th>\n",
              "      <td>0</td>\n",
              "    </tr>\n",
              "    <tr>\n",
              "      <th>availability_365</th>\n",
              "      <td>0</td>\n",
              "    </tr>\n",
              "    <tr>\n",
              "      <th>number_of_reviews</th>\n",
              "      <td>0</td>\n",
              "    </tr>\n",
              "    <tr>\n",
              "      <th>number_of_reviews_ltm</th>\n",
              "      <td>0</td>\n",
              "    </tr>\n",
              "    <tr>\n",
              "      <th>review_scores_rating</th>\n",
              "      <td>0</td>\n",
              "    </tr>\n",
              "    <tr>\n",
              "      <th>review_scores_accuracy</th>\n",
              "      <td>0</td>\n",
              "    </tr>\n",
              "    <tr>\n",
              "      <th>review_scores_cleanliness</th>\n",
              "      <td>0</td>\n",
              "    </tr>\n",
              "    <tr>\n",
              "      <th>review_scores_checkin</th>\n",
              "      <td>0</td>\n",
              "    </tr>\n",
              "    <tr>\n",
              "      <th>review_scores_communication</th>\n",
              "      <td>0</td>\n",
              "    </tr>\n",
              "    <tr>\n",
              "      <th>review_scores_location</th>\n",
              "      <td>0</td>\n",
              "    </tr>\n",
              "    <tr>\n",
              "      <th>review_scores_value</th>\n",
              "      <td>0</td>\n",
              "    </tr>\n",
              "    <tr>\n",
              "      <th>calculated_host_listings_count</th>\n",
              "      <td>0</td>\n",
              "    </tr>\n",
              "    <tr>\n",
              "      <th>reviews_per_month</th>\n",
              "      <td>0</td>\n",
              "    </tr>\n",
              "  </tbody>\n",
              "</table>\n",
              "</div><br><label><b>dtype:</b> int64</label>"
            ]
          },
          "metadata": {},
          "execution_count": 23
        }
      ],
      "source": [
        "valores_nulos=cuantitativas.isnull().sum()\n",
        "valores_nulos"
      ]
    },
    {
      "cell_type": "markdown",
      "metadata": {
        "id": "y_uO5-V0Ect9"
      },
      "source": [
        "### Limpieza var. cualitativas"
      ]
    },
    {
      "cell_type": "code",
      "execution_count": null,
      "metadata": {
        "id": "09h-YHw_EnpZ"
      },
      "outputs": [],
      "source": [
        "cualitativas['host_location']=cualitativas['host_location'].fillna('Unknown location')"
      ]
    },
    {
      "cell_type": "code",
      "execution_count": null,
      "metadata": {
        "id": "Ve3ITn9nE_fQ"
      },
      "outputs": [],
      "source": [
        "cualitativas['host_response_time']=cualitativas['host_response_time'].fillna('Unknown time')"
      ]
    },
    {
      "cell_type": "code",
      "execution_count": null,
      "metadata": {
        "id": "ydkRp_qgGkFj"
      },
      "outputs": [],
      "source": [
        "cualitativas['host_is_superhost']=cualitativas['host_response_time'].fillna('Unknown')"
      ]
    },
    {
      "cell_type": "code",
      "execution_count": null,
      "metadata": {
        "id": "2_G4krcGFGzO"
      },
      "outputs": [],
      "source": [
        "cualitativas['host_neighbourhood']=cualitativas['host_neighbourhood'].fillna('Unknown')"
      ]
    },
    {
      "cell_type": "code",
      "execution_count": null,
      "metadata": {
        "id": "_ooefaUYHAzf"
      },
      "outputs": [],
      "source": [
        "cualitativas['neighbourhood']=cualitativas['neighbourhood'].fillna('Unknown')"
      ]
    },
    {
      "cell_type": "code",
      "execution_count": null,
      "metadata": {
        "id": "UnRHNBdLHHTq"
      },
      "outputs": [],
      "source": [
        "cualitativas['has_availability']=cualitativas['has_availability'].fillna('Unknown')"
      ]
    },
    {
      "cell_type": "code",
      "execution_count": null,
      "metadata": {
        "colab": {
          "base_uri": "https://localhost:8080/",
          "height": 554
        },
        "id": "uIzn6GrSEfqp",
        "outputId": "250c4cbd-09f1-4e5f-d37e-1bde3f3594c7"
      },
      "outputs": [
        {
          "output_type": "execute_result",
          "data": {
            "text/plain": [
              "host_name                 0\n",
              "host_since                0\n",
              "host_location             0\n",
              "host_response_time        0\n",
              "host_is_superhost         0\n",
              "host_neighbourhood        0\n",
              "host_verifications        0\n",
              "host_has_profile_pic      0\n",
              "host_identity_verified    0\n",
              "neighbourhood             0\n",
              "neighbourhood_cleansed    0\n",
              "property_type             0\n",
              "room_type                 0\n",
              "has_availability          0\n",
              "instant_bookable          0\n",
              "dtype: int64"
            ],
            "text/html": [
              "<div>\n",
              "<style scoped>\n",
              "    .dataframe tbody tr th:only-of-type {\n",
              "        vertical-align: middle;\n",
              "    }\n",
              "\n",
              "    .dataframe tbody tr th {\n",
              "        vertical-align: top;\n",
              "    }\n",
              "\n",
              "    .dataframe thead th {\n",
              "        text-align: right;\n",
              "    }\n",
              "</style>\n",
              "<table border=\"1\" class=\"dataframe\">\n",
              "  <thead>\n",
              "    <tr style=\"text-align: right;\">\n",
              "      <th></th>\n",
              "      <th>0</th>\n",
              "    </tr>\n",
              "  </thead>\n",
              "  <tbody>\n",
              "    <tr>\n",
              "      <th>host_name</th>\n",
              "      <td>0</td>\n",
              "    </tr>\n",
              "    <tr>\n",
              "      <th>host_since</th>\n",
              "      <td>0</td>\n",
              "    </tr>\n",
              "    <tr>\n",
              "      <th>host_location</th>\n",
              "      <td>0</td>\n",
              "    </tr>\n",
              "    <tr>\n",
              "      <th>host_response_time</th>\n",
              "      <td>0</td>\n",
              "    </tr>\n",
              "    <tr>\n",
              "      <th>host_is_superhost</th>\n",
              "      <td>0</td>\n",
              "    </tr>\n",
              "    <tr>\n",
              "      <th>host_neighbourhood</th>\n",
              "      <td>0</td>\n",
              "    </tr>\n",
              "    <tr>\n",
              "      <th>host_verifications</th>\n",
              "      <td>0</td>\n",
              "    </tr>\n",
              "    <tr>\n",
              "      <th>host_has_profile_pic</th>\n",
              "      <td>0</td>\n",
              "    </tr>\n",
              "    <tr>\n",
              "      <th>host_identity_verified</th>\n",
              "      <td>0</td>\n",
              "    </tr>\n",
              "    <tr>\n",
              "      <th>neighbourhood</th>\n",
              "      <td>0</td>\n",
              "    </tr>\n",
              "    <tr>\n",
              "      <th>neighbourhood_cleansed</th>\n",
              "      <td>0</td>\n",
              "    </tr>\n",
              "    <tr>\n",
              "      <th>property_type</th>\n",
              "      <td>0</td>\n",
              "    </tr>\n",
              "    <tr>\n",
              "      <th>room_type</th>\n",
              "      <td>0</td>\n",
              "    </tr>\n",
              "    <tr>\n",
              "      <th>has_availability</th>\n",
              "      <td>0</td>\n",
              "    </tr>\n",
              "    <tr>\n",
              "      <th>instant_bookable</th>\n",
              "      <td>0</td>\n",
              "    </tr>\n",
              "  </tbody>\n",
              "</table>\n",
              "</div><br><label><b>dtype:</b> int64</label>"
            ]
          },
          "metadata": {},
          "execution_count": 31
        }
      ],
      "source": [
        "valores_nulos=cualitativas.isnull().sum()\n",
        "valores_nulos"
      ]
    },
    {
      "cell_type": "code",
      "source": [
        "cuantitativas.to_csv('Cuantitativas_Limpio.csv')"
      ],
      "metadata": {
        "id": "BRd9swTbH_Z0"
      },
      "execution_count": null,
      "outputs": []
    },
    {
      "cell_type": "code",
      "source": [
        "cualitativas.to_csv('Cualitativo_Limpio.csv')"
      ],
      "metadata": {
        "id": "nVUcA13sIRGc"
      },
      "execution_count": null,
      "outputs": []
    }
  ],
  "metadata": {
    "colab": {
      "provenance": [],
      "authorship_tag": "ABX9TyM3C0KguaZoQpu8dFFn6xZq",
      "include_colab_link": true
    },
    "kernelspec": {
      "display_name": "Python 3",
      "name": "python3"
    },
    "language_info": {
      "name": "python"
    }
  },
  "nbformat": 4,
  "nbformat_minor": 0
}