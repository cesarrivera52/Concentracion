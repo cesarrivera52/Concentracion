{
  "nbformat": 4,
  "nbformat_minor": 0,
  "metadata": {
    "colab": {
      "provenance": [],
      "authorship_tag": "ABX9TyNRyE22iX5yxcpCht4P9lx7",
      "include_colab_link": true
    },
    "kernelspec": {
      "name": "python3",
      "display_name": "Python 3"
    },
    "language_info": {
      "name": "python"
    }
  },
  "cells": [
    {
      "cell_type": "markdown",
      "metadata": {
        "id": "view-in-github",
        "colab_type": "text"
      },
      "source": [
        "<a href=\"https://colab.research.google.com/github/cesarrivera52/Concentracion2/blob/main/Algoritmos/Entrenamiento%26Evaluaci%C3%B3n/An%C3%A1lisisExactitud.ipynb\" target=\"_parent\"><img src=\"https://colab.research.google.com/assets/colab-badge.svg\" alt=\"Open In Colab\"/></a>"
      ]
    },
    {
      "cell_type": "code",
      "execution_count": 4,
      "metadata": {
        "colab": {
          "base_uri": "https://localhost:8080/"
        },
        "id": "3EsWBEUFXFlV",
        "outputId": "f76cd04b-2704-4e06-e569-7111adab8421"
      },
      "outputs": [
        {
          "output_type": "stream",
          "name": "stdout",
          "text": [
            "Conjunto de datos inicial: \n",
            "\n",
            " quality\n",
            "Cat_5    681\n",
            "Cat_7    199\n",
            "Name: count, dtype: int64\n"
          ]
        }
      ],
      "source": [
        "import pandas as pd\n",
        "from pandas import DataFrame\n",
        "\n",
        "setInicial=pd.read_csv('Vinos.csv')\n",
        "#Dividir el conjunto de datos y clase\n",
        "inicialDatos=setInicial.drop('quality',axis=1)\n",
        "inicialClase=setInicial['quality'] #clase\n",
        "\n",
        "print('Conjunto de datos inicial: \\n\\n',inicialClase.value_counts())\n"
      ]
    },
    {
      "cell_type": "markdown",
      "source": [
        "# Extraer conjunto de entrenamiento y conjunto de evaluación"
      ],
      "metadata": {
        "id": "vxSoEv2-ZoVC"
      }
    },
    {
      "cell_type": "code",
      "source": [
        "from sklearn.model_selection import train_test_split\n",
        "\n",
        "entrenamientoDatos, evaluacionDatos, entrenamientoClase, evaluacionClase=\\\n",
        "train_test_split(inicialDatos, inicialClase, test_size=0.3,stratify=inicialClase)\n",
        "\n",
        "print('Datos de entrenamiento: \\n',entrenamientoClase.value_counts())\n",
        "print('\\nDatos de evaluación: \\n',evaluacionClase.value_counts())"
      ],
      "metadata": {
        "colab": {
          "base_uri": "https://localhost:8080/"
        },
        "id": "SY5CfiBhZuoc",
        "outputId": "d5844722-cc67-4e02-89b5-546a53709a2c"
      },
      "execution_count": 22,
      "outputs": [
        {
          "output_type": "stream",
          "name": "stdout",
          "text": [
            "Datos de entrenamiento: \n",
            " quality\n",
            "Cat_5    477\n",
            "Cat_7    139\n",
            "Name: count, dtype: int64\n",
            "\n",
            "Datos de evaluación: \n",
            " quality\n",
            "Cat_5    204\n",
            "Cat_7     60\n",
            "Name: count, dtype: int64\n"
          ]
        }
      ]
    }
  ]
}