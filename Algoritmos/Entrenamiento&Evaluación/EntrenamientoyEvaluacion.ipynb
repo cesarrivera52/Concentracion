{
  "nbformat": 4,
  "nbformat_minor": 0,
  "metadata": {
    "colab": {
      "provenance": [],
      "authorship_tag": "ABX9TyNI0a52R9v62ZFT24HYXN28",
      "include_colab_link": true
    },
    "kernelspec": {
      "name": "python3",
      "display_name": "Python 3"
    },
    "language_info": {
      "name": "python"
    }
  },
  "cells": [
    {
      "cell_type": "markdown",
      "metadata": {
        "id": "view-in-github",
        "colab_type": "text"
      },
      "source": [
        "<a href=\"https://colab.research.google.com/github/cesarrivera52/Concentracion2/blob/main/Algoritmos/Entrenamiento%26Evaluaci%C3%B3n/EntrenamientoyEvaluacion.ipynb\" target=\"_parent\"><img src=\"https://colab.research.google.com/assets/colab-badge.svg\" alt=\"Open In Colab\"/></a>"
      ]
    },
    {
      "cell_type": "markdown",
      "source": [
        "# Punto 0 **Procesamiento de DATOS**"
      ],
      "metadata": {
        "id": "pyxh6y24WRn7"
      }
    },
    {
      "cell_type": "code",
      "execution_count": null,
      "metadata": {
        "colab": {
          "base_uri": "https://localhost:8080/"
        },
        "id": "qqR5dV_7V0ks",
        "outputId": "8f4252bc-5bda-4d7b-e12f-9c891175c776"
      },
      "outputs": [
        {
          "output_type": "stream",
          "name": "stdout",
          "text": [
            "Datos de entrenamiento:\n",
            "class\n",
            "tested_negative    437\n",
            "tested_positive    231\n",
            "Name: count, dtype: int64\n",
            "\n",
            "Datos de evaluación\n",
            "class\n",
            "tested_negative    63\n",
            "tested_positive    37\n",
            "Name: count, dtype: int64\n",
            "\n",
            "Nombres de los atributos: ['preg' 'plas' 'pres' 'skin' 'insu' 'mass' 'pedi' 'age']\n"
          ]
        }
      ],
      "source": [
        "import pandas as pd\n",
        "from pandas import DataFrame\n",
        "\n",
        "print(\"Datos de entrenamiento:\")\n",
        "entrenamiento = pd.read_csv('Diabetes-Entrenamiento.csv')\n",
        "\n",
        "datos_entrenamiento = entrenamiento.drop('class',axis=1)\n",
        "clases_entrenamiento = entrenamiento['class']\n",
        "print(clases_entrenamiento.value_counts())\n",
        "\n",
        "print(\"\\nDatos de evaluación\")\n",
        "evaluacion = pd.read_csv('Diabetes-Clasificacion.csv')\n",
        "\n",
        "datos_evaluacion = evaluacion.drop('class',axis=1)\n",
        "clases_evaluacion = evaluacion['class']\n",
        "print(clases_evaluacion.value_counts())\n",
        "\n",
        "nombresAtributos=datos_entrenamiento.columns.values\n",
        "print(\"\\nNombres de los atributos:\", nombresAtributos)"
      ]
    },
    {
      "cell_type": "markdown",
      "source": [
        "# Paso 1 **Generación del Modelo**"
      ],
      "metadata": {
        "id": "4ceokxtjX9gJ"
      }
    },
    {
      "cell_type": "markdown",
      "source": [
        "# Paso 2 **Evaluación**"
      ],
      "metadata": {
        "id": "VJBL2ah2d290"
      }
    },
    {
      "cell_type": "code",
      "source": [
        "from sklearn.tree import DecisionTreeClassifier\n",
        "from sklearn.metrics import accuracy_score\n",
        "\n",
        "profundidad=[1,2,3,4,5,6,7,8,9,10,11,12,13,14,15]\n",
        "exactitud=[]\n",
        "exactitudTrain=[]\n",
        "for x in profundidad:\n",
        "  clasificador=DecisionTreeClassifier(criterion='entropy', max_depth=x)\n",
        "\n",
        "\n",
        "  ##### Generar modelo\n",
        "  modelo=clasificador.fit(datos_entrenamiento,clases_entrenamiento)\n",
        "\n",
        "\n",
        "  ### Clasificacion\n",
        "  ClaseAsignada=modelo.predict(datos_evaluacion)\n",
        "  ClaseAsignadaTrain=modelo.predict(datos_entrenamiento)\n",
        "\n",
        "\n",
        "  ### Evaluar\n",
        "  exactitud.append(accuracy_score(clases_evaluacion,ClaseAsignada))\n",
        "  exactitudTrain.append(accuracy_score(clases_entrenamiento,ClaseAsignadaTrain))\n",
        "\n",
        "\n",
        "import matplotlib.pyplot as plt\n",
        "plt.plot(profundidad,exactitudTrain,color='red')\n",
        "plt.plot(profundidad,exactitud,color='green')\n",
        "plt.ylim(0,1)\n",
        "plt.show()\n"
      ],
      "metadata": {
        "colab": {
          "base_uri": "https://localhost:8080/",
          "height": 435
        },
        "id": "4PJ5HhZGR0tA",
        "outputId": "dd029a71-77d9-45a8-f8a4-8e97cd48f2d6"
      },
      "execution_count": null,
      "outputs": [
        {
          "output_type": "display_data",
          "data": {
            "text/plain": [
              "<Figure size 640x480 with 1 Axes>"
            ],
            "image/png": "[encoded data removed]"
          },
          "metadata": {}
        }
      ]
    }
  ]
}