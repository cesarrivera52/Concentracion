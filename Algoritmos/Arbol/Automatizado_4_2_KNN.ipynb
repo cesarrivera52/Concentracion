{
  "nbformat": 4,
  "nbformat_minor": 0,
  "metadata": {
    "colab": {
      "provenance": [],
      "authorship_tag": "ABX9TyNJ7td1f3tJrVDnjEpK9cmK",
      "include_colab_link": true
    },
    "kernelspec": {
      "name": "python3",
      "display_name": "Python 3"
    },
    "language_info": {
      "name": "python"
    }
  },
  "cells": [
    {
      "cell_type": "markdown",
      "metadata": {
        "id": "view-in-github",
        "colab_type": "text"
      },
      "source": [
        "<a href=\"https://colab.research.google.com/github/cesarrivera52/Concentracion2/blob/main/Algoritmos/Arbol/Automatizado_4_2_KNN.ipynb\" target=\"_parent\"><img src=\"https://colab.research.google.com/assets/colab-badge.svg\" alt=\"Open In Colab\"/></a>"
      ]
    },
    {
      "cell_type": "markdown",
      "source": [
        "# Punto 0 **Procesamiento de DATOS**"
      ],
      "metadata": {
        "id": "sCEiQtnF0WaY"
      }
    },
    {
      "cell_type": "code",
      "execution_count": null,
      "metadata": {
        "id": "hGfN2oiSyl9X",
        "colab": {
          "base_uri": "https://localhost:8080/",
          "height": 414
        },
        "outputId": "90bd7b6e-9534-4ac9-d631-14489b55e233"
      },
      "outputs": [
        {
          "output_type": "stream",
          "name": "stdout",
          "text": [
            "   preg  plas  pres  skin  insu  mass   pedi  age\n",
            "0     3   158    76    36   245  31.6  0.851   28\n",
            "1     1   117    60    23   106  33.8  0.466   27\n",
            "2     1   107    50    19     0  28.3  0.181   29\n",
            "3     1    90    62    12    43  27.2  0.580   24\n",
            "4     2    88    58    26    16  28.4  0.766   22\n",
            " \n",
            "0    tested_positive\n",
            "1    tested_negative\n",
            "2    tested_negative\n",
            "3    tested_negative\n",
            "4    tested_negative\n",
            "Name: class, dtype: object\n",
            " \n"
          ]
        },
        {
          "output_type": "execute_result",
          "data": {
            "text/plain": [
              "class\n",
              "tested_negative    437\n",
              "tested_positive    231\n",
              "Name: count, dtype: int64"
            ],
            "text/html": [
              "<div>\n",
              "<style scoped>\n",
              "    .dataframe tbody tr th:only-of-type {\n",
              "        vertical-align: middle;\n",
              "    }\n",
              "\n",
              "    .dataframe tbody tr th {\n",
              "        vertical-align: top;\n",
              "    }\n",
              "\n",
              "    .dataframe thead th {\n",
              "        text-align: right;\n",
              "    }\n",
              "</style>\n",
              "<table border=\"1\" class=\"dataframe\">\n",
              "  <thead>\n",
              "    <tr style=\"text-align: right;\">\n",
              "      <th></th>\n",
              "      <th>count</th>\n",
              "    </tr>\n",
              "    <tr>\n",
              "      <th>class</th>\n",
              "      <th></th>\n",
              "    </tr>\n",
              "  </thead>\n",
              "  <tbody>\n",
              "    <tr>\n",
              "      <th>tested_negative</th>\n",
              "      <td>437</td>\n",
              "    </tr>\n",
              "    <tr>\n",
              "      <th>tested_positive</th>\n",
              "      <td>231</td>\n",
              "    </tr>\n",
              "  </tbody>\n",
              "</table>\n",
              "</div><br><label><b>dtype:</b> int64</label>"
            ]
          },
          "metadata": {},
          "execution_count": 7
        }
      ],
      "source": [
        "import pandas as pd\n",
        "from pandas import DataFrame\n",
        "\n",
        "Entrenamiento=pd.read_csv('Diabetes-Entrenamiento.csv')\n",
        "\n",
        "DatosEntrenamiento=Entrenamiento.drop('class',axis=1)\n",
        "ClasesEntrenamientos=Entrenamiento['class']\n",
        "\n",
        "print(DatosEntrenamiento.head())\n",
        "print(' ')\n",
        "print(ClasesEntrenamientos.head())\n",
        "print(' ')\n",
        "ClasesEntrenamientos.value_counts()"
      ]
    },
    {
      "cell_type": "markdown",
      "source": [
        "# Punto 1 **Modelo**\n",
        "\n",
        "Datos del modelo\n",
        "\n",
        "Entrenamiento"
      ],
      "metadata": {
        "id": "II-h93if0mQ0"
      }
    },
    {
      "cell_type": "code",
      "source": [
        "from sklearn.neighbors import KNeighborsClassifier #Permite utilizar el clasificador K-NN\n",
        "\n",
        "#1. Datos del modelo\n",
        "clasificador= KNeighborsClassifier(n_neighbors=7) #Si no se le agrega nada dentro de los parentesis, por defecto es la distancia euclidiana y k=5\n",
        "print(clasificador)\n",
        "\n",
        "#2. Entrenamiento\n",
        "# funcion .fit(datos,clase)\n",
        "modelo=clasificador.fit(DatosEntrenamiento,ClasesEntrenamientos) #Se tiene que agregar dentro de los paréntesis los datos a trabajar"
      ],
      "metadata": {
        "colab": {
          "base_uri": "https://localhost:8080/"
        },
        "id": "-Vrt4Xax0rUH",
        "outputId": "c9de5c8a-8963-40cc-b047-357983a34993"
      },
      "execution_count": null,
      "outputs": [
        {
          "output_type": "stream",
          "name": "stdout",
          "text": [
            "KNeighborsClassifier(n_neighbors=7)\n"
          ]
        }
      ]
    },
    {
      "cell_type": "markdown",
      "source": [
        "# Punto 2 **Clasificación**"
      ],
      "metadata": {
        "id": "UeJSDE6j2kqd"
      }
    },
    {
      "cell_type": "code",
      "source": [
        "Clasificacion=pd.read_csv('Diabetes-Clasificacion.csv')\n",
        "\n",
        "DatosClasificacion=Clasificacion.drop('class',axis=1)\n",
        "ClasesClasificacion=Clasificacion['class']\n",
        "print(DatosClasificacion.head())\n",
        "print(' ')\n",
        "print(ClasesClasificacion.head())\n",
        "print(' ')\n",
        "ClasesClasificacion.value_counts()"
      ],
      "metadata": {
        "colab": {
          "base_uri": "https://localhost:8080/",
          "height": 414
        },
        "id": "JUOSP9-K2wlu",
        "outputId": "c00929dc-2ec6-4af0-df42-906ee7aa869c"
      },
      "execution_count": null,
      "outputs": [
        {
          "output_type": "stream",
          "name": "stdout",
          "text": [
            "   preg  plas  pres  skin  insu  mass   pedi  age\n",
            "0     3   163    70    18   105  31.6  0.268   28\n",
            "1     1   116    78    29   180  36.1  0.496   25\n",
            "2     5   109    62    41   129  35.8  0.514   25\n",
            "3     4    94    65    22     0  24.7  0.148   21\n",
            "4     7   105     0     0     0   0.0  0.305   24\n",
            " \n",
            "0    tested_positive\n",
            "1    tested_negative\n",
            "2    tested_positive\n",
            "3    tested_negative\n",
            "4    tested_negative\n",
            "Name: class, dtype: object\n",
            " \n"
          ]
        },
        {
          "output_type": "execute_result",
          "data": {
            "text/plain": [
              "class\n",
              "tested_negative    63\n",
              "tested_positive    37\n",
              "Name: count, dtype: int64"
            ],
            "text/html": [
              "<div>\n",
              "<style scoped>\n",
              "    .dataframe tbody tr th:only-of-type {\n",
              "        vertical-align: middle;\n",
              "    }\n",
              "\n",
              "    .dataframe tbody tr th {\n",
              "        vertical-align: top;\n",
              "    }\n",
              "\n",
              "    .dataframe thead th {\n",
              "        text-align: right;\n",
              "    }\n",
              "</style>\n",
              "<table border=\"1\" class=\"dataframe\">\n",
              "  <thead>\n",
              "    <tr style=\"text-align: right;\">\n",
              "      <th></th>\n",
              "      <th>count</th>\n",
              "    </tr>\n",
              "    <tr>\n",
              "      <th>class</th>\n",
              "      <th></th>\n",
              "    </tr>\n",
              "  </thead>\n",
              "  <tbody>\n",
              "    <tr>\n",
              "      <th>tested_negative</th>\n",
              "      <td>63</td>\n",
              "    </tr>\n",
              "    <tr>\n",
              "      <th>tested_positive</th>\n",
              "      <td>37</td>\n",
              "    </tr>\n",
              "  </tbody>\n",
              "</table>\n",
              "</div><br><label><b>dtype:</b> int64</label>"
            ]
          },
          "metadata": {},
          "execution_count": 36
        }
      ]
    },
    {
      "cell_type": "markdown",
      "source": [
        "## Clasificacion de la primera instancia\n",
        "\n"
      ],
      "metadata": {
        "id": "MkUHT5Su3VP0"
      }
    },
    {
      "cell_type": "code",
      "source": [
        "instancia=DatosClasificacion.iloc[[0]]\n",
        "#Usa la función predict para determinar la clase asignada\n",
        "ClaseAsignada= modelo.predict(instancia)\n",
        "print('Predicción Clase Asignada: ',ClaseAsignada,'\\nReal:  ',ClasesClasificacion.iloc[0])\n",
        "\n",
        "#Vecinos\n",
        "#Retorna un arreglo con las distancias, y otro con los\n",
        "#indices de los vecinos más cercanos\n",
        "Vecinos= modelo.kneighbors(instancia)\n",
        "print('Distancias Euclidianas:  ',Vecinos[0])\n"
      ],
      "metadata": {
        "colab": {
          "base_uri": "https://localhost:8080/"
        },
        "id": "8ao2m1PG29nU",
        "outputId": "6be34bf3-5a24-42df-9475-cea2bba1edc8"
      },
      "execution_count": null,
      "outputs": [
        {
          "output_type": "stream",
          "name": "stdout",
          "text": [
            "Predicción Clase Asignada:  ['tested_positive'] \n",
            "Real:   tested_positive\n",
            "Distancias Euclidianas:   [[13.74871721 21.56130794 25.02778009 25.08577766 25.28835337 31.78516259\n",
            "  32.55782726]]\n"
          ]
        }
      ]
    },
    {
      "cell_type": "code",
      "source": [
        "for x in Vecinos[1]:\n",
        "  print(ClasesEntrenamientos.iloc[x])"
      ],
      "metadata": {
        "colab": {
          "base_uri": "https://localhost:8080/"
        },
        "id": "EiVljie95gEw",
        "outputId": "16829670-b148-4591-8a50-bffa044379f6"
      },
      "execution_count": null,
      "outputs": [
        {
          "output_type": "stream",
          "name": "stdout",
          "text": [
            "121    tested_positive\n",
            "557    tested_positive\n",
            "433    tested_negative\n",
            "147    tested_negative\n",
            "623    tested_negative\n",
            "248    tested_positive\n",
            "296    tested_positive\n",
            "Name: class, dtype: object\n"
          ]
        }
      ]
    },
    {
      "cell_type": "markdown",
      "source": [
        "## Clasificicar varias instancias"
      ],
      "metadata": {
        "id": "KYBqg2zuAwbB"
      }
    },
    {
      "cell_type": "code",
      "source": [
        "Clases=modelo.predict(DatosClasificacion)\n",
        "\n",
        "cont=0\n",
        "\n",
        "for x in range(len(Clases)):\n",
        "  if Clases[x]==ClasesClasificacion.iloc[x]:\n",
        "    cont+=1\n",
        "print((cont/len(Clases))*100,'% de aceptación')"
      ],
      "metadata": {
        "colab": {
          "base_uri": "https://localhost:8080/"
        },
        "id": "OwIe7q6MAwIF",
        "outputId": "3da6d94b-4ffe-4357-8e8f-8fa6344119d0"
      },
      "execution_count": null,
      "outputs": [
        {
          "output_type": "stream",
          "name": "stdout",
          "text": [
            "74.0 % de aceptación\n"
          ]
        }
      ]
    }
  ]
}