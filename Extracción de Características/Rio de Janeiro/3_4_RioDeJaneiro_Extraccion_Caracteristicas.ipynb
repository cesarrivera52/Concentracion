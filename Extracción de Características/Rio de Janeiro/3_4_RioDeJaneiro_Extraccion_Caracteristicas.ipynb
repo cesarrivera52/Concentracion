{
  "nbformat": 4,
  "nbformat_minor": 0,
  "metadata": {
    "colab": {
      "provenance": [],
      "authorship_tag": "ABX9TyNMJItRejUmgzYuyzSZieCM",
      "include_colab_link": true
    },
    "kernelspec": {
      "name": "python3",
      "display_name": "Python 3"
    },
    "language_info": {
      "name": "python"
    }
  },
  "cells": [
    {
      "cell_type": "markdown",
      "metadata": {
        "id": "view-in-github",
        "colab_type": "text"
      },
      "source": [
        "<a href=\"https://colab.research.google.com/github/cesarrivera52/Concentracion2/blob/main/Extracci%C3%B3n%20de%20Caracter%C3%ADsticas/Rio%20de%20Janeiro/3_4_RioDeJaneiro_Extraccion_Caracteristicas.ipynb\" target=\"_parent\"><img src=\"https://colab.research.google.com/assets/colab-badge.svg\" alt=\"Open In Colab\"/></a>"
      ]
    },
    {
      "cell_type": "markdown",
      "source": [
        "# Paso 0 **Cargar info y librerias**"
      ],
      "metadata": {
        "id": "WWUaWmFrbund"
      }
    },
    {
      "cell_type": "code",
      "source": [
        "#Instalamos librebria para analisis de variables categoricas\n",
        "%pip install funpymodeling"
      ],
      "metadata": {
        "colab": {
          "base_uri": "https://localhost:8080/"
        },
        "id": "iIxz0D0JpAiL",
        "outputId": "ddcc7a13-0391-49ae-bcbf-112dc2a0e847",
        "collapsed": true
      },
      "execution_count": 86,
      "outputs": [
        {
          "output_type": "stream",
          "name": "stdout",
          "text": [
            "Requirement already satisfied: funpymodeling in /usr/local/lib/python3.10/dist-packages (0.1.9)\n",
            "Requirement already satisfied: flake8<7.0.0,>=6.0.0 in /usr/local/lib/python3.10/dist-packages (from funpymodeling) (6.1.0)\n",
            "Requirement already satisfied: jupyter<2.0.0,>=1.0.0 in /usr/local/lib/python3.10/dist-packages (from funpymodeling) (1.1.1)\n",
            "Requirement already satisfied: matplotlib<4.0.0,>=3.7.1 in /usr/local/lib/python3.10/dist-packages (from funpymodeling) (3.7.1)\n",
            "Requirement already satisfied: numpy<2.0.0,>=1.26.2 in /usr/local/lib/python3.10/dist-packages (from funpymodeling) (1.26.4)\n",
            "Requirement already satisfied: pandas<3.0.0,>=2.1.4 in /usr/local/lib/python3.10/dist-packages (from funpymodeling) (2.1.4)\n",
            "Requirement already satisfied: pre-commit<4.0.0,>=3.3.2 in /usr/local/lib/python3.10/dist-packages (from funpymodeling) (3.8.0)\n",
            "Requirement already satisfied: pytest<8.0.0,>=7.3.1 in /usr/local/lib/python3.10/dist-packages (from funpymodeling) (7.4.4)\n",
            "Requirement already satisfied: scikit-learn<2.0.0,>=1.2.2 in /usr/local/lib/python3.10/dist-packages (from funpymodeling) (1.5.2)\n",
            "Requirement already satisfied: seaborn<0.13.0,>=0.12.2 in /usr/local/lib/python3.10/dist-packages (from funpymodeling) (0.12.2)\n",
            "Requirement already satisfied: typing-extensions<5.0.0,>=4.6.3 in /usr/local/lib/python3.10/dist-packages (from funpymodeling) (4.12.2)\n",
            "Requirement already satisfied: mccabe<0.8.0,>=0.7.0 in /usr/local/lib/python3.10/dist-packages (from flake8<7.0.0,>=6.0.0->funpymodeling) (0.7.0)\n",
            "Requirement already satisfied: pycodestyle<2.12.0,>=2.11.0 in /usr/local/lib/python3.10/dist-packages (from flake8<7.0.0,>=6.0.0->funpymodeling) (2.11.1)\n",
            "Requirement already satisfied: pyflakes<3.2.0,>=3.1.0 in /usr/local/lib/python3.10/dist-packages (from flake8<7.0.0,>=6.0.0->funpymodeling) (3.1.0)\n",
            "Requirement already satisfied: notebook in /usr/local/lib/python3.10/dist-packages (from jupyter<2.0.0,>=1.0.0->funpymodeling) (6.5.5)\n",
            "Requirement already satisfied: jupyter-console in /usr/local/lib/python3.10/dist-packages (from jupyter<2.0.0,>=1.0.0->funpymodeling) (6.1.0)\n",
            "Requirement already satisfied: nbconvert in /usr/local/lib/python3.10/dist-packages (from jupyter<2.0.0,>=1.0.0->funpymodeling) (6.5.4)\n",
            "Requirement already satisfied: ipykernel in /usr/local/lib/python3.10/dist-packages (from jupyter<2.0.0,>=1.0.0->funpymodeling) (6.29.5)\n",
            "Requirement already satisfied: ipywidgets in /usr/local/lib/python3.10/dist-packages (from jupyter<2.0.0,>=1.0.0->funpymodeling) (7.7.1)\n",
            "Requirement already satisfied: jupyterlab in /usr/local/lib/python3.10/dist-packages (from jupyter<2.0.0,>=1.0.0->funpymodeling) (4.2.5)\n",
            "Requirement already satisfied: contourpy>=1.0.1 in /usr/local/lib/python3.10/dist-packages (from matplotlib<4.0.0,>=3.7.1->funpymodeling) (1.3.0)\n",
            "Requirement already satisfied: cycler>=0.10 in /usr/local/lib/python3.10/dist-packages (from matplotlib<4.0.0,>=3.7.1->funpymodeling) (0.12.1)\n",
            "Requirement already satisfied: fonttools>=4.22.0 in /usr/local/lib/python3.10/dist-packages (from matplotlib<4.0.0,>=3.7.1->funpymodeling) (4.53.1)\n",
            "Requirement already satisfied: kiwisolver>=1.0.1 in /usr/local/lib/python3.10/dist-packages (from matplotlib<4.0.0,>=3.7.1->funpymodeling) (1.4.7)\n",
            "Requirement already satisfied: packaging>=20.0 in /usr/local/lib/python3.10/dist-packages (from matplotlib<4.0.0,>=3.7.1->funpymodeling) (24.1)\n",
            "Requirement already satisfied: pillow>=6.2.0 in /usr/local/lib/python3.10/dist-packages (from matplotlib<4.0.0,>=3.7.1->funpymodeling) (10.4.0)\n",
            "Requirement already satisfied: pyparsing>=2.3.1 in /usr/local/lib/python3.10/dist-packages (from matplotlib<4.0.0,>=3.7.1->funpymodeling) (3.1.4)\n",
            "Requirement already satisfied: python-dateutil>=2.7 in /usr/local/lib/python3.10/dist-packages (from matplotlib<4.0.0,>=3.7.1->funpymodeling) (2.8.2)\n",
            "Requirement already satisfied: pytz>=2020.1 in /usr/local/lib/python3.10/dist-packages (from pandas<3.0.0,>=2.1.4->funpymodeling) (2024.2)\n",
            "Requirement already satisfied: tzdata>=2022.1 in /usr/local/lib/python3.10/dist-packages (from pandas<3.0.0,>=2.1.4->funpymodeling) (2024.1)\n",
            "Requirement already satisfied: cfgv>=2.0.0 in /usr/local/lib/python3.10/dist-packages (from pre-commit<4.0.0,>=3.3.2->funpymodeling) (3.4.0)\n",
            "Requirement already satisfied: identify>=1.0.0 in /usr/local/lib/python3.10/dist-packages (from pre-commit<4.0.0,>=3.3.2->funpymodeling) (2.6.1)\n",
            "Requirement already satisfied: nodeenv>=0.11.1 in /usr/local/lib/python3.10/dist-packages (from pre-commit<4.0.0,>=3.3.2->funpymodeling) (1.9.1)\n",
            "Requirement already satisfied: pyyaml>=5.1 in /usr/local/lib/python3.10/dist-packages (from pre-commit<4.0.0,>=3.3.2->funpymodeling) (6.0.2)\n",
            "Requirement already satisfied: virtualenv>=20.10.0 in /usr/local/lib/python3.10/dist-packages (from pre-commit<4.0.0,>=3.3.2->funpymodeling) (20.26.6)\n",
            "Requirement already satisfied: iniconfig in /usr/local/lib/python3.10/dist-packages (from pytest<8.0.0,>=7.3.1->funpymodeling) (2.0.0)\n",
            "Requirement already satisfied: pluggy<2.0,>=0.12 in /usr/local/lib/python3.10/dist-packages (from pytest<8.0.0,>=7.3.1->funpymodeling) (1.5.0)\n",
            "Requirement already satisfied: exceptiongroup>=1.0.0rc8 in /usr/local/lib/python3.10/dist-packages (from pytest<8.0.0,>=7.3.1->funpymodeling) (1.2.2)\n",
            "Requirement already satisfied: tomli>=1.0.0 in /usr/local/lib/python3.10/dist-packages (from pytest<8.0.0,>=7.3.1->funpymodeling) (2.0.1)\n",
            "Requirement already satisfied: scipy>=1.6.0 in /usr/local/lib/python3.10/dist-packages (from scikit-learn<2.0.0,>=1.2.2->funpymodeling) (1.13.1)\n",
            "Requirement already satisfied: joblib>=1.2.0 in /usr/local/lib/python3.10/dist-packages (from scikit-learn<2.0.0,>=1.2.2->funpymodeling) (1.4.2)\n",
            "Requirement already satisfied: threadpoolctl>=3.1.0 in /usr/local/lib/python3.10/dist-packages (from scikit-learn<2.0.0,>=1.2.2->funpymodeling) (3.5.0)\n",
            "Requirement already satisfied: six>=1.5 in /usr/local/lib/python3.10/dist-packages (from python-dateutil>=2.7->matplotlib<4.0.0,>=3.7.1->funpymodeling) (1.16.0)\n",
            "Requirement already satisfied: distlib<1,>=0.3.7 in /usr/local/lib/python3.10/dist-packages (from virtualenv>=20.10.0->pre-commit<4.0.0,>=3.3.2->funpymodeling) (0.3.8)\n",
            "Requirement already satisfied: filelock<4,>=3.12.2 in /usr/local/lib/python3.10/dist-packages (from virtualenv>=20.10.0->pre-commit<4.0.0,>=3.3.2->funpymodeling) (3.16.1)\n",
            "Requirement already satisfied: platformdirs<5,>=3.9.1 in /usr/local/lib/python3.10/dist-packages (from virtualenv>=20.10.0->pre-commit<4.0.0,>=3.3.2->funpymodeling) (4.3.6)\n",
            "Requirement already satisfied: comm>=0.1.1 in /usr/local/lib/python3.10/dist-packages (from ipykernel->jupyter<2.0.0,>=1.0.0->funpymodeling) (0.2.2)\n",
            "Requirement already satisfied: debugpy>=1.6.5 in /usr/local/lib/python3.10/dist-packages (from ipykernel->jupyter<2.0.0,>=1.0.0->funpymodeling) (1.6.6)\n",
            "Requirement already satisfied: ipython>=7.23.1 in /usr/local/lib/python3.10/dist-packages (from ipykernel->jupyter<2.0.0,>=1.0.0->funpymodeling) (7.34.0)\n",
            "Requirement already satisfied: jupyter-client>=6.1.12 in /usr/local/lib/python3.10/dist-packages (from ipykernel->jupyter<2.0.0,>=1.0.0->funpymodeling) (7.4.9)\n",
            "Requirement already satisfied: jupyter-core!=5.0.*,>=4.12 in /usr/local/lib/python3.10/dist-packages (from ipykernel->jupyter<2.0.0,>=1.0.0->funpymodeling) (5.7.2)\n",
            "Requirement already satisfied: matplotlib-inline>=0.1 in /usr/local/lib/python3.10/dist-packages (from ipykernel->jupyter<2.0.0,>=1.0.0->funpymodeling) (0.1.7)\n",
            "Requirement already satisfied: nest-asyncio in /usr/local/lib/python3.10/dist-packages (from ipykernel->jupyter<2.0.0,>=1.0.0->funpymodeling) (1.6.0)\n",
            "Requirement already satisfied: psutil in /usr/local/lib/python3.10/dist-packages (from ipykernel->jupyter<2.0.0,>=1.0.0->funpymodeling) (5.9.5)\n",
            "Requirement already satisfied: pyzmq>=24 in /usr/local/lib/python3.10/dist-packages (from ipykernel->jupyter<2.0.0,>=1.0.0->funpymodeling) (24.0.1)\n",
            "Requirement already satisfied: tornado>=6.1 in /usr/local/lib/python3.10/dist-packages (from ipykernel->jupyter<2.0.0,>=1.0.0->funpymodeling) (6.3.3)\n",
            "Requirement already satisfied: traitlets>=5.4.0 in /usr/local/lib/python3.10/dist-packages (from ipykernel->jupyter<2.0.0,>=1.0.0->funpymodeling) (5.7.1)\n",
            "Requirement already satisfied: ipython-genutils~=0.2.0 in /usr/local/lib/python3.10/dist-packages (from ipywidgets->jupyter<2.0.0,>=1.0.0->funpymodeling) (0.2.0)\n",
            "Requirement already satisfied: widgetsnbextension~=3.6.0 in /usr/local/lib/python3.10/dist-packages (from ipywidgets->jupyter<2.0.0,>=1.0.0->funpymodeling) (3.6.9)\n",
            "Requirement already satisfied: jupyterlab-widgets>=1.0.0 in /usr/local/lib/python3.10/dist-packages (from ipywidgets->jupyter<2.0.0,>=1.0.0->funpymodeling) (3.0.13)\n",
            "Requirement already satisfied: prompt-toolkit!=3.0.0,!=3.0.1,<3.1.0,>=2.0.0 in /usr/local/lib/python3.10/dist-packages (from jupyter-console->jupyter<2.0.0,>=1.0.0->funpymodeling) (3.0.47)\n",
            "Requirement already satisfied: pygments in /usr/local/lib/python3.10/dist-packages (from jupyter-console->jupyter<2.0.0,>=1.0.0->funpymodeling) (2.18.0)\n",
            "Requirement already satisfied: async-lru>=1.0.0 in /usr/local/lib/python3.10/dist-packages (from jupyterlab->jupyter<2.0.0,>=1.0.0->funpymodeling) (2.0.4)\n",
            "Requirement already satisfied: httpx>=0.25.0 in /usr/local/lib/python3.10/dist-packages (from jupyterlab->jupyter<2.0.0,>=1.0.0->funpymodeling) (0.27.2)\n",
            "Requirement already satisfied: jinja2>=3.0.3 in /usr/local/lib/python3.10/dist-packages (from jupyterlab->jupyter<2.0.0,>=1.0.0->funpymodeling) (3.1.4)\n",
            "Requirement already satisfied: jupyter-lsp>=2.0.0 in /usr/local/lib/python3.10/dist-packages (from jupyterlab->jupyter<2.0.0,>=1.0.0->funpymodeling) (2.2.5)\n",
            "Requirement already satisfied: jupyter-server<3,>=2.4.0 in /usr/local/lib/python3.10/dist-packages (from jupyterlab->jupyter<2.0.0,>=1.0.0->funpymodeling) (2.14.2)\n",
            "Requirement already satisfied: jupyterlab-server<3,>=2.27.1 in /usr/local/lib/python3.10/dist-packages (from jupyterlab->jupyter<2.0.0,>=1.0.0->funpymodeling) (2.27.3)\n",
            "Requirement already satisfied: notebook-shim>=0.2 in /usr/local/lib/python3.10/dist-packages (from jupyterlab->jupyter<2.0.0,>=1.0.0->funpymodeling) (0.2.4)\n",
            "Requirement already satisfied: setuptools>=40.1.0 in /usr/local/lib/python3.10/dist-packages (from jupyterlab->jupyter<2.0.0,>=1.0.0->funpymodeling) (71.0.4)\n",
            "Requirement already satisfied: lxml in /usr/local/lib/python3.10/dist-packages (from nbconvert->jupyter<2.0.0,>=1.0.0->funpymodeling) (4.9.4)\n",
            "Requirement already satisfied: beautifulsoup4 in /usr/local/lib/python3.10/dist-packages (from nbconvert->jupyter<2.0.0,>=1.0.0->funpymodeling) (4.12.3)\n",
            "Requirement already satisfied: bleach in /usr/local/lib/python3.10/dist-packages (from nbconvert->jupyter<2.0.0,>=1.0.0->funpymodeling) (6.1.0)\n",
            "Requirement already satisfied: defusedxml in /usr/local/lib/python3.10/dist-packages (from nbconvert->jupyter<2.0.0,>=1.0.0->funpymodeling) (0.7.1)\n",
            "Requirement already satisfied: entrypoints>=0.2.2 in /usr/local/lib/python3.10/dist-packages (from nbconvert->jupyter<2.0.0,>=1.0.0->funpymodeling) (0.4)\n",
            "Requirement already satisfied: jupyterlab-pygments in /usr/local/lib/python3.10/dist-packages (from nbconvert->jupyter<2.0.0,>=1.0.0->funpymodeling) (0.3.0)\n",
            "Requirement already satisfied: MarkupSafe>=2.0 in /usr/local/lib/python3.10/dist-packages (from nbconvert->jupyter<2.0.0,>=1.0.0->funpymodeling) (2.1.5)\n",
            "Requirement already satisfied: mistune<2,>=0.8.1 in /usr/local/lib/python3.10/dist-packages (from nbconvert->jupyter<2.0.0,>=1.0.0->funpymodeling) (0.8.4)\n",
            "Requirement already satisfied: nbclient>=0.5.0 in /usr/local/lib/python3.10/dist-packages (from nbconvert->jupyter<2.0.0,>=1.0.0->funpymodeling) (0.10.0)\n",
            "Requirement already satisfied: nbformat>=5.1 in /usr/local/lib/python3.10/dist-packages (from nbconvert->jupyter<2.0.0,>=1.0.0->funpymodeling) (5.10.4)\n",
            "Requirement already satisfied: pandocfilters>=1.4.1 in /usr/local/lib/python3.10/dist-packages (from nbconvert->jupyter<2.0.0,>=1.0.0->funpymodeling) (1.5.1)\n",
            "Requirement already satisfied: tinycss2 in /usr/local/lib/python3.10/dist-packages (from nbconvert->jupyter<2.0.0,>=1.0.0->funpymodeling) (1.3.0)\n",
            "Requirement already satisfied: argon2-cffi in /usr/local/lib/python3.10/dist-packages (from notebook->jupyter<2.0.0,>=1.0.0->funpymodeling) (23.1.0)\n",
            "Requirement already satisfied: Send2Trash>=1.8.0 in /usr/local/lib/python3.10/dist-packages (from notebook->jupyter<2.0.0,>=1.0.0->funpymodeling) (1.8.3)\n",
            "Requirement already satisfied: terminado>=0.8.3 in /usr/local/lib/python3.10/dist-packages (from notebook->jupyter<2.0.0,>=1.0.0->funpymodeling) (0.18.1)\n",
            "Requirement already satisfied: prometheus-client in /usr/local/lib/python3.10/dist-packages (from notebook->jupyter<2.0.0,>=1.0.0->funpymodeling) (0.21.0)\n",
            "Requirement already satisfied: nbclassic>=0.4.7 in /usr/local/lib/python3.10/dist-packages (from notebook->jupyter<2.0.0,>=1.0.0->funpymodeling) (1.1.0)\n",
            "Requirement already satisfied: anyio in /usr/local/lib/python3.10/dist-packages (from httpx>=0.25.0->jupyterlab->jupyter<2.0.0,>=1.0.0->funpymodeling) (3.7.1)\n",
            "Requirement already satisfied: certifi in /usr/local/lib/python3.10/dist-packages (from httpx>=0.25.0->jupyterlab->jupyter<2.0.0,>=1.0.0->funpymodeling) (2024.8.30)\n",
            "Requirement already satisfied: httpcore==1.* in /usr/local/lib/python3.10/dist-packages (from httpx>=0.25.0->jupyterlab->jupyter<2.0.0,>=1.0.0->funpymodeling) (1.0.5)\n",
            "Requirement already satisfied: idna in /usr/local/lib/python3.10/dist-packages (from httpx>=0.25.0->jupyterlab->jupyter<2.0.0,>=1.0.0->funpymodeling) (3.10)\n",
            "Requirement already satisfied: sniffio in /usr/local/lib/python3.10/dist-packages (from httpx>=0.25.0->jupyterlab->jupyter<2.0.0,>=1.0.0->funpymodeling) (1.3.1)\n",
            "Requirement already satisfied: h11<0.15,>=0.13 in /usr/local/lib/python3.10/dist-packages (from httpcore==1.*->httpx>=0.25.0->jupyterlab->jupyter<2.0.0,>=1.0.0->funpymodeling) (0.14.0)\n",
            "Requirement already satisfied: jedi>=0.16 in /usr/local/lib/python3.10/dist-packages (from ipython>=7.23.1->ipykernel->jupyter<2.0.0,>=1.0.0->funpymodeling) (0.19.1)\n",
            "Requirement already satisfied: decorator in /usr/local/lib/python3.10/dist-packages (from ipython>=7.23.1->ipykernel->jupyter<2.0.0,>=1.0.0->funpymodeling) (4.4.2)\n",
            "Requirement already satisfied: pickleshare in /usr/local/lib/python3.10/dist-packages (from ipython>=7.23.1->ipykernel->jupyter<2.0.0,>=1.0.0->funpymodeling) (0.7.5)\n",
            "Requirement already satisfied: backcall in /usr/local/lib/python3.10/dist-packages (from ipython>=7.23.1->ipykernel->jupyter<2.0.0,>=1.0.0->funpymodeling) (0.2.0)\n",
            "Requirement already satisfied: pexpect>4.3 in /usr/local/lib/python3.10/dist-packages (from ipython>=7.23.1->ipykernel->jupyter<2.0.0,>=1.0.0->funpymodeling) (4.9.0)\n",
            "Requirement already satisfied: jupyter-events>=0.9.0 in /usr/local/lib/python3.10/dist-packages (from jupyter-server<3,>=2.4.0->jupyterlab->jupyter<2.0.0,>=1.0.0->funpymodeling) (0.10.0)\n",
            "Requirement already satisfied: jupyter-server-terminals>=0.4.4 in /usr/local/lib/python3.10/dist-packages (from jupyter-server<3,>=2.4.0->jupyterlab->jupyter<2.0.0,>=1.0.0->funpymodeling) (0.5.3)\n",
            "Requirement already satisfied: overrides>=5.0 in /usr/local/lib/python3.10/dist-packages (from jupyter-server<3,>=2.4.0->jupyterlab->jupyter<2.0.0,>=1.0.0->funpymodeling) (7.7.0)\n",
            "Requirement already satisfied: websocket-client>=1.7 in /usr/local/lib/python3.10/dist-packages (from jupyter-server<3,>=2.4.0->jupyterlab->jupyter<2.0.0,>=1.0.0->funpymodeling) (1.8.0)\n",
            "Requirement already satisfied: argon2-cffi-bindings in /usr/local/lib/python3.10/dist-packages (from argon2-cffi->notebook->jupyter<2.0.0,>=1.0.0->funpymodeling) (21.2.0)\n",
            "Requirement already satisfied: babel>=2.10 in /usr/local/lib/python3.10/dist-packages (from jupyterlab-server<3,>=2.27.1->jupyterlab->jupyter<2.0.0,>=1.0.0->funpymodeling) (2.16.0)\n",
            "Requirement already satisfied: json5>=0.9.0 in /usr/local/lib/python3.10/dist-packages (from jupyterlab-server<3,>=2.27.1->jupyterlab->jupyter<2.0.0,>=1.0.0->funpymodeling) (0.9.25)\n",
            "Requirement already satisfied: jsonschema>=4.18.0 in /usr/local/lib/python3.10/dist-packages (from jupyterlab-server<3,>=2.27.1->jupyterlab->jupyter<2.0.0,>=1.0.0->funpymodeling) (4.23.0)\n",
            "Requirement already satisfied: requests>=2.31 in /usr/local/lib/python3.10/dist-packages (from jupyterlab-server<3,>=2.27.1->jupyterlab->jupyter<2.0.0,>=1.0.0->funpymodeling) (2.32.3)\n",
            "Requirement already satisfied: fastjsonschema>=2.15 in /usr/local/lib/python3.10/dist-packages (from nbformat>=5.1->nbconvert->jupyter<2.0.0,>=1.0.0->funpymodeling) (2.20.0)\n",
            "Requirement already satisfied: wcwidth in /usr/local/lib/python3.10/dist-packages (from prompt-toolkit!=3.0.0,!=3.0.1,<3.1.0,>=2.0.0->jupyter-console->jupyter<2.0.0,>=1.0.0->funpymodeling) (0.2.13)\n",
            "Requirement already satisfied: ptyprocess in /usr/local/lib/python3.10/dist-packages (from terminado>=0.8.3->notebook->jupyter<2.0.0,>=1.0.0->funpymodeling) (0.7.0)\n",
            "Requirement already satisfied: soupsieve>1.2 in /usr/local/lib/python3.10/dist-packages (from beautifulsoup4->nbconvert->jupyter<2.0.0,>=1.0.0->funpymodeling) (2.6)\n",
            "Requirement already satisfied: webencodings in /usr/local/lib/python3.10/dist-packages (from bleach->nbconvert->jupyter<2.0.0,>=1.0.0->funpymodeling) (0.5.1)\n",
            "Requirement already satisfied: parso<0.9.0,>=0.8.3 in /usr/local/lib/python3.10/dist-packages (from jedi>=0.16->ipython>=7.23.1->ipykernel->jupyter<2.0.0,>=1.0.0->funpymodeling) (0.8.4)\n",
            "Requirement already satisfied: attrs>=22.2.0 in /usr/local/lib/python3.10/dist-packages (from jsonschema>=4.18.0->jupyterlab-server<3,>=2.27.1->jupyterlab->jupyter<2.0.0,>=1.0.0->funpymodeling) (24.2.0)\n",
            "Requirement already satisfied: jsonschema-specifications>=2023.03.6 in /usr/local/lib/python3.10/dist-packages (from jsonschema>=4.18.0->jupyterlab-server<3,>=2.27.1->jupyterlab->jupyter<2.0.0,>=1.0.0->funpymodeling) (2023.12.1)\n",
            "Requirement already satisfied: referencing>=0.28.4 in /usr/local/lib/python3.10/dist-packages (from jsonschema>=4.18.0->jupyterlab-server<3,>=2.27.1->jupyterlab->jupyter<2.0.0,>=1.0.0->funpymodeling) (0.35.1)\n",
            "Requirement already satisfied: rpds-py>=0.7.1 in /usr/local/lib/python3.10/dist-packages (from jsonschema>=4.18.0->jupyterlab-server<3,>=2.27.1->jupyterlab->jupyter<2.0.0,>=1.0.0->funpymodeling) (0.20.0)\n",
            "Requirement already satisfied: python-json-logger>=2.0.4 in /usr/local/lib/python3.10/dist-packages (from jupyter-events>=0.9.0->jupyter-server<3,>=2.4.0->jupyterlab->jupyter<2.0.0,>=1.0.0->funpymodeling) (2.0.7)\n",
            "Requirement already satisfied: rfc3339-validator in /usr/local/lib/python3.10/dist-packages (from jupyter-events>=0.9.0->jupyter-server<3,>=2.4.0->jupyterlab->jupyter<2.0.0,>=1.0.0->funpymodeling) (0.1.4)\n",
            "Requirement already satisfied: rfc3986-validator>=0.1.1 in /usr/local/lib/python3.10/dist-packages (from jupyter-events>=0.9.0->jupyter-server<3,>=2.4.0->jupyterlab->jupyter<2.0.0,>=1.0.0->funpymodeling) (0.1.1)\n",
            "Requirement already satisfied: charset-normalizer<4,>=2 in /usr/local/lib/python3.10/dist-packages (from requests>=2.31->jupyterlab-server<3,>=2.27.1->jupyterlab->jupyter<2.0.0,>=1.0.0->funpymodeling) (3.3.2)\n",
            "Requirement already satisfied: urllib3<3,>=1.21.1 in /usr/local/lib/python3.10/dist-packages (from requests>=2.31->jupyterlab-server<3,>=2.27.1->jupyterlab->jupyter<2.0.0,>=1.0.0->funpymodeling) (2.2.3)\n",
            "Requirement already satisfied: cffi>=1.0.1 in /usr/local/lib/python3.10/dist-packages (from argon2-cffi-bindings->argon2-cffi->notebook->jupyter<2.0.0,>=1.0.0->funpymodeling) (1.17.1)\n",
            "Requirement already satisfied: pycparser in /usr/local/lib/python3.10/dist-packages (from cffi>=1.0.1->argon2-cffi-bindings->argon2-cffi->notebook->jupyter<2.0.0,>=1.0.0->funpymodeling) (2.22)\n",
            "Requirement already satisfied: fqdn in /usr/local/lib/python3.10/dist-packages (from jsonschema[format-nongpl]>=4.18.0->jupyter-events>=0.9.0->jupyter-server<3,>=2.4.0->jupyterlab->jupyter<2.0.0,>=1.0.0->funpymodeling) (1.5.1)\n",
            "Requirement already satisfied: isoduration in /usr/local/lib/python3.10/dist-packages (from jsonschema[format-nongpl]>=4.18.0->jupyter-events>=0.9.0->jupyter-server<3,>=2.4.0->jupyterlab->jupyter<2.0.0,>=1.0.0->funpymodeling) (20.11.0)\n",
            "Requirement already satisfied: jsonpointer>1.13 in /usr/local/lib/python3.10/dist-packages (from jsonschema[format-nongpl]>=4.18.0->jupyter-events>=0.9.0->jupyter-server<3,>=2.4.0->jupyterlab->jupyter<2.0.0,>=1.0.0->funpymodeling) (3.0.0)\n",
            "Requirement already satisfied: uri-template in /usr/local/lib/python3.10/dist-packages (from jsonschema[format-nongpl]>=4.18.0->jupyter-events>=0.9.0->jupyter-server<3,>=2.4.0->jupyterlab->jupyter<2.0.0,>=1.0.0->funpymodeling) (1.3.0)\n",
            "Requirement already satisfied: webcolors>=24.6.0 in /usr/local/lib/python3.10/dist-packages (from jsonschema[format-nongpl]>=4.18.0->jupyter-events>=0.9.0->jupyter-server<3,>=2.4.0->jupyterlab->jupyter<2.0.0,>=1.0.0->funpymodeling) (24.8.0)\n",
            "Requirement already satisfied: arrow>=0.15.0 in /usr/local/lib/python3.10/dist-packages (from isoduration->jsonschema[format-nongpl]>=4.18.0->jupyter-events>=0.9.0->jupyter-server<3,>=2.4.0->jupyterlab->jupyter<2.0.0,>=1.0.0->funpymodeling) (1.3.0)\n",
            "Requirement already satisfied: types-python-dateutil>=2.8.10 in /usr/local/lib/python3.10/dist-packages (from arrow>=0.15.0->isoduration->jsonschema[format-nongpl]>=4.18.0->jupyter-events>=0.9.0->jupyter-server<3,>=2.4.0->jupyterlab->jupyter<2.0.0,>=1.0.0->funpymodeling) (2.9.0.20240906)\n"
          ]
        }
      ]
    },
    {
      "cell_type": "code",
      "execution_count": 87,
      "metadata": {
        "id": "iZECv0J7oOyD"
      },
      "outputs": [],
      "source": [
        "#Importamos las librerias pandas, numpy y matplotlib\n",
        "import pandas as pd\n",
        "import numpy as np\n",
        "import matplotlib.pyplot as plt\n",
        "from funpymodeling.exploratory import freq_tbl"
      ]
    },
    {
      "cell_type": "code",
      "source": [
        "City= pd.read_csv('1datos_limpios_iqr.csv')"
      ],
      "metadata": {
        "id": "gX-cDIMVojAX"
      },
      "execution_count": 88,
      "outputs": []
    },
    {
      "cell_type": "code",
      "source": [
        "City.drop('Unnamed: 0', axis=1, inplace=True)"
      ],
      "metadata": {
        "id": "cNK661xE9kpB"
      },
      "execution_count": 89,
      "outputs": []
    },
    {
      "cell_type": "code",
      "source": [
        "City.isnull().sum().sum()"
      ],
      "metadata": {
        "id": "bz5rzjO1I55o",
        "colab": {
          "base_uri": "https://localhost:8080/"
        },
        "outputId": "8f59a9c2-6984-4d74-926e-d7b85f051215"
      },
      "execution_count": 90,
      "outputs": [
        {
          "output_type": "execute_result",
          "data": {
            "text/plain": [
              "0"
            ]
          },
          "metadata": {},
          "execution_count": 90
        }
      ]
    },
    {
      "cell_type": "markdown",
      "source": [
        "# Paso 1 **Preprocesamiento**"
      ],
      "metadata": {
        "id": "rVJe1Flub1zW"
      }
    },
    {
      "cell_type": "markdown",
      "source": [
        "\n",
        "## **Columnas a evaluar:**\n",
        "\n",
        "Agregamos variables categoricas de las variables cuantitativas\n",
        "\n",
        "1.   host_response_rate\n",
        "2.   host_acceptance_rate\n",
        "3.  host_total_listings_count\n",
        "4.  accommodates\n",
        "5.  bathrooms\n",
        "6.  beds\n",
        "7.  price\n",
        "8.  'availability_60'\n",
        "9. 'availability_90'\n",
        "10. 'availability_365'\n",
        "11. 'number_of_reviews_ltm'\n",
        "12. 'reviews_per_month'\n"
      ],
      "metadata": {
        "id": "85DD4R1D7v01"
      }
    },
    {
      "cell_type": "markdown",
      "source": [
        "### **Strungens** host_response_rate"
      ],
      "metadata": {
        "id": "vpofGvUGeEqZ"
      }
    },
    {
      "cell_type": "code",
      "source": [
        "City['host_response_rate'].info()\n",
        "n_1=len(City)"
      ],
      "metadata": {
        "colab": {
          "base_uri": "https://localhost:8080/"
        },
        "id": "hldDIr0sdkdi",
        "outputId": "7ce5f78f-0302-4975-f0ac-a2d68eecb4ce"
      },
      "execution_count": 91,
      "outputs": [
        {
          "output_type": "stream",
          "name": "stdout",
          "text": [
            "<class 'pandas.core.series.Series'>\n",
            "RangeIndex: 34664 entries, 0 to 34663\n",
            "Series name: host_response_rate\n",
            "Non-Null Count  Dtype  \n",
            "--------------  -----  \n",
            "34664 non-null  float64\n",
            "dtypes: float64(1)\n",
            "memory usage: 270.9 KB\n"
          ]
        }
      ]
    },
    {
      "cell_type": "code",
      "source": [
        "#Obtenemos el limite superior y el limite inferior de la colmna objetivo\n",
        "Max_1_1=City['host_response_rate'].max()\n",
        "Min_2_1=City['host_response_rate'].min()\n",
        "Limites= [Min_2_1, Max_1_1]\n",
        "Limites"
      ],
      "metadata": {
        "colab": {
          "base_uri": "https://localhost:8080/"
        },
        "id": "0-7T4ZbKdm0p",
        "outputId": "7d73b3b7-ffea-4d39-8f27-f97d05d725e0"
      },
      "execution_count": 92,
      "outputs": [
        {
          "output_type": "execute_result",
          "data": {
            "text/plain": [
              "[0.85, 1.0]"
            ]
          },
          "metadata": {},
          "execution_count": 92
        }
      ]
    },
    {
      "cell_type": "code",
      "source": [
        "#Calculamos el Rango R\n",
        "R_2_2=Max_1_1-Min_2_1\n",
        "R_2_2"
      ],
      "metadata": {
        "colab": {
          "base_uri": "https://localhost:8080/"
        },
        "id": "r6D490MQdx_8",
        "outputId": "4dad67b9-23d3-4c05-8955-e7913dca8d95"
      },
      "execution_count": 93,
      "outputs": [
        {
          "output_type": "execute_result",
          "data": {
            "text/plain": [
              "0.15000000000000002"
            ]
          },
          "metadata": {},
          "execution_count": 93
        }
      ]
    },
    {
      "cell_type": "code",
      "source": [
        "#Calculamos el numero de intervalos de clase \"ni\", aplicando la regla de Sturges\n",
        "ni_1= 1+3.32*np.log10(Max_1_1)\n",
        "ni_1"
      ],
      "metadata": {
        "colab": {
          "base_uri": "https://localhost:8080/"
        },
        "id": "q0MuIKnneTWH",
        "outputId": "6976c030-ef8f-4c57-87b3-457ce06f3d85"
      },
      "execution_count": 94,
      "outputs": [
        {
          "output_type": "execute_result",
          "data": {
            "text/plain": [
              "1.0"
            ]
          },
          "metadata": {},
          "execution_count": 94
        }
      ]
    },
    {
      "cell_type": "code",
      "source": [
        "#Categorización de variables\n",
        "intervalos=np.linspace(0,Max_1_1,round(ni_1+1))\n",
        "len(intervalos)"
      ],
      "metadata": {
        "colab": {
          "base_uri": "https://localhost:8080/"
        },
        "id": "2Sxnc4KveCMK",
        "outputId": "f6d7af88-abcd-4d15-b61b-2f1ac210e42b"
      },
      "execution_count": 95,
      "outputs": [
        {
          "output_type": "execute_result",
          "data": {
            "text/plain": [
              "2"
            ]
          },
          "metadata": {},
          "execution_count": 95
        }
      ]
    },
    {
      "cell_type": "code",
      "source": [
        "#Calculamos el Ancho del Intervalo \"i\"\n",
        "i=R_2_2/ni_1\n",
        "i"
      ],
      "metadata": {
        "colab": {
          "base_uri": "https://localhost:8080/"
        },
        "id": "UcwOlToieZNp",
        "outputId": "25dcd909-c263-48d7-e287-5bfc6151ddb2"
      },
      "execution_count": 96,
      "outputs": [
        {
          "output_type": "execute_result",
          "data": {
            "text/plain": [
              "0.15000000000000002"
            ]
          },
          "metadata": {},
          "execution_count": 96
        }
      ]
    },
    {
      "cell_type": "code",
      "source": [
        "#Categorización de variables\n",
        "intervalos=np.linspace(-0.0000000001,Max_1_1,round(ni_1+2))\n",
        "intervalos"
      ],
      "metadata": {
        "colab": {
          "base_uri": "https://localhost:8080/"
        },
        "id": "JqvcPKf9ekQK",
        "outputId": "6502c405-2d00-4baa-86ff-9412361e1f2d"
      },
      "execution_count": 97,
      "outputs": [
        {
          "output_type": "execute_result",
          "data": {
            "text/plain": [
              "array([-1.e-10,  5.e-01,  1.e+00])"
            ]
          },
          "metadata": {},
          "execution_count": 97
        }
      ]
    },
    {
      "cell_type": "code",
      "source": [
        "#Creamos las categorias\n",
        "categorias = [\n",
        "    'Buena', 'Mala'\n",
        "]\n",
        "\n"
      ],
      "metadata": {
        "id": "XvNyDK3le7gh"
      },
      "execution_count": 98,
      "outputs": []
    },
    {
      "cell_type": "code",
      "source": [
        "#Finalmente creamos las categorias en la columna numerica\n",
        "City['host_response_rate']=pd.cut(x=City['host_response_rate'],bins=intervalos,labels=categorias)\n",
        "City['host_response_rate'].head()"
      ],
      "metadata": {
        "colab": {
          "base_uri": "https://localhost:8080/",
          "height": 238
        },
        "id": "DBRn9mDafGJ_",
        "outputId": "dd18312a-a2f4-4b52-f810-e2252f15b604"
      },
      "execution_count": 99,
      "outputs": [
        {
          "output_type": "execute_result",
          "data": {
            "text/plain": [
              "0    Mala\n",
              "1    Mala\n",
              "2    Mala\n",
              "3    Mala\n",
              "4    Mala\n",
              "Name: host_response_rate, dtype: category\n",
              "Categories (2, object): ['Buena' < 'Mala']"
            ],
            "text/html": [
              "<div>\n",
              "<style scoped>\n",
              "    .dataframe tbody tr th:only-of-type {\n",
              "        vertical-align: middle;\n",
              "    }\n",
              "\n",
              "    .dataframe tbody tr th {\n",
              "        vertical-align: top;\n",
              "    }\n",
              "\n",
              "    .dataframe thead th {\n",
              "        text-align: right;\n",
              "    }\n",
              "</style>\n",
              "<table border=\"1\" class=\"dataframe\">\n",
              "  <thead>\n",
              "    <tr style=\"text-align: right;\">\n",
              "      <th></th>\n",
              "      <th>host_response_rate</th>\n",
              "    </tr>\n",
              "  </thead>\n",
              "  <tbody>\n",
              "    <tr>\n",
              "      <th>0</th>\n",
              "      <td>Mala</td>\n",
              "    </tr>\n",
              "    <tr>\n",
              "      <th>1</th>\n",
              "      <td>Mala</td>\n",
              "    </tr>\n",
              "    <tr>\n",
              "      <th>2</th>\n",
              "      <td>Mala</td>\n",
              "    </tr>\n",
              "    <tr>\n",
              "      <th>3</th>\n",
              "      <td>Mala</td>\n",
              "    </tr>\n",
              "    <tr>\n",
              "      <th>4</th>\n",
              "      <td>Mala</td>\n",
              "    </tr>\n",
              "  </tbody>\n",
              "</table>\n",
              "</div><br><label><b>dtype:</b> category</label>"
            ]
          },
          "metadata": {},
          "execution_count": 99
        }
      ]
    },
    {
      "cell_type": "code",
      "source": [
        "City['host_response_rate'].isnull().sum()"
      ],
      "metadata": {
        "colab": {
          "base_uri": "https://localhost:8080/"
        },
        "id": "c8BwNR-OfrFo",
        "outputId": "f0c208ac-d1bd-4ae7-e974-06c2a3fcadd7"
      },
      "execution_count": 100,
      "outputs": [
        {
          "output_type": "execute_result",
          "data": {
            "text/plain": [
              "0"
            ]
          },
          "metadata": {},
          "execution_count": 100
        }
      ]
    },
    {
      "cell_type": "markdown",
      "source": [
        "### **Strungens** host_acceptance_rate"
      ],
      "metadata": {
        "id": "_Vk-bXQpd_rb"
      }
    },
    {
      "cell_type": "code",
      "source": [
        "x='host_acceptance_rate'\n",
        "#Calculamos el numero total de la poblacion \"n\"\n",
        "City[x].info()\n",
        "n_1=len(City)\n",
        "#Obtenemos el limite superior y el limite inferior de la colmna objetivo\n",
        "Max_1_1=City[x].max()\n",
        "Min_2_1=City[x].min()\n",
        "Limites= [Min_2_1, Max_1_1]\n",
        "#Calculamos el Rango R\n",
        "R_2_2=Max_1_1-Min_2_1\n",
        "#Calculamos el numero de intervalos de clase \"ni\", aplicando la regla de Sturges\n",
        "ni_1= 1+3.32*np.log10(Max_1_1)\n",
        "#Calculamos el Ancho del Intervalo \"i\"\n",
        "i=R_2_2/ni_1"
      ],
      "metadata": {
        "colab": {
          "base_uri": "https://localhost:8080/"
        },
        "id": "y4iJEy2WgF8U",
        "outputId": "cc32993f-8d81-4af9-b6b6-9c20d2d93cde"
      },
      "execution_count": 101,
      "outputs": [
        {
          "output_type": "stream",
          "name": "stdout",
          "text": [
            "<class 'pandas.core.series.Series'>\n",
            "RangeIndex: 34664 entries, 0 to 34663\n",
            "Series name: host_acceptance_rate\n",
            "Non-Null Count  Dtype  \n",
            "--------------  -----  \n",
            "34664 non-null  float64\n",
            "dtypes: float64(1)\n",
            "memory usage: 270.9 KB\n"
          ]
        }
      ]
    },
    {
      "cell_type": "code",
      "source": [
        "Limites"
      ],
      "metadata": {
        "colab": {
          "base_uri": "https://localhost:8080/"
        },
        "id": "bx_LbbKGhx-u",
        "outputId": "3d2ff3e5-c01b-4ec8-a557-e6675b5cdbd0"
      },
      "execution_count": 102,
      "outputs": [
        {
          "output_type": "execute_result",
          "data": {
            "text/plain": [
              "[0.1, 1.0]"
            ]
          },
          "metadata": {},
          "execution_count": 102
        }
      ]
    },
    {
      "cell_type": "code",
      "source": [
        "#Categorización de variables\n",
        "intervalos=np.linspace(-0.0000000001,Max_1_1,round(ni_1+2))\n",
        "len(intervalos)"
      ],
      "metadata": {
        "colab": {
          "base_uri": "https://localhost:8080/"
        },
        "id": "o9UjqplwgySX",
        "outputId": "42e4fdb2-4301-4ebf-d7f7-2dcd0b26d41f"
      },
      "execution_count": 103,
      "outputs": [
        {
          "output_type": "execute_result",
          "data": {
            "text/plain": [
              "3"
            ]
          },
          "metadata": {},
          "execution_count": 103
        }
      ]
    },
    {
      "cell_type": "code",
      "source": [
        "#Creamos las categorias\n",
        "categorias = [\n",
        "    'Buena', 'Mala'\n",
        "]\n"
      ],
      "metadata": {
        "id": "T7lCnyTbhGUr"
      },
      "execution_count": 104,
      "outputs": []
    },
    {
      "cell_type": "code",
      "source": [
        "City['host_acceptance_rate']=pd.cut(x=City['host_acceptance_rate'],bins=intervalos,labels=categorias)\n",
        "City['host_acceptance_rate'].head()"
      ],
      "metadata": {
        "colab": {
          "base_uri": "https://localhost:8080/",
          "height": 238
        },
        "id": "SR8bTIjUhMI1",
        "outputId": "6a5899c3-9a79-4f57-f05e-c8982b389aaf"
      },
      "execution_count": 105,
      "outputs": [
        {
          "output_type": "execute_result",
          "data": {
            "text/plain": [
              "0     Mala\n",
              "1     Mala\n",
              "2    Buena\n",
              "3     Mala\n",
              "4     Mala\n",
              "Name: host_acceptance_rate, dtype: category\n",
              "Categories (2, object): ['Buena' < 'Mala']"
            ],
            "text/html": [
              "<div>\n",
              "<style scoped>\n",
              "    .dataframe tbody tr th:only-of-type {\n",
              "        vertical-align: middle;\n",
              "    }\n",
              "\n",
              "    .dataframe tbody tr th {\n",
              "        vertical-align: top;\n",
              "    }\n",
              "\n",
              "    .dataframe thead th {\n",
              "        text-align: right;\n",
              "    }\n",
              "</style>\n",
              "<table border=\"1\" class=\"dataframe\">\n",
              "  <thead>\n",
              "    <tr style=\"text-align: right;\">\n",
              "      <th></th>\n",
              "      <th>host_acceptance_rate</th>\n",
              "    </tr>\n",
              "  </thead>\n",
              "  <tbody>\n",
              "    <tr>\n",
              "      <th>0</th>\n",
              "      <td>Mala</td>\n",
              "    </tr>\n",
              "    <tr>\n",
              "      <th>1</th>\n",
              "      <td>Mala</td>\n",
              "    </tr>\n",
              "    <tr>\n",
              "      <th>2</th>\n",
              "      <td>Buena</td>\n",
              "    </tr>\n",
              "    <tr>\n",
              "      <th>3</th>\n",
              "      <td>Mala</td>\n",
              "    </tr>\n",
              "    <tr>\n",
              "      <th>4</th>\n",
              "      <td>Mala</td>\n",
              "    </tr>\n",
              "  </tbody>\n",
              "</table>\n",
              "</div><br><label><b>dtype:</b> category</label>"
            ]
          },
          "metadata": {},
          "execution_count": 105
        }
      ]
    },
    {
      "cell_type": "code",
      "source": [
        "City['host_acceptance_rate'].isnull().sum()"
      ],
      "metadata": {
        "colab": {
          "base_uri": "https://localhost:8080/"
        },
        "id": "pIgWcTzMhPP9",
        "outputId": "fa7354bb-b91e-4782-e2d6-8647ead2dfb3"
      },
      "execution_count": 106,
      "outputs": [
        {
          "output_type": "execute_result",
          "data": {
            "text/plain": [
              "0"
            ]
          },
          "metadata": {},
          "execution_count": 106
        }
      ]
    },
    {
      "cell_type": "markdown",
      "source": [
        "### **Strungens** host_total_listings_count"
      ],
      "metadata": {
        "id": "MPn42pwwiNeC"
      }
    },
    {
      "cell_type": "code",
      "source": [
        "x='host_total_listings_count'\n",
        "#Calculamos el numero total de la poblacion \"n\"\n",
        "City[x].info()\n",
        "n_1=len(City)\n",
        "#Obtenemos el limite superior y el limite inferior de la colmna objetivo\n",
        "Max_1_1=City[x].max()\n",
        "Min_2_1=City[x].min()\n",
        "Limites= [Min_2_1, Max_1_1]\n",
        "#Calculamos el Rango R\n",
        "R_2_2=Max_1_1-Min_2_1\n",
        "#Calculamos el numero de intervalos de clase \"ni\", aplicando la regla de Sturges\n",
        "ni_1= 1+3.32*np.log10(Max_1_1)\n",
        "#Calculamos el Ancho del Intervalo \"i\"\n",
        "i=R_2_2/ni_1"
      ],
      "metadata": {
        "colab": {
          "base_uri": "https://localhost:8080/"
        },
        "id": "zeg955xIiiv4",
        "outputId": "e11281a9-2373-4646-a970-df92d84fe332"
      },
      "execution_count": 107,
      "outputs": [
        {
          "output_type": "stream",
          "name": "stdout",
          "text": [
            "<class 'pandas.core.series.Series'>\n",
            "RangeIndex: 34664 entries, 0 to 34663\n",
            "Series name: host_total_listings_count\n",
            "Non-Null Count  Dtype  \n",
            "--------------  -----  \n",
            "34664 non-null  float64\n",
            "dtypes: float64(1)\n",
            "memory usage: 270.9 KB\n"
          ]
        }
      ]
    },
    {
      "cell_type": "code",
      "source": [
        "Limites"
      ],
      "metadata": {
        "colab": {
          "base_uri": "https://localhost:8080/"
        },
        "id": "t6uEqxVDi2hZ",
        "outputId": "c421a16d-a82c-4642-b588-b58da7450e6e"
      },
      "execution_count": 108,
      "outputs": [
        {
          "output_type": "execute_result",
          "data": {
            "text/plain": [
              "[1.0, 18.0]"
            ]
          },
          "metadata": {},
          "execution_count": 108
        }
      ]
    },
    {
      "cell_type": "code",
      "source": [
        "#Categorización de variables\n",
        "intervalos=np.linspace(-0.0000000001,Max_1_1,round(ni_1+2))\n",
        "len(intervalos)"
      ],
      "metadata": {
        "colab": {
          "base_uri": "https://localhost:8080/"
        },
        "id": "tM8SVCNxi66K",
        "outputId": "ff552ae2-4c9f-41de-9dff-c533c7e2e1a8"
      },
      "execution_count": 109,
      "outputs": [
        {
          "output_type": "execute_result",
          "data": {
            "text/plain": [
              "7"
            ]
          },
          "metadata": {},
          "execution_count": 109
        }
      ]
    },
    {
      "cell_type": "code",
      "source": [
        "#Creamos las categorias\n",
        "categorias = [\n",
        "    'Disponible', 'Poco disponible', 'Abundante', 'Escaso',\n",
        "    'Frecuente', 'Raro'\n",
        "]"
      ],
      "metadata": {
        "id": "QqOhm6qsi8sL"
      },
      "execution_count": 110,
      "outputs": []
    },
    {
      "cell_type": "code",
      "source": [
        "City[x]=pd.cut(x=City[x],bins=intervalos,labels=categorias)\n",
        "City[x].isnull().sum()"
      ],
      "metadata": {
        "colab": {
          "base_uri": "https://localhost:8080/"
        },
        "id": "R74z59RYi-q8",
        "outputId": "f4828626-0620-4d95-b91e-d09c254c6d01"
      },
      "execution_count": 111,
      "outputs": [
        {
          "output_type": "execute_result",
          "data": {
            "text/plain": [
              "0"
            ]
          },
          "metadata": {},
          "execution_count": 111
        }
      ]
    },
    {
      "cell_type": "markdown",
      "source": [
        "### **Strungens** accommodates"
      ],
      "metadata": {
        "id": "Bg4Nj5mSeJNM"
      }
    },
    {
      "cell_type": "code",
      "source": [
        "x='accommodates'\n",
        "#Calculamos el numero total de la poblacion \"n\"\n",
        "City[x].info()\n",
        "n_1=len(City)\n",
        "#Obtenemos el limite superior y el limite inferior de la colmna objetivo\n",
        "Max_1_1=City[x].max()\n",
        "Min_2_1=City[x].min()\n",
        "Limites= [Min_2_1, Max_1_1]\n",
        "#Calculamos el Rango R\n",
        "R_2_2=Max_1_1-Min_2_1\n",
        "#Calculamos el numero de intervalos de clase \"ni\", aplicando la regla de Sturges\n",
        "ni_1= 1+3.32*np.log10(Max_1_1)\n",
        "#Calculamos el Ancho del Intervalo \"i\"\n",
        "i=R_2_2/ni_1"
      ],
      "metadata": {
        "colab": {
          "base_uri": "https://localhost:8080/"
        },
        "id": "MqDq2B4Tja1W",
        "outputId": "da477dca-0968-401a-f833-4b9bca270a0f"
      },
      "execution_count": 112,
      "outputs": [
        {
          "output_type": "stream",
          "name": "stdout",
          "text": [
            "<class 'pandas.core.series.Series'>\n",
            "RangeIndex: 34664 entries, 0 to 34663\n",
            "Series name: accommodates\n",
            "Non-Null Count  Dtype  \n",
            "--------------  -----  \n",
            "34664 non-null  float64\n",
            "dtypes: float64(1)\n",
            "memory usage: 270.9 KB\n"
          ]
        }
      ]
    },
    {
      "cell_type": "code",
      "source": [
        "Limites"
      ],
      "metadata": {
        "colab": {
          "base_uri": "https://localhost:8080/"
        },
        "id": "NnvsUKzxjd24",
        "outputId": "6fcb01d0-37d7-4464-faa2-531e098aebea"
      },
      "execution_count": 113,
      "outputs": [
        {
          "output_type": "execute_result",
          "data": {
            "text/plain": [
              "[1.0, 9.0]"
            ]
          },
          "metadata": {},
          "execution_count": 113
        }
      ]
    },
    {
      "cell_type": "code",
      "source": [
        "#Categorización de variables\n",
        "intervalos=np.linspace(-0.0000000001,Max_1_1,round(ni_1+2))\n",
        "len(intervalos)"
      ],
      "metadata": {
        "colab": {
          "base_uri": "https://localhost:8080/"
        },
        "id": "lDRVDbPKjfv-",
        "outputId": "7736fc67-afe2-47f7-bb5e-c7f37084860d"
      },
      "execution_count": 114,
      "outputs": [
        {
          "output_type": "execute_result",
          "data": {
            "text/plain": [
              "6"
            ]
          },
          "metadata": {},
          "execution_count": 114
        }
      ]
    },
    {
      "cell_type": "code",
      "source": [
        "#Creamos las categorias\n",
        "categorias = [\n",
        "    'Disponible', 'Poco disponible', 'Abundante', 'Escaso',\n",
        "    'Frecuente'\n",
        "]"
      ],
      "metadata": {
        "id": "UX-UT3OojhTv"
      },
      "execution_count": 115,
      "outputs": []
    },
    {
      "cell_type": "code",
      "source": [
        "City[x]=pd.cut(x=City[x],bins=intervalos,labels=categorias)\n",
        "City[x].isnull().sum()"
      ],
      "metadata": {
        "colab": {
          "base_uri": "https://localhost:8080/"
        },
        "id": "dyrOYIfDjir9",
        "outputId": "d09e2730-5654-4888-db5a-bf9e0ecc441a"
      },
      "execution_count": 116,
      "outputs": [
        {
          "output_type": "execute_result",
          "data": {
            "text/plain": [
              "0"
            ]
          },
          "metadata": {},
          "execution_count": 116
        }
      ]
    },
    {
      "cell_type": "markdown",
      "source": [
        "### **Strungens** bathrooms"
      ],
      "metadata": {
        "id": "oP8QfahWeSZT"
      }
    },
    {
      "cell_type": "code",
      "source": [
        "x='bathrooms'\n",
        "#Calculamos el numero total de la poblacion \"n\"\n",
        "City[x].info()\n",
        "n_1=len(City)\n",
        "#Obtenemos el limite superior y el limite inferior de la colmna objetivo\n",
        "Max_1_1=City[x].max()\n",
        "Min_2_1=City[x].min()\n",
        "Limites= [Min_2_1, Max_1_1]\n",
        "#Calculamos el Rango R\n",
        "R_2_2=Max_1_1-Min_2_1\n",
        "#Calculamos el numero de intervalos de clase \"ni\", aplicando la regla de Sturges\n",
        "ni_1= 1+3.32*np.log10(Max_1_1)\n",
        "#Calculamos el Ancho del Intervalo \"i\"\n",
        "i=R_2_2/ni_1"
      ],
      "metadata": {
        "colab": {
          "base_uri": "https://localhost:8080/"
        },
        "id": "cSdW909jjsAr",
        "outputId": "c4b4843a-5589-4e52-bbb1-2cf0b03b817f"
      },
      "execution_count": 117,
      "outputs": [
        {
          "output_type": "stream",
          "name": "stdout",
          "text": [
            "<class 'pandas.core.series.Series'>\n",
            "RangeIndex: 34664 entries, 0 to 34663\n",
            "Series name: bathrooms\n",
            "Non-Null Count  Dtype  \n",
            "--------------  -----  \n",
            "34664 non-null  float64\n",
            "dtypes: float64(1)\n",
            "memory usage: 270.9 KB\n"
          ]
        }
      ]
    },
    {
      "cell_type": "code",
      "source": [
        "Limites"
      ],
      "metadata": {
        "colab": {
          "base_uri": "https://localhost:8080/"
        },
        "id": "UDnJn5zjkHPB",
        "outputId": "00568e5f-2516-4d27-970b-4683dfd71021"
      },
      "execution_count": 118,
      "outputs": [
        {
          "output_type": "execute_result",
          "data": {
            "text/plain": [
              "[0.0, 3.5]"
            ]
          },
          "metadata": {},
          "execution_count": 118
        }
      ]
    },
    {
      "cell_type": "code",
      "source": [
        "#Categorización de variables\n",
        "intervalos=np.linspace(-0.0000000001,Max_1_1,round(ni_1+2))\n",
        "len(intervalos)"
      ],
      "metadata": {
        "colab": {
          "base_uri": "https://localhost:8080/"
        },
        "id": "vr4DqDgfkKfC",
        "outputId": "32b2e2dd-2a84-4993-b66a-7a86c41b754f"
      },
      "execution_count": 119,
      "outputs": [
        {
          "output_type": "execute_result",
          "data": {
            "text/plain": [
              "5"
            ]
          },
          "metadata": {},
          "execution_count": 119
        }
      ]
    },
    {
      "cell_type": "code",
      "source": [
        "#Creamos las categorias\n",
        "categorias = [\n",
        "    'Disponible', 'Poco disponible', 'Abundante', 'Escaso',\n",
        "]"
      ],
      "metadata": {
        "id": "giZgZCZUkLuM"
      },
      "execution_count": 120,
      "outputs": []
    },
    {
      "cell_type": "code",
      "source": [
        "City[x]=pd.cut(x=City[x],bins=intervalos,labels=categorias)\n",
        "City[x].isnull().sum()"
      ],
      "metadata": {
        "colab": {
          "base_uri": "https://localhost:8080/"
        },
        "id": "8QLBSqrwkNNJ",
        "outputId": "2d9ca510-cba7-4122-e57f-f786d414a449"
      },
      "execution_count": 121,
      "outputs": [
        {
          "output_type": "execute_result",
          "data": {
            "text/plain": [
              "0"
            ]
          },
          "metadata": {},
          "execution_count": 121
        }
      ]
    },
    {
      "cell_type": "markdown",
      "source": [
        "### **Strungens** beds"
      ],
      "metadata": {
        "id": "QLGod65JeVB0"
      }
    },
    {
      "cell_type": "code",
      "source": [
        "x='beds'\n",
        "#Calculamos el numero total de la poblacion \"n\"\n",
        "City[x].info()\n",
        "n_1=len(City)\n",
        "#Obtenemos el limite superior y el limite inferior de la colmna objetivo\n",
        "Max_1_1=City[x].max()\n",
        "Min_2_1=City[x].min()\n",
        "Limites= [Min_2_1, Max_1_1]\n",
        "#Calculamos el Rango R\n",
        "R_2_2=Max_1_1-Min_2_1\n",
        "#Calculamos el numero de intervalos de clase \"ni\", aplicando la regla de Sturges\n",
        "ni_1= 1+3.32*np.log10(Max_1_1)\n",
        "#Calculamos el Ancho del Intervalo \"i\"\n",
        "i=R_2_2/ni_1"
      ],
      "metadata": {
        "colab": {
          "base_uri": "https://localhost:8080/"
        },
        "id": "3SsakwdLkaOk",
        "outputId": "6ce4d42e-cd0f-4cc5-8d86-e0f5c7615b10"
      },
      "execution_count": 122,
      "outputs": [
        {
          "output_type": "stream",
          "name": "stdout",
          "text": [
            "<class 'pandas.core.series.Series'>\n",
            "RangeIndex: 34664 entries, 0 to 34663\n",
            "Series name: beds\n",
            "Non-Null Count  Dtype  \n",
            "--------------  -----  \n",
            "34664 non-null  float64\n",
            "dtypes: float64(1)\n",
            "memory usage: 270.9 KB\n"
          ]
        }
      ]
    },
    {
      "cell_type": "code",
      "source": [
        "Limites"
      ],
      "metadata": {
        "colab": {
          "base_uri": "https://localhost:8080/"
        },
        "id": "wusSboxmkaEh",
        "outputId": "f22c5348-0fdf-4aed-ac3c-7bbdba333043"
      },
      "execution_count": 123,
      "outputs": [
        {
          "output_type": "execute_result",
          "data": {
            "text/plain": [
              "[0.0, 6.0]"
            ]
          },
          "metadata": {},
          "execution_count": 123
        }
      ]
    },
    {
      "cell_type": "code",
      "source": [
        "#Categorización de variables\n",
        "intervalos=np.linspace(-0.0000000001,Max_1_1,round(ni_1+2))\n",
        "len(intervalos)"
      ],
      "metadata": {
        "colab": {
          "base_uri": "https://localhost:8080/"
        },
        "id": "lYJd2ti-kZ2w",
        "outputId": "afd5ff46-25cb-4325-f29b-24287698d8f9"
      },
      "execution_count": 124,
      "outputs": [
        {
          "output_type": "execute_result",
          "data": {
            "text/plain": [
              "6"
            ]
          },
          "metadata": {},
          "execution_count": 124
        }
      ]
    },
    {
      "cell_type": "code",
      "source": [
        "#Creamos las categorias\n",
        "categorias = [\n",
        "    'Disponible', 'Poco disponible', 'Abundante', 'Escaso', 'Normal'\n",
        "]"
      ],
      "metadata": {
        "id": "KKg1EQDqkZqY"
      },
      "execution_count": 125,
      "outputs": []
    },
    {
      "cell_type": "code",
      "source": [
        "City[x]=pd.cut(x=City[x],bins=intervalos,labels=categorias)\n",
        "City[x].isnull().sum()"
      ],
      "metadata": {
        "colab": {
          "base_uri": "https://localhost:8080/"
        },
        "id": "3OzDMLLekZhC",
        "outputId": "0a0077c4-cf7b-4081-a2fc-26806fbe2b56"
      },
      "execution_count": 126,
      "outputs": [
        {
          "output_type": "execute_result",
          "data": {
            "text/plain": [
              "0"
            ]
          },
          "metadata": {},
          "execution_count": 126
        }
      ]
    },
    {
      "cell_type": "markdown",
      "source": [
        "### **Strungens** price"
      ],
      "metadata": {
        "id": "BmFnByYQeZHx"
      }
    },
    {
      "cell_type": "code",
      "source": [
        "x='price'\n",
        "#Calculamos el numero total de la poblacion \"n\"\n",
        "City[x].info()\n",
        "n_1=len(City)\n",
        "#Obtenemos el limite superior y el limite inferior de la colmna objetivo\n",
        "Max_1_1=City[x].max()\n",
        "Min_2_1=City[x].min()\n",
        "Limites= [Min_2_1, Max_1_1]\n",
        "#Calculamos el Rango R\n",
        "R_2_2=Max_1_1-Min_2_1\n",
        "#Calculamos el numero de intervalos de clase \"ni\", aplicando la regla de Sturges\n",
        "ni_1= 1+3.32*np.log10(Max_1_1)\n",
        "#Calculamos el Ancho del Intervalo \"i\"\n",
        "i=R_2_2/ni_1"
      ],
      "metadata": {
        "colab": {
          "base_uri": "https://localhost:8080/"
        },
        "id": "WAHZoAVKmY6W",
        "outputId": "c1ebdc66-049f-4050-ba39-4127209c79b5"
      },
      "execution_count": 127,
      "outputs": [
        {
          "output_type": "stream",
          "name": "stdout",
          "text": [
            "<class 'pandas.core.series.Series'>\n",
            "RangeIndex: 34664 entries, 0 to 34663\n",
            "Series name: price\n",
            "Non-Null Count  Dtype  \n",
            "--------------  -----  \n",
            "34664 non-null  float64\n",
            "dtypes: float64(1)\n",
            "memory usage: 270.9 KB\n"
          ]
        }
      ]
    },
    {
      "cell_type": "code",
      "source": [
        "Limites"
      ],
      "metadata": {
        "colab": {
          "base_uri": "https://localhost:8080/"
        },
        "id": "-tUplqf8mlLb",
        "outputId": "5e95bdab-e9ce-4aaa-ed51-f30ce582f15b"
      },
      "execution_count": 128,
      "outputs": [
        {
          "output_type": "execute_result",
          "data": {
            "text/plain": [
              "[0.0, 1136.0]"
            ]
          },
          "metadata": {},
          "execution_count": 128
        }
      ]
    },
    {
      "cell_type": "code",
      "source": [
        "#Categorización de variables\n",
        "intervalos=np.linspace(-0.00000011,Max_1_1,round(ni_1+2))\n",
        "print(len(intervalos))\n",
        "print(intervalos)"
      ],
      "metadata": {
        "colab": {
          "base_uri": "https://localhost:8080/"
        },
        "id": "1HrV1xmmmmwJ",
        "outputId": "c65b3177-e09f-4c24-c270-03632a5b2af3"
      },
      "execution_count": 129,
      "outputs": [
        {
          "output_type": "stream",
          "name": "stdout",
          "text": [
            "13\n",
            "[-1.10000000e-07  9.46666666e+01  1.89333333e+02  2.84000000e+02\n",
            "  3.78666667e+02  4.73333333e+02  5.68000000e+02  6.62666667e+02\n",
            "  7.57333333e+02  8.52000000e+02  9.46666667e+02  1.04133333e+03\n",
            "  1.13600000e+03]\n"
          ]
        }
      ]
    },
    {
      "cell_type": "code",
      "source": [
        "#Creamos las categorias\n",
        "categorias = [\n",
        "    '0-94', '95-189', '200-283', '284-378', '379-473','474-567','568-662','663-757','758-852','853-946','947-1041','1042-1136'\n",
        "]"
      ],
      "metadata": {
        "id": "GQtG56m1mzSl"
      },
      "execution_count": 130,
      "outputs": []
    },
    {
      "cell_type": "code",
      "source": [
        "City[x]=pd.cut(x=City[x],bins=intervalos,labels=categorias)\n",
        "City[x].isnull().sum()"
      ],
      "metadata": {
        "colab": {
          "base_uri": "https://localhost:8080/"
        },
        "id": "7e849Z4nrjd6",
        "outputId": "547d6385-65da-4f98-b545-055822fb44d0"
      },
      "execution_count": 131,
      "outputs": [
        {
          "output_type": "execute_result",
          "data": {
            "text/plain": [
              "0"
            ]
          },
          "metadata": {},
          "execution_count": 131
        }
      ]
    },
    {
      "cell_type": "markdown",
      "source": [
        "### **Strungens** Availability 60"
      ],
      "metadata": {
        "id": "Ql5ReVfK_JsN"
      }
    },
    {
      "cell_type": "code",
      "source": [
        "#Calculamos el numero total de la poblacion \"n\"\n",
        "City['availability_60'].astype(np.float64).info()\n",
        "n_1=len(City)"
      ],
      "metadata": {
        "colab": {
          "base_uri": "https://localhost:8080/"
        },
        "id": "qj20ygd--4cL",
        "outputId": "f3612495-e5e3-4a55-a210-be46abc89640"
      },
      "execution_count": 132,
      "outputs": [
        {
          "output_type": "stream",
          "name": "stdout",
          "text": [
            "<class 'pandas.core.series.Series'>\n",
            "RangeIndex: 34664 entries, 0 to 34663\n",
            "Series name: availability_60\n",
            "Non-Null Count  Dtype  \n",
            "--------------  -----  \n",
            "34664 non-null  float64\n",
            "dtypes: float64(1)\n",
            "memory usage: 270.9 KB\n"
          ]
        }
      ]
    },
    {
      "cell_type": "code",
      "source": [
        "#Obtenemos el limite superior y el limite inferior de la colmna objetivo\n",
        "Max_1=City['availability_60'].max()\n",
        "Min_1=City['availability_60'].min()\n",
        "Limites= [Min_1, Max_1]\n",
        "Limites"
      ],
      "metadata": {
        "colab": {
          "base_uri": "https://localhost:8080/"
        },
        "id": "RSDh402H_ehL",
        "outputId": "4d932503-8bc4-48e5-8bcf-e9e52a19c576"
      },
      "execution_count": 133,
      "outputs": [
        {
          "output_type": "execute_result",
          "data": {
            "text/plain": [
              "[0, 60]"
            ]
          },
          "metadata": {},
          "execution_count": 133
        }
      ]
    },
    {
      "cell_type": "code",
      "source": [
        "#Calculamos el Rango R\n",
        "R=Max_1-Min_1\n",
        "R"
      ],
      "metadata": {
        "colab": {
          "base_uri": "https://localhost:8080/"
        },
        "id": "b_NI7IDP_5Jq",
        "outputId": "62f236e8-a481-4e90-ef96-917b26386684"
      },
      "execution_count": 134,
      "outputs": [
        {
          "output_type": "execute_result",
          "data": {
            "text/plain": [
              "60"
            ]
          },
          "metadata": {},
          "execution_count": 134
        }
      ]
    },
    {
      "cell_type": "code",
      "source": [
        "#Calculamos el numero de intervalos de clase \"ni\", aplicando la regla de Sturges\n",
        "ni_1= 1+3.32*np.log10(Max_1)\n",
        "ni_1"
      ],
      "metadata": {
        "colab": {
          "base_uri": "https://localhost:8080/"
        },
        "id": "hqYZ8X-DABBD",
        "outputId": "1f397d55-4fc7-4601-943c-8b11cfec6b2f"
      },
      "execution_count": 135,
      "outputs": [
        {
          "output_type": "execute_result",
          "data": {
            "text/plain": [
              "6.903462151273697"
            ]
          },
          "metadata": {},
          "execution_count": 135
        }
      ]
    },
    {
      "cell_type": "code",
      "source": [
        "#Calculamos el Ancho del Intervalo \"i\"\n",
        "i=R/ni_1\n",
        "i"
      ],
      "metadata": {
        "colab": {
          "base_uri": "https://localhost:8080/"
        },
        "id": "JM4tsC0XAGEv",
        "outputId": "769d2c56-32dd-4f7e-f04f-066665b74809"
      },
      "execution_count": 136,
      "outputs": [
        {
          "output_type": "execute_result",
          "data": {
            "text/plain": [
              "8.691291222467255"
            ]
          },
          "metadata": {},
          "execution_count": 136
        }
      ]
    },
    {
      "cell_type": "code",
      "source": [
        "#Categorización de variables\n",
        "intervalos=np.linspace(-0.0000000001,Max_1,round(ni_1+1))\n",
        "intervalos"
      ],
      "metadata": {
        "colab": {
          "base_uri": "https://localhost:8080/"
        },
        "id": "fH4xK7yIAQDC",
        "outputId": "03ff4af5-470c-4863-8a21-c41658c462a3"
      },
      "execution_count": 137,
      "outputs": [
        {
          "output_type": "execute_result",
          "data": {
            "text/plain": [
              "array([-1.00000000e-10,  8.57142857e+00,  1.71428571e+01,  2.57142857e+01,\n",
              "        3.42857143e+01,  4.28571429e+01,  5.14285714e+01,  6.00000000e+01])"
            ]
          },
          "metadata": {},
          "execution_count": 137
        }
      ]
    },
    {
      "cell_type": "code",
      "source": [
        "#Creamos las categorias\n",
        "categorias = [\n",
        "    'Disponible', 'Poco disponible', 'Abundante', 'Escaso',\n",
        "    'Frecuente', 'Raro','Comun'\n",
        "]\n",
        "\n"
      ],
      "metadata": {
        "id": "VBOsPs-5AnM-"
      },
      "execution_count": 138,
      "outputs": []
    },
    {
      "cell_type": "code",
      "source": [
        "#Finalmente creamos las categorias en la columna numerica\n",
        "City['availability_60']=pd.cut(x=City['availability_60'],bins=intervalos,labels=categorias)\n",
        "City['availability_60'].head()"
      ],
      "metadata": {
        "colab": {
          "base_uri": "https://localhost:8080/",
          "height": 238
        },
        "collapsed": true,
        "id": "PKxfxLaeA0oa",
        "outputId": "4032f02a-71ca-42a8-abae-9e6a8ecfef93"
      },
      "execution_count": 139,
      "outputs": [
        {
          "output_type": "execute_result",
          "data": {
            "text/plain": [
              "0             Escaso\n",
              "1              Comun\n",
              "2             Escaso\n",
              "3    Poco disponible\n",
              "4               Raro\n",
              "Name: availability_60, dtype: category\n",
              "Categories (7, object): ['Disponible' < 'Poco disponible' < 'Abundante' < 'Escaso' < 'Frecuente' < 'Raro' <\n",
              "                         'Comun']"
            ],
            "text/html": [
              "<div>\n",
              "<style scoped>\n",
              "    .dataframe tbody tr th:only-of-type {\n",
              "        vertical-align: middle;\n",
              "    }\n",
              "\n",
              "    .dataframe tbody tr th {\n",
              "        vertical-align: top;\n",
              "    }\n",
              "\n",
              "    .dataframe thead th {\n",
              "        text-align: right;\n",
              "    }\n",
              "</style>\n",
              "<table border=\"1\" class=\"dataframe\">\n",
              "  <thead>\n",
              "    <tr style=\"text-align: right;\">\n",
              "      <th></th>\n",
              "      <th>availability_60</th>\n",
              "    </tr>\n",
              "  </thead>\n",
              "  <tbody>\n",
              "    <tr>\n",
              "      <th>0</th>\n",
              "      <td>Escaso</td>\n",
              "    </tr>\n",
              "    <tr>\n",
              "      <th>1</th>\n",
              "      <td>Comun</td>\n",
              "    </tr>\n",
              "    <tr>\n",
              "      <th>2</th>\n",
              "      <td>Escaso</td>\n",
              "    </tr>\n",
              "    <tr>\n",
              "      <th>3</th>\n",
              "      <td>Poco disponible</td>\n",
              "    </tr>\n",
              "    <tr>\n",
              "      <th>4</th>\n",
              "      <td>Raro</td>\n",
              "    </tr>\n",
              "  </tbody>\n",
              "</table>\n",
              "</div><br><label><b>dtype:</b> category</label>"
            ]
          },
          "metadata": {},
          "execution_count": 139
        }
      ]
    },
    {
      "cell_type": "code",
      "source": [
        "City['availability_60'].isnull().sum()"
      ],
      "metadata": {
        "colab": {
          "base_uri": "https://localhost:8080/"
        },
        "id": "zozUKxd6IqgH",
        "outputId": "c7ad1494-37ed-443e-a1eb-0778cbb32889"
      },
      "execution_count": 140,
      "outputs": [
        {
          "output_type": "execute_result",
          "data": {
            "text/plain": [
              "0"
            ]
          },
          "metadata": {},
          "execution_count": 140
        }
      ]
    },
    {
      "cell_type": "markdown",
      "source": [
        "### **Strungens** Availability 90"
      ],
      "metadata": {
        "id": "t1jad--oD6tr"
      }
    },
    {
      "cell_type": "code",
      "source": [
        "#Calculamos el numero total de la poblacion \"n\"\n",
        "City['availability_90'].info()\n",
        "n_1=len(City)"
      ],
      "metadata": {
        "colab": {
          "base_uri": "https://localhost:8080/"
        },
        "id": "EviIr5GOEPPw",
        "outputId": "c86ea9fa-0685-498e-8073-35fcfdb40b26"
      },
      "execution_count": 141,
      "outputs": [
        {
          "output_type": "stream",
          "name": "stdout",
          "text": [
            "<class 'pandas.core.series.Series'>\n",
            "RangeIndex: 34664 entries, 0 to 34663\n",
            "Series name: availability_90\n",
            "Non-Null Count  Dtype\n",
            "--------------  -----\n",
            "34664 non-null  int64\n",
            "dtypes: int64(1)\n",
            "memory usage: 270.9 KB\n"
          ]
        }
      ]
    },
    {
      "cell_type": "code",
      "source": [
        "#Obtenemos el limite superior y el limite inferior de la colmna objetivo\n",
        "Max_2=City['availability_90'].max()\n",
        "Min_2=City['availability_90'].min()\n",
        "Limites= [Min_2, Max_2]\n",
        "Limites"
      ],
      "metadata": {
        "colab": {
          "base_uri": "https://localhost:8080/"
        },
        "id": "aSxzARIsETL0",
        "outputId": "a48f9a92-a0e2-4feb-cc94-49e86b18d79a"
      },
      "execution_count": 142,
      "outputs": [
        {
          "output_type": "execute_result",
          "data": {
            "text/plain": [
              "[0, 90]"
            ]
          },
          "metadata": {},
          "execution_count": 142
        }
      ]
    },
    {
      "cell_type": "code",
      "source": [
        "#Calculamos el Rango R\n",
        "R_2=Max_2-Min_2\n",
        "R_2"
      ],
      "metadata": {
        "colab": {
          "base_uri": "https://localhost:8080/"
        },
        "id": "vs6V1jeoEZPi",
        "outputId": "512a2bd8-daa5-4080-e8a9-2dea77d5131b"
      },
      "execution_count": 143,
      "outputs": [
        {
          "output_type": "execute_result",
          "data": {
            "text/plain": [
              "90"
            ]
          },
          "metadata": {},
          "execution_count": 143
        }
      ]
    },
    {
      "cell_type": "code",
      "source": [
        "#Categorización de variables\n",
        "intervalos=np.linspace(-0.01,Max_2,round(ni_1+1))\n",
        "len(intervalos)"
      ],
      "metadata": {
        "colab": {
          "base_uri": "https://localhost:8080/"
        },
        "id": "uv6q2Ka2EcLQ",
        "outputId": "5c44a127-190e-4336-a565-62e66cdcec5d"
      },
      "execution_count": 144,
      "outputs": [
        {
          "output_type": "execute_result",
          "data": {
            "text/plain": [
              "8"
            ]
          },
          "metadata": {},
          "execution_count": 144
        }
      ]
    },
    {
      "cell_type": "code",
      "source": [
        "#Creamos las categorias\n",
        "categorias = [\n",
        "    'Disponible', 'Poco disponible', 'Abundante', 'Escaso',\n",
        "    'Frecuente', 'Raro', 'Común'\n",
        "]\n"
      ],
      "metadata": {
        "id": "5fe1MxyDElQ4"
      },
      "execution_count": 145,
      "outputs": []
    },
    {
      "cell_type": "code",
      "source": [
        "#Finalmente creamos las categorias en la columna numerica\n",
        "City['availability_90']=pd.cut(x=City['availability_90'],bins=intervalos,labels=categorias)\n",
        "City['availability_90']"
      ],
      "metadata": {
        "colab": {
          "base_uri": "https://localhost:8080/",
          "height": 453
        },
        "id": "gcn2O9c6EowU",
        "outputId": "3a9cda50-f2a3-453f-9230-5bc6668d4453"
      },
      "execution_count": 146,
      "outputs": [
        {
          "output_type": "execute_result",
          "data": {
            "text/plain": [
              "0                 Escaso\n",
              "1                   Raro\n",
              "2                 Escaso\n",
              "3        Poco disponible\n",
              "4                   Raro\n",
              "              ...       \n",
              "34659               Raro\n",
              "34660              Común\n",
              "34661          Abundante\n",
              "34662              Común\n",
              "34663              Común\n",
              "Name: availability_90, Length: 34664, dtype: category\n",
              "Categories (7, object): ['Disponible' < 'Poco disponible' < 'Abundante' < 'Escaso' < 'Frecuente' < 'Raro' <\n",
              "                         'Común']"
            ],
            "text/html": [
              "<div>\n",
              "<style scoped>\n",
              "    .dataframe tbody tr th:only-of-type {\n",
              "        vertical-align: middle;\n",
              "    }\n",
              "\n",
              "    .dataframe tbody tr th {\n",
              "        vertical-align: top;\n",
              "    }\n",
              "\n",
              "    .dataframe thead th {\n",
              "        text-align: right;\n",
              "    }\n",
              "</style>\n",
              "<table border=\"1\" class=\"dataframe\">\n",
              "  <thead>\n",
              "    <tr style=\"text-align: right;\">\n",
              "      <th></th>\n",
              "      <th>availability_90</th>\n",
              "    </tr>\n",
              "  </thead>\n",
              "  <tbody>\n",
              "    <tr>\n",
              "      <th>0</th>\n",
              "      <td>Escaso</td>\n",
              "    </tr>\n",
              "    <tr>\n",
              "      <th>1</th>\n",
              "      <td>Raro</td>\n",
              "    </tr>\n",
              "    <tr>\n",
              "      <th>2</th>\n",
              "      <td>Escaso</td>\n",
              "    </tr>\n",
              "    <tr>\n",
              "      <th>3</th>\n",
              "      <td>Poco disponible</td>\n",
              "    </tr>\n",
              "    <tr>\n",
              "      <th>4</th>\n",
              "      <td>Raro</td>\n",
              "    </tr>\n",
              "    <tr>\n",
              "      <th>...</th>\n",
              "      <td>...</td>\n",
              "    </tr>\n",
              "    <tr>\n",
              "      <th>34659</th>\n",
              "      <td>Raro</td>\n",
              "    </tr>\n",
              "    <tr>\n",
              "      <th>34660</th>\n",
              "      <td>Común</td>\n",
              "    </tr>\n",
              "    <tr>\n",
              "      <th>34661</th>\n",
              "      <td>Abundante</td>\n",
              "    </tr>\n",
              "    <tr>\n",
              "      <th>34662</th>\n",
              "      <td>Común</td>\n",
              "    </tr>\n",
              "    <tr>\n",
              "      <th>34663</th>\n",
              "      <td>Común</td>\n",
              "    </tr>\n",
              "  </tbody>\n",
              "</table>\n",
              "<p>34664 rows × 1 columns</p>\n",
              "</div><br><label><b>dtype:</b> category</label>"
            ]
          },
          "metadata": {},
          "execution_count": 146
        }
      ]
    },
    {
      "cell_type": "code",
      "source": [
        "City['availability_90'].isnull().sum()"
      ],
      "metadata": {
        "colab": {
          "base_uri": "https://localhost:8080/"
        },
        "id": "HyLMHZakLzmT",
        "outputId": "87da5754-e343-4777-f8ba-fef5e5ab392f"
      },
      "execution_count": 147,
      "outputs": [
        {
          "output_type": "execute_result",
          "data": {
            "text/plain": [
              "0"
            ]
          },
          "metadata": {},
          "execution_count": 147
        }
      ]
    },
    {
      "cell_type": "markdown",
      "source": [
        "### **Strungens** Availability 365"
      ],
      "metadata": {
        "id": "mWinoT0xEvyX"
      }
    },
    {
      "cell_type": "code",
      "source": [
        "#Calculamos el numero total de la poblacion \"n\"\n",
        "City['availability_365'].info()\n",
        "n_1=len(City)"
      ],
      "metadata": {
        "colab": {
          "base_uri": "https://localhost:8080/"
        },
        "id": "bspnkae3Ezuq",
        "outputId": "40a157c7-3f2f-4d2c-dfc2-a761db9b6d3f"
      },
      "execution_count": 148,
      "outputs": [
        {
          "output_type": "stream",
          "name": "stdout",
          "text": [
            "<class 'pandas.core.series.Series'>\n",
            "RangeIndex: 34664 entries, 0 to 34663\n",
            "Series name: availability_365\n",
            "Non-Null Count  Dtype\n",
            "--------------  -----\n",
            "34664 non-null  int64\n",
            "dtypes: int64(1)\n",
            "memory usage: 270.9 KB\n"
          ]
        }
      ]
    },
    {
      "cell_type": "code",
      "source": [
        "#Obtenemos el limite superior y el limite inferior de la colmna objetivo\n",
        "Max_3=City['availability_365'].max()\n",
        "Min_3=City['availability_365'].min()\n",
        "Limites= [Min_3, Max_3]\n",
        "Limites"
      ],
      "metadata": {
        "colab": {
          "base_uri": "https://localhost:8080/"
        },
        "id": "_MdYWb_gFA3x",
        "outputId": "16df61b4-2baa-445f-b256-e41c327feed7"
      },
      "execution_count": 149,
      "outputs": [
        {
          "output_type": "execute_result",
          "data": {
            "text/plain": [
              "[0, 365]"
            ]
          },
          "metadata": {},
          "execution_count": 149
        }
      ]
    },
    {
      "cell_type": "code",
      "source": [
        "#Calculamos el Rango R\n",
        "R_3=Max_3-Min_3\n",
        "R_3"
      ],
      "metadata": {
        "colab": {
          "base_uri": "https://localhost:8080/"
        },
        "id": "0d-b4qMDFJk8",
        "outputId": "a9667da7-1784-4445-bf0b-8784ad0f2f2d"
      },
      "execution_count": 150,
      "outputs": [
        {
          "output_type": "execute_result",
          "data": {
            "text/plain": [
              "365"
            ]
          },
          "metadata": {},
          "execution_count": 150
        }
      ]
    },
    {
      "cell_type": "code",
      "source": [
        "#Categorización de variables\n",
        "intervalos=np.linspace(-0.01,Max_3,round(ni_1+1))\n",
        "intervalos"
      ],
      "metadata": {
        "colab": {
          "base_uri": "https://localhost:8080/"
        },
        "id": "Yd-2bqphFOoi",
        "outputId": "74094391-3366-4fa2-fe79-efcdaab87a2a"
      },
      "execution_count": 151,
      "outputs": [
        {
          "output_type": "execute_result",
          "data": {
            "text/plain": [
              "array([-1.00000000e-02,  5.21342857e+01,  1.04278571e+02,  1.56422857e+02,\n",
              "        2.08567143e+02,  2.60711429e+02,  3.12855714e+02,  3.65000000e+02])"
            ]
          },
          "metadata": {},
          "execution_count": 151
        }
      ]
    },
    {
      "cell_type": "code",
      "source": [
        "#Creamos las categorias\n",
        "categorias = [\n",
        "    'Disponible', 'Poco disponible', 'Abundante', 'Escaso',\n",
        "    'Frecuente', 'Raro', 'Común'\n",
        "]\n"
      ],
      "metadata": {
        "id": "_8CI9GzUFb6C"
      },
      "execution_count": 152,
      "outputs": []
    },
    {
      "cell_type": "code",
      "source": [
        "#Finalmente creamos las categorias en la columna numerica\n",
        "City['availability_365']=pd.cut(x=City['availability_365'],bins=intervalos,labels=categorias)\n",
        "City['availability_365']"
      ],
      "metadata": {
        "colab": {
          "base_uri": "https://localhost:8080/",
          "height": 453
        },
        "id": "1TF3nU8nFq-n",
        "outputId": "3cc7e5ff-0c4a-463a-d739-4f98d6eaa52c"
      },
      "execution_count": 153,
      "outputs": [
        {
          "output_type": "execute_result",
          "data": {
            "text/plain": [
              "0                   Raro\n",
              "1              Frecuente\n",
              "2                   Raro\n",
              "3        Poco disponible\n",
              "4                  Común\n",
              "              ...       \n",
              "34659    Poco disponible\n",
              "34660               Raro\n",
              "34661         Disponible\n",
              "34662          Frecuente\n",
              "34663              Común\n",
              "Name: availability_365, Length: 34664, dtype: category\n",
              "Categories (7, object): ['Disponible' < 'Poco disponible' < 'Abundante' < 'Escaso' < 'Frecuente' < 'Raro' <\n",
              "                         'Común']"
            ],
            "text/html": [
              "<div>\n",
              "<style scoped>\n",
              "    .dataframe tbody tr th:only-of-type {\n",
              "        vertical-align: middle;\n",
              "    }\n",
              "\n",
              "    .dataframe tbody tr th {\n",
              "        vertical-align: top;\n",
              "    }\n",
              "\n",
              "    .dataframe thead th {\n",
              "        text-align: right;\n",
              "    }\n",
              "</style>\n",
              "<table border=\"1\" class=\"dataframe\">\n",
              "  <thead>\n",
              "    <tr style=\"text-align: right;\">\n",
              "      <th></th>\n",
              "      <th>availability_365</th>\n",
              "    </tr>\n",
              "  </thead>\n",
              "  <tbody>\n",
              "    <tr>\n",
              "      <th>0</th>\n",
              "      <td>Raro</td>\n",
              "    </tr>\n",
              "    <tr>\n",
              "      <th>1</th>\n",
              "      <td>Frecuente</td>\n",
              "    </tr>\n",
              "    <tr>\n",
              "      <th>2</th>\n",
              "      <td>Raro</td>\n",
              "    </tr>\n",
              "    <tr>\n",
              "      <th>3</th>\n",
              "      <td>Poco disponible</td>\n",
              "    </tr>\n",
              "    <tr>\n",
              "      <th>4</th>\n",
              "      <td>Común</td>\n",
              "    </tr>\n",
              "    <tr>\n",
              "      <th>...</th>\n",
              "      <td>...</td>\n",
              "    </tr>\n",
              "    <tr>\n",
              "      <th>34659</th>\n",
              "      <td>Poco disponible</td>\n",
              "    </tr>\n",
              "    <tr>\n",
              "      <th>34660</th>\n",
              "      <td>Raro</td>\n",
              "    </tr>\n",
              "    <tr>\n",
              "      <th>34661</th>\n",
              "      <td>Disponible</td>\n",
              "    </tr>\n",
              "    <tr>\n",
              "      <th>34662</th>\n",
              "      <td>Frecuente</td>\n",
              "    </tr>\n",
              "    <tr>\n",
              "      <th>34663</th>\n",
              "      <td>Común</td>\n",
              "    </tr>\n",
              "  </tbody>\n",
              "</table>\n",
              "<p>34664 rows × 1 columns</p>\n",
              "</div><br><label><b>dtype:</b> category</label>"
            ]
          },
          "metadata": {},
          "execution_count": 153
        }
      ]
    },
    {
      "cell_type": "code",
      "source": [
        "City['availability_365'].isnull().sum()"
      ],
      "metadata": {
        "colab": {
          "base_uri": "https://localhost:8080/"
        },
        "id": "KTKwlLHxVWai",
        "outputId": "67b2699f-d211-41eb-bcd9-4b34f237ced8"
      },
      "execution_count": 154,
      "outputs": [
        {
          "output_type": "execute_result",
          "data": {
            "text/plain": [
              "0"
            ]
          },
          "metadata": {},
          "execution_count": 154
        }
      ]
    },
    {
      "cell_type": "markdown",
      "source": [
        "### **Strungens** number_of_reviews_ltm"
      ],
      "metadata": {
        "id": "t4jkAtgIFzV_"
      }
    },
    {
      "cell_type": "code",
      "source": [
        "#Calculamos el numero total de la poblacion \"n\"\n",
        "City['number_of_reviews_ltm'].info()\n",
        "n_1=len(City)"
      ],
      "metadata": {
        "colab": {
          "base_uri": "https://localhost:8080/"
        },
        "id": "1KGtMiNWFy0u",
        "outputId": "31d17f2a-d881-4546-9ccd-b74a983fa5d8"
      },
      "execution_count": 155,
      "outputs": [
        {
          "output_type": "stream",
          "name": "stdout",
          "text": [
            "<class 'pandas.core.series.Series'>\n",
            "RangeIndex: 34664 entries, 0 to 34663\n",
            "Series name: number_of_reviews_ltm\n",
            "Non-Null Count  Dtype  \n",
            "--------------  -----  \n",
            "34664 non-null  float64\n",
            "dtypes: float64(1)\n",
            "memory usage: 270.9 KB\n"
          ]
        }
      ]
    },
    {
      "cell_type": "code",
      "source": [
        "#Obtenemos el limite superior y el limite inferior de la colmna objetivo\n",
        "Max_4=City['number_of_reviews_ltm'].max()\n",
        "Min_4=City['number_of_reviews_ltm'].min()\n",
        "Limites= [Min_4, Max_4]\n",
        "Limites"
      ],
      "metadata": {
        "colab": {
          "base_uri": "https://localhost:8080/"
        },
        "id": "rwjTnyyPGGKL",
        "outputId": "624916a4-d10d-4e93-cdbf-42ec479bed25"
      },
      "execution_count": 156,
      "outputs": [
        {
          "output_type": "execute_result",
          "data": {
            "text/plain": [
              "[0.0, 25.0]"
            ]
          },
          "metadata": {},
          "execution_count": 156
        }
      ]
    },
    {
      "cell_type": "code",
      "source": [
        "#Calculamos el Rango R\n",
        "R_4=Max_4-Min_4\n",
        "R_4"
      ],
      "metadata": {
        "colab": {
          "base_uri": "https://localhost:8080/"
        },
        "id": "S__BUnqDGNSs",
        "outputId": "04addcca-14f6-4754-a9a6-ac009fecaa66"
      },
      "execution_count": 157,
      "outputs": [
        {
          "output_type": "execute_result",
          "data": {
            "text/plain": [
              "25.0"
            ]
          },
          "metadata": {},
          "execution_count": 157
        }
      ]
    },
    {
      "cell_type": "code",
      "source": [
        "#Categorización de variables\n",
        "intervalos=np.linspace(-0.01,Max_4,round(ni_1))\n",
        "intervalos"
      ],
      "metadata": {
        "colab": {
          "base_uri": "https://localhost:8080/"
        },
        "id": "iaJpezceGSet",
        "outputId": "23db3ae1-3456-4f33-eb60-aa930e6eb18c"
      },
      "execution_count": 158,
      "outputs": [
        {
          "output_type": "execute_result",
          "data": {
            "text/plain": [
              "array([-1.00000000e-02,  4.15833333e+00,  8.32666667e+00,  1.24950000e+01,\n",
              "        1.66633333e+01,  2.08316667e+01,  2.50000000e+01])"
            ]
          },
          "metadata": {},
          "execution_count": 158
        }
      ]
    },
    {
      "cell_type": "code",
      "source": [
        "#Creamos las categorias\n",
        "categorias = [\n",
        "    'Disponible', 'Poco disponible', 'Abundante', 'Escaso',\n",
        "    'Frecuente', 'Raro'\n",
        "]\n",
        "\n",
        "#Finalmente creamos las categorias en la columna numerica\n",
        "City['number_of_reviews_ltm']=pd.cut(x=City['number_of_reviews_ltm'],bins=intervalos,labels=categorias)\n",
        "City['number_of_reviews_ltm']"
      ],
      "metadata": {
        "colab": {
          "base_uri": "https://localhost:8080/",
          "height": 453
        },
        "id": "grOlm8FxGWrl",
        "outputId": "8e2e1b16-5433-4d94-9459-6cb811be9856"
      },
      "execution_count": 159,
      "outputs": [
        {
          "output_type": "execute_result",
          "data": {
            "text/plain": [
              "0                   Raro\n",
              "1                   Raro\n",
              "2             Disponible\n",
              "3        Poco disponible\n",
              "4              Frecuente\n",
              "              ...       \n",
              "34659         Disponible\n",
              "34660         Disponible\n",
              "34661         Disponible\n",
              "34662         Disponible\n",
              "34663         Disponible\n",
              "Name: number_of_reviews_ltm, Length: 34664, dtype: category\n",
              "Categories (6, object): ['Disponible' < 'Poco disponible' < 'Abundante' < 'Escaso' < 'Frecuente' < 'Raro']"
            ],
            "text/html": [
              "<div>\n",
              "<style scoped>\n",
              "    .dataframe tbody tr th:only-of-type {\n",
              "        vertical-align: middle;\n",
              "    }\n",
              "\n",
              "    .dataframe tbody tr th {\n",
              "        vertical-align: top;\n",
              "    }\n",
              "\n",
              "    .dataframe thead th {\n",
              "        text-align: right;\n",
              "    }\n",
              "</style>\n",
              "<table border=\"1\" class=\"dataframe\">\n",
              "  <thead>\n",
              "    <tr style=\"text-align: right;\">\n",
              "      <th></th>\n",
              "      <th>number_of_reviews_ltm</th>\n",
              "    </tr>\n",
              "  </thead>\n",
              "  <tbody>\n",
              "    <tr>\n",
              "      <th>0</th>\n",
              "      <td>Raro</td>\n",
              "    </tr>\n",
              "    <tr>\n",
              "      <th>1</th>\n",
              "      <td>Raro</td>\n",
              "    </tr>\n",
              "    <tr>\n",
              "      <th>2</th>\n",
              "      <td>Disponible</td>\n",
              "    </tr>\n",
              "    <tr>\n",
              "      <th>3</th>\n",
              "      <td>Poco disponible</td>\n",
              "    </tr>\n",
              "    <tr>\n",
              "      <th>4</th>\n",
              "      <td>Frecuente</td>\n",
              "    </tr>\n",
              "    <tr>\n",
              "      <th>...</th>\n",
              "      <td>...</td>\n",
              "    </tr>\n",
              "    <tr>\n",
              "      <th>34659</th>\n",
              "      <td>Disponible</td>\n",
              "    </tr>\n",
              "    <tr>\n",
              "      <th>34660</th>\n",
              "      <td>Disponible</td>\n",
              "    </tr>\n",
              "    <tr>\n",
              "      <th>34661</th>\n",
              "      <td>Disponible</td>\n",
              "    </tr>\n",
              "    <tr>\n",
              "      <th>34662</th>\n",
              "      <td>Disponible</td>\n",
              "    </tr>\n",
              "    <tr>\n",
              "      <th>34663</th>\n",
              "      <td>Disponible</td>\n",
              "    </tr>\n",
              "  </tbody>\n",
              "</table>\n",
              "<p>34664 rows × 1 columns</p>\n",
              "</div><br><label><b>dtype:</b> category</label>"
            ]
          },
          "metadata": {},
          "execution_count": 159
        }
      ]
    },
    {
      "cell_type": "markdown",
      "source": [
        "### **Strungens** 'reviews_per_month'"
      ],
      "metadata": {
        "id": "_2Z_Zyq7YzCg"
      }
    },
    {
      "cell_type": "code",
      "source": [
        "#Calculamos el numero total de la poblacion \"n\"\n",
        "City['reviews_per_month'].info()\n",
        "n_1=len(City)"
      ],
      "metadata": {
        "colab": {
          "base_uri": "https://localhost:8080/"
        },
        "id": "EqFReB11YxnN",
        "outputId": "db6c76d9-401f-4fd4-a98b-f19d409d532f"
      },
      "execution_count": 160,
      "outputs": [
        {
          "output_type": "stream",
          "name": "stdout",
          "text": [
            "<class 'pandas.core.series.Series'>\n",
            "RangeIndex: 34664 entries, 0 to 34663\n",
            "Series name: reviews_per_month\n",
            "Non-Null Count  Dtype  \n",
            "--------------  -----  \n",
            "34664 non-null  float64\n",
            "dtypes: float64(1)\n",
            "memory usage: 270.9 KB\n"
          ]
        }
      ]
    },
    {
      "cell_type": "code",
      "source": [
        "#Obtenemos el limite superior y el limite inferior de la colmna objetivo\n",
        "Max_5=City['reviews_per_month'].max()\n",
        "Min_5=City['reviews_per_month'].min()\n",
        "Limites= [Min_5, Max_5]\n",
        "Limites"
      ],
      "metadata": {
        "colab": {
          "base_uri": "https://localhost:8080/"
        },
        "id": "hBEQVRGFZcfo",
        "outputId": "30575010-47d6-4d35-b138-690538170738"
      },
      "execution_count": 161,
      "outputs": [
        {
          "output_type": "execute_result",
          "data": {
            "text/plain": [
              "[0.01, 3.59]"
            ]
          },
          "metadata": {},
          "execution_count": 161
        }
      ]
    },
    {
      "cell_type": "code",
      "source": [
        "#Calculamos el Rango R\n",
        "R_5=Max_5-Min_5\n",
        "R_5"
      ],
      "metadata": {
        "colab": {
          "base_uri": "https://localhost:8080/"
        },
        "id": "2FBCT2b6ZkNX",
        "outputId": "1edbca9d-67bc-49c7-a96e-10a4018fa0fb"
      },
      "execution_count": 162,
      "outputs": [
        {
          "output_type": "execute_result",
          "data": {
            "text/plain": [
              "3.58"
            ]
          },
          "metadata": {},
          "execution_count": 162
        }
      ]
    },
    {
      "cell_type": "code",
      "source": [
        "#Categorización de variables\n",
        "intervalos=np.linspace(-0.0000000000001,Max_5,round(ni_1))\n",
        "intervalos"
      ],
      "metadata": {
        "colab": {
          "base_uri": "https://localhost:8080/"
        },
        "id": "KyGR49lsZnxP",
        "outputId": "34bfa909-6828-4294-ef92-56cd0913dc2e"
      },
      "execution_count": 163,
      "outputs": [
        {
          "output_type": "execute_result",
          "data": {
            "text/plain": [
              "array([-1.00000000e-13,  5.98333333e-01,  1.19666667e+00,  1.79500000e+00,\n",
              "        2.39333333e+00,  2.99166667e+00,  3.59000000e+00])"
            ]
          },
          "metadata": {},
          "execution_count": 163
        }
      ]
    },
    {
      "cell_type": "code",
      "source": [
        "#Creamos las categorias\n",
        "categorias = [\n",
        "    'Disponible', 'Poco disponible', 'Abundante', 'Escaso',\n",
        "    'Frecuente', 'Raro'\n",
        "]\n",
        "\n",
        "#Finalmente creamos las categorias en la columna numerica\n",
        "City['reviews_per_month']=pd.cut(x=City['reviews_per_month'],bins=intervalos,labels=categorias)\n",
        "City['reviews_per_month']"
      ],
      "metadata": {
        "colab": {
          "base_uri": "https://localhost:8080/",
          "height": 453
        },
        "id": "zGjkx83YZpwn",
        "outputId": "f2464170-6888-4afa-a946-ddc385b9144e"
      },
      "execution_count": 164,
      "outputs": [
        {
          "output_type": "execute_result",
          "data": {
            "text/plain": [
              "0                 Escaso\n",
              "1              Abundante\n",
              "2             Disponible\n",
              "3              Frecuente\n",
              "4                   Raro\n",
              "              ...       \n",
              "34659    Poco disponible\n",
              "34660    Poco disponible\n",
              "34661    Poco disponible\n",
              "34662    Poco disponible\n",
              "34663    Poco disponible\n",
              "Name: reviews_per_month, Length: 34664, dtype: category\n",
              "Categories (6, object): ['Disponible' < 'Poco disponible' < 'Abundante' < 'Escaso' < 'Frecuente' < 'Raro']"
            ],
            "text/html": [
              "<div>\n",
              "<style scoped>\n",
              "    .dataframe tbody tr th:only-of-type {\n",
              "        vertical-align: middle;\n",
              "    }\n",
              "\n",
              "    .dataframe tbody tr th {\n",
              "        vertical-align: top;\n",
              "    }\n",
              "\n",
              "    .dataframe thead th {\n",
              "        text-align: right;\n",
              "    }\n",
              "</style>\n",
              "<table border=\"1\" class=\"dataframe\">\n",
              "  <thead>\n",
              "    <tr style=\"text-align: right;\">\n",
              "      <th></th>\n",
              "      <th>reviews_per_month</th>\n",
              "    </tr>\n",
              "  </thead>\n",
              "  <tbody>\n",
              "    <tr>\n",
              "      <th>0</th>\n",
              "      <td>Escaso</td>\n",
              "    </tr>\n",
              "    <tr>\n",
              "      <th>1</th>\n",
              "      <td>Abundante</td>\n",
              "    </tr>\n",
              "    <tr>\n",
              "      <th>2</th>\n",
              "      <td>Disponible</td>\n",
              "    </tr>\n",
              "    <tr>\n",
              "      <th>3</th>\n",
              "      <td>Frecuente</td>\n",
              "    </tr>\n",
              "    <tr>\n",
              "      <th>4</th>\n",
              "      <td>Raro</td>\n",
              "    </tr>\n",
              "    <tr>\n",
              "      <th>...</th>\n",
              "      <td>...</td>\n",
              "    </tr>\n",
              "    <tr>\n",
              "      <th>34659</th>\n",
              "      <td>Poco disponible</td>\n",
              "    </tr>\n",
              "    <tr>\n",
              "      <th>34660</th>\n",
              "      <td>Poco disponible</td>\n",
              "    </tr>\n",
              "    <tr>\n",
              "      <th>34661</th>\n",
              "      <td>Poco disponible</td>\n",
              "    </tr>\n",
              "    <tr>\n",
              "      <th>34662</th>\n",
              "      <td>Poco disponible</td>\n",
              "    </tr>\n",
              "    <tr>\n",
              "      <th>34663</th>\n",
              "      <td>Poco disponible</td>\n",
              "    </tr>\n",
              "  </tbody>\n",
              "</table>\n",
              "<p>34664 rows × 1 columns</p>\n",
              "</div><br><label><b>dtype:</b> category</label>"
            ]
          },
          "metadata": {},
          "execution_count": 164
        }
      ]
    },
    {
      "cell_type": "code",
      "source": [
        "City['reviews_per_month'].isnull().sum()"
      ],
      "metadata": {
        "colab": {
          "base_uri": "https://localhost:8080/"
        },
        "id": "smEYSVFUZ38y",
        "outputId": "1b14f603-82db-4633-b3e6-996b0b6c5924"
      },
      "execution_count": 165,
      "outputs": [
        {
          "output_type": "execute_result",
          "data": {
            "text/plain": [
              "0"
            ]
          },
          "metadata": {},
          "execution_count": 165
        }
      ]
    },
    {
      "cell_type": "markdown",
      "source": [],
      "metadata": {
        "id": "vq2caWv9br2M"
      }
    },
    {
      "cell_type": "markdown",
      "source": [
        "#**Modelo Explicativo de variables categoricas**"
      ],
      "metadata": {
        "id": "eYwR4CdrrTaR"
      }
    },
    {
      "cell_type": "code",
      "source": [
        "City.info()\n",
        "#categoricas = data.select_dtypes(include=[int, np.float64])\n"
      ],
      "metadata": {
        "colab": {
          "base_uri": "https://localhost:8080/"
        },
        "id": "WnSWtIRVXqgf",
        "outputId": "1e83b6b1-1605-40c7-b1c6-d058efa3bac5"
      },
      "execution_count": 166,
      "outputs": [
        {
          "output_type": "stream",
          "name": "stdout",
          "text": [
            "<class 'pandas.core.frame.DataFrame'>\n",
            "RangeIndex: 34664 entries, 0 to 34663\n",
            "Data columns (total 48 columns):\n",
            " #   Column                          Non-Null Count  Dtype   \n",
            "---  ------                          --------------  -----   \n",
            " 0   host_name                       34664 non-null  object  \n",
            " 1   host_since                      34664 non-null  object  \n",
            " 2   host_location                   34664 non-null  object  \n",
            " 3   host_response_time              34664 non-null  object  \n",
            " 4   host_is_superhost               34664 non-null  object  \n",
            " 5   host_neighbourhood              34664 non-null  object  \n",
            " 6   host_verifications              34664 non-null  object  \n",
            " 7   host_has_profile_pic            34664 non-null  object  \n",
            " 8   host_identity_verified          34664 non-null  object  \n",
            " 9   neighbourhood                   34664 non-null  object  \n",
            " 10  neighbourhood_cleansed          34664 non-null  object  \n",
            " 11  property_type                   34664 non-null  object  \n",
            " 12  room_type                       34664 non-null  object  \n",
            " 13  has_availability                34664 non-null  object  \n",
            " 14  instant_bookable                34664 non-null  object  \n",
            " 15  id                              34664 non-null  float64 \n",
            " 16  host_id                         34664 non-null  int64   \n",
            " 17  host_response_rate              34664 non-null  category\n",
            " 18  host_acceptance_rate            34664 non-null  category\n",
            " 19  host_listings_count             34664 non-null  float64 \n",
            " 20  host_total_listings_count       34664 non-null  category\n",
            " 21  latitude                        34664 non-null  float64 \n",
            " 22  longitude                       34664 non-null  float64 \n",
            " 23  accommodates                    34664 non-null  category\n",
            " 24  bathrooms                       34664 non-null  category\n",
            " 25  bedrooms                        34664 non-null  float64 \n",
            " 26  beds                            34664 non-null  category\n",
            " 27  price                           34664 non-null  category\n",
            " 28  minimum_nights                  34664 non-null  float64 \n",
            " 29  maximum_nights                  34664 non-null  float64 \n",
            " 30  maximum_maximum_nights          34664 non-null  int64   \n",
            " 31  minimum_nights_avg_ntm          34664 non-null  float64 \n",
            " 32  maximum_nights_avg_ntm          34664 non-null  float64 \n",
            " 33  availability_30                 34664 non-null  int64   \n",
            " 34  availability_60                 34664 non-null  category\n",
            " 35  availability_90                 34664 non-null  category\n",
            " 36  availability_365                34664 non-null  category\n",
            " 37  number_of_reviews               34664 non-null  float64 \n",
            " 38  number_of_reviews_ltm           34664 non-null  category\n",
            " 39  review_scores_rating            34664 non-null  float64 \n",
            " 40  review_scores_accuracy          34664 non-null  float64 \n",
            " 41  review_scores_cleanliness       34664 non-null  float64 \n",
            " 42  review_scores_checkin           34664 non-null  float64 \n",
            " 43  review_scores_communication     34664 non-null  float64 \n",
            " 44  review_scores_location          34664 non-null  float64 \n",
            " 45  review_scores_value             34664 non-null  float64 \n",
            " 46  calculated_host_listings_count  34664 non-null  float64 \n",
            " 47  reviews_per_month               34664 non-null  category\n",
            "dtypes: category(12), float64(18), int64(3), object(15)\n",
            "memory usage: 9.9+ MB\n"
          ]
        }
      ]
    },
    {
      "cell_type": "markdown",
      "source": [
        "Creamos un Df con una variable de puras variables categoricas"
      ],
      "metadata": {
        "id": "hUVdQAiHsR3m"
      }
    },
    {
      "cell_type": "code",
      "source": [
        "categoricas = City.select_dtypes(include='category')\n"
      ],
      "metadata": {
        "id": "RAqOJ4UxsaC3"
      },
      "execution_count": 167,
      "outputs": []
    },
    {
      "cell_type": "code",
      "source": [
        "categoricas.info()"
      ],
      "metadata": {
        "colab": {
          "base_uri": "https://localhost:8080/"
        },
        "id": "4Ig2wCAXslAS",
        "outputId": "96342072-b346-4f72-f004-55ff45e85335"
      },
      "execution_count": 168,
      "outputs": [
        {
          "output_type": "stream",
          "name": "stdout",
          "text": [
            "<class 'pandas.core.frame.DataFrame'>\n",
            "RangeIndex: 34664 entries, 0 to 34663\n",
            "Data columns (total 12 columns):\n",
            " #   Column                     Non-Null Count  Dtype   \n",
            "---  ------                     --------------  -----   \n",
            " 0   host_response_rate         34664 non-null  category\n",
            " 1   host_acceptance_rate       34664 non-null  category\n",
            " 2   host_total_listings_count  34664 non-null  category\n",
            " 3   accommodates               34664 non-null  category\n",
            " 4   bathrooms                  34664 non-null  category\n",
            " 5   beds                       34664 non-null  category\n",
            " 6   price                      34664 non-null  category\n",
            " 7   availability_60            34664 non-null  category\n",
            " 8   availability_90            34664 non-null  category\n",
            " 9   availability_365           34664 non-null  category\n",
            " 10  number_of_reviews_ltm      34664 non-null  category\n",
            " 11  reviews_per_month          34664 non-null  category\n",
            "dtypes: category(12)\n",
            "memory usage: 409.3 KB\n"
          ]
        }
      ]
    },
    {
      "cell_type": "code",
      "source": [
        "#Obtenemos un analisis univariado de las variables categoricas\n",
        "freq_tbl(categoricas)"
      ],
      "metadata": {
        "colab": {
          "base_uri": "https://localhost:8080/"
        },
        "id": "STmbNsi1rZON",
        "outputId": "5ef93e96-add4-4ba0-fd48-ced72800e396"
      },
      "execution_count": 169,
      "outputs": [
        {
          "output_type": "stream",
          "name": "stdout",
          "text": [
            "  host_response_rate  frequency  percentage  cumulative_perc\n",
            "0               Mala      34664         1.0              1.0\n",
            "1              Buena          0         0.0              1.0\n",
            "\n",
            "----------------------------------------------------------------\n",
            "\n",
            "  host_acceptance_rate  frequency  percentage  cumulative_perc\n",
            "0                 Mala      31101    0.897213         0.897213\n",
            "1                Buena       3563    0.102787         1.000000\n",
            "\n",
            "----------------------------------------------------------------\n",
            "\n",
            "  host_total_listings_count  frequency  percentage  cumulative_perc\n",
            "0                Disponible      15989    0.461257         0.461257\n",
            "1           Poco disponible      12823    0.369923         0.831179\n",
            "2                 Abundante       2745    0.079189         0.910368\n",
            "3                    Escaso       1448    0.041772         0.952141\n",
            "4                      Raro        845    0.024377         0.976517\n",
            "5                 Frecuente        814    0.023483         1.000000\n",
            "\n",
            "----------------------------------------------------------------\n",
            "\n",
            "      accommodates  frequency  percentage  cumulative_perc\n",
            "0        Abundante      14070    0.405897         0.405897\n",
            "1  Poco disponible      13310    0.383972         0.789868\n",
            "2           Escaso       4495    0.129673         0.919542\n",
            "3       Disponible       1510    0.043561         0.963103\n",
            "4        Frecuente       1279    0.036897         1.000000\n",
            "\n",
            "----------------------------------------------------------------\n",
            "\n",
            "         bathrooms  frequency  percentage  cumulative_perc\n",
            "0  Poco disponible      23881    0.688928         0.688928\n",
            "1        Abundante       8332    0.240365         0.929293\n",
            "2           Escaso       2088    0.060235         0.989528\n",
            "3       Disponible        363    0.010472         1.000000\n",
            "\n",
            "----------------------------------------------------------------\n",
            "\n",
            "              beds  frequency  percentage  cumulative_perc\n",
            "0       Disponible      13622    0.392973         0.392973\n",
            "1  Poco disponible      10657    0.307437         0.700410\n",
            "2        Abundante       5283    0.152406         0.852816\n",
            "3           Escaso       2949    0.085074         0.937889\n",
            "4           Normal       2153    0.062111         1.000000\n",
            "\n",
            "----------------------------------------------------------------\n",
            "\n",
            "        price  frequency  percentage  cumulative_perc\n",
            "0     284-378       8345    0.240740         0.240740\n",
            "1     200-283       7630    0.220113         0.460853\n",
            "2      95-189       6683    0.192794         0.653646\n",
            "3     379-473       3219    0.092863         0.746509\n",
            "4     474-567       2370    0.068371         0.814880\n",
            "5     568-662       1451    0.041859         0.856739\n",
            "6        0-94       1185    0.034185         0.890924\n",
            "7     663-757       1058    0.030522         0.921446\n",
            "8     758-852        990    0.028560         0.950006\n",
            "9    947-1041        823    0.023742         0.973748\n",
            "10    853-946        552    0.015924         0.989672\n",
            "11  1042-1136        358    0.010328         1.000000\n",
            "\n",
            "----------------------------------------------------------------\n",
            "\n",
            "   availability_60  frequency  percentage  cumulative_perc\n",
            "0            Comun      19128    0.551812         0.551812\n",
            "1       Disponible       4219    0.121711         0.673523\n",
            "2             Raro       3338    0.096296         0.769819\n",
            "3           Escaso       2652    0.076506         0.846325\n",
            "4        Frecuente       2375    0.068515         0.914840\n",
            "5        Abundante       1691    0.048783         0.963622\n",
            "6  Poco disponible       1261    0.036378         1.000000\n",
            "\n",
            "----------------------------------------------------------------\n",
            "\n",
            "   availability_90  frequency  percentage  cumulative_perc\n",
            "0            Común      17765    0.512491         0.512491\n",
            "1             Raro       4621    0.133308         0.645800\n",
            "2       Disponible       3451    0.099556         0.745355\n",
            "3        Frecuente       3294    0.095027         0.840382\n",
            "4           Escaso       2303    0.066438         0.906820\n",
            "5        Abundante       1824    0.052619         0.959439\n",
            "6  Poco disponible       1406    0.040561         1.000000\n",
            "\n",
            "----------------------------------------------------------------\n",
            "\n",
            "  availability_365  frequency  percentage  cumulative_perc\n",
            "0            Común       8990    0.259347         0.259347\n",
            "1  Poco disponible       6830    0.197034         0.456381\n",
            "2           Escaso       4849    0.139886         0.596267\n",
            "3             Raro       4460    0.128664         0.724931\n",
            "4       Disponible       3370    0.097219         0.822150\n",
            "5        Abundante       3118    0.089949         0.912099\n",
            "6        Frecuente       3047    0.087901         1.000000\n",
            "\n",
            "----------------------------------------------------------------\n",
            "\n",
            "  number_of_reviews_ltm  frequency  percentage  cumulative_perc\n",
            "0            Disponible      21198    0.611528         0.611528\n",
            "1       Poco disponible       6686    0.192880         0.804408\n",
            "2             Abundante       2320    0.066928         0.871336\n",
            "3                Escaso       1748    0.050427         0.921763\n",
            "4             Frecuente       1361    0.039263         0.961026\n",
            "5                  Raro       1351    0.038974         1.000000\n",
            "\n",
            "----------------------------------------------------------------\n",
            "\n",
            "  reviews_per_month  frequency  percentage  cumulative_perc\n",
            "0        Disponible      15553    0.448679         0.448679\n",
            "1   Poco disponible       9508    0.274290         0.722969\n",
            "2         Abundante       3941    0.113691         0.836661\n",
            "3            Escaso       2875    0.082939         0.919600\n",
            "4         Frecuente       1627    0.046936         0.966536\n",
            "5              Raro       1160    0.033464         1.000000\n",
            "\n",
            "----------------------------------------------------------------\n",
            "\n"
          ]
        }
      ]
    },
    {
      "cell_type": "markdown",
      "source": [
        "# Tablas"
      ],
      "metadata": {
        "id": "PPeRF7Lc3HFR"
      }
    },
    {
      "cell_type": "markdown",
      "source": [
        "## Price"
      ],
      "metadata": {
        "id": "B7OoW_2Y3K84"
      }
    },
    {
      "cell_type": "code",
      "source": [
        "#Obtengo un analisis univariado de una variable categorica en especifico\n",
        "table1= freq_tbl(categoricas['price'])\n",
        "table1"
      ],
      "metadata": {
        "colab": {
          "base_uri": "https://localhost:8080/",
          "height": 421
        },
        "id": "pHQ3FpFos0Un",
        "outputId": "9e9bd67b-12d1-482e-8ae1-8cf9be921c8b"
      },
      "execution_count": 179,
      "outputs": [
        {
          "output_type": "execute_result",
          "data": {
            "text/plain": [
              "        price  frequency  percentage  cumulative_perc\n",
              "0     284-378       8345    0.240740         0.240740\n",
              "1     200-283       7630    0.220113         0.460853\n",
              "2      95-189       6683    0.192794         0.653646\n",
              "3     379-473       3219    0.092863         0.746509\n",
              "4     474-567       2370    0.068371         0.814880\n",
              "5     568-662       1451    0.041859         0.856739\n",
              "6        0-94       1185    0.034185         0.890924\n",
              "7     663-757       1058    0.030522         0.921446\n",
              "8     758-852        990    0.028560         0.950006\n",
              "9    947-1041        823    0.023742         0.973748\n",
              "10    853-946        552    0.015924         0.989672\n",
              "11  1042-1136        358    0.010328         1.000000"
            ],
            "text/html": [
              "\n",
              "  <div id=\"df-eccf73d2-d115-4f90-8d3e-d77106689535\" class=\"colab-df-container\">\n",
              "    <div>\n",
              "<style scoped>\n",
              "    .dataframe tbody tr th:only-of-type {\n",
              "        vertical-align: middle;\n",
              "    }\n",
              "\n",
              "    .dataframe tbody tr th {\n",
              "        vertical-align: top;\n",
              "    }\n",
              "\n",
              "    .dataframe thead th {\n",
              "        text-align: right;\n",
              "    }\n",
              "</style>\n",
              "<table border=\"1\" class=\"dataframe\">\n",
              "  <thead>\n",
              "    <tr style=\"text-align: right;\">\n",
              "      <th></th>\n",
              "      <th>price</th>\n",
              "      <th>frequency</th>\n",
              "      <th>percentage</th>\n",
              "      <th>cumulative_perc</th>\n",
              "    </tr>\n",
              "  </thead>\n",
              "  <tbody>\n",
              "    <tr>\n",
              "      <th>0</th>\n",
              "      <td>284-378</td>\n",
              "      <td>8345</td>\n",
              "      <td>0.240740</td>\n",
              "      <td>0.240740</td>\n",
              "    </tr>\n",
              "    <tr>\n",
              "      <th>1</th>\n",
              "      <td>200-283</td>\n",
              "      <td>7630</td>\n",
              "      <td>0.220113</td>\n",
              "      <td>0.460853</td>\n",
              "    </tr>\n",
              "    <tr>\n",
              "      <th>2</th>\n",
              "      <td>95-189</td>\n",
              "      <td>6683</td>\n",
              "      <td>0.192794</td>\n",
              "      <td>0.653646</td>\n",
              "    </tr>\n",
              "    <tr>\n",
              "      <th>3</th>\n",
              "      <td>379-473</td>\n",
              "      <td>3219</td>\n",
              "      <td>0.092863</td>\n",
              "      <td>0.746509</td>\n",
              "    </tr>\n",
              "    <tr>\n",
              "      <th>4</th>\n",
              "      <td>474-567</td>\n",
              "      <td>2370</td>\n",
              "      <td>0.068371</td>\n",
              "      <td>0.814880</td>\n",
              "    </tr>\n",
              "    <tr>\n",
              "      <th>5</th>\n",
              "      <td>568-662</td>\n",
              "      <td>1451</td>\n",
              "      <td>0.041859</td>\n",
              "      <td>0.856739</td>\n",
              "    </tr>\n",
              "    <tr>\n",
              "      <th>6</th>\n",
              "      <td>0-94</td>\n",
              "      <td>1185</td>\n",
              "      <td>0.034185</td>\n",
              "      <td>0.890924</td>\n",
              "    </tr>\n",
              "    <tr>\n",
              "      <th>7</th>\n",
              "      <td>663-757</td>\n",
              "      <td>1058</td>\n",
              "      <td>0.030522</td>\n",
              "      <td>0.921446</td>\n",
              "    </tr>\n",
              "    <tr>\n",
              "      <th>8</th>\n",
              "      <td>758-852</td>\n",
              "      <td>990</td>\n",
              "      <td>0.028560</td>\n",
              "      <td>0.950006</td>\n",
              "    </tr>\n",
              "    <tr>\n",
              "      <th>9</th>\n",
              "      <td>947-1041</td>\n",
              "      <td>823</td>\n",
              "      <td>0.023742</td>\n",
              "      <td>0.973748</td>\n",
              "    </tr>\n",
              "    <tr>\n",
              "      <th>10</th>\n",
              "      <td>853-946</td>\n",
              "      <td>552</td>\n",
              "      <td>0.015924</td>\n",
              "      <td>0.989672</td>\n",
              "    </tr>\n",
              "    <tr>\n",
              "      <th>11</th>\n",
              "      <td>1042-1136</td>\n",
              "      <td>358</td>\n",
              "      <td>0.010328</td>\n",
              "      <td>1.000000</td>\n",
              "    </tr>\n",
              "  </tbody>\n",
              "</table>\n",
              "</div>\n",
              "    <div class=\"colab-df-buttons\">\n",
              "\n",
              "  <div class=\"colab-df-container\">\n",
              "    <button class=\"colab-df-convert\" onclick=\"convertToInteractive('df-eccf73d2-d115-4f90-8d3e-d77106689535')\"\n",
              "            title=\"Convert this dataframe to an interactive table.\"\n",
              "            style=\"display:none;\">\n",
              "\n",
              "  <svg xmlns=\"http://www.w3.org/2000/svg\" height=\"24px\" viewBox=\"0 -960 960 960\">\n",
              "    <path d=\"M120-120v-720h720v720H120Zm60-500h600v-160H180v160Zm220 220h160v-160H400v160Zm0 220h160v-160H400v160ZM180-400h160v-160H180v160Zm440 0h160v-160H620v160ZM180-180h160v-160H180v160Zm440 0h160v-160H620v160Z\"/>\n",
              "  </svg>\n",
              "    </button>\n",
              "\n",
              "  <style>\n",
              "    .colab-df-container {\n",
              "      display:flex;\n",
              "      gap: 12px;\n",
              "    }\n",
              "\n",
              "    .colab-df-convert {\n",
              "      background-color: #E8F0FE;\n",
              "      border: none;\n",
              "      border-radius: 50%;\n",
              "      cursor: pointer;\n",
              "      display: none;\n",
              "      fill: #1967D2;\n",
              "      height: 32px;\n",
              "      padding: 0 0 0 0;\n",
              "      width: 32px;\n",
              "    }\n",
              "\n",
              "    .colab-df-convert:hover {\n",
              "      background-color: #E2EBFA;\n",
              "      box-shadow: 0px 1px 2px rgba(60, 64, 67, 0.3), 0px 1px 3px 1px rgba(60, 64, 67, 0.15);\n",
              "      fill: #174EA6;\n",
              "    }\n",
              "\n",
              "    .colab-df-buttons div {\n",
              "      margin-bottom: 4px;\n",
              "    }\n",
              "\n",
              "    [theme=dark] .colab-df-convert {\n",
              "      background-color: #3B4455;\n",
              "      fill: #D2E3FC;\n",
              "    }\n",
              "\n",
              "    [theme=dark] .colab-df-convert:hover {\n",
              "      background-color: #434B5C;\n",
              "      box-shadow: 0px 1px 3px 1px rgba(0, 0, 0, 0.15);\n",
              "      filter: drop-shadow(0px 1px 2px rgba(0, 0, 0, 0.3));\n",
              "      fill: #FFFFFF;\n",
              "    }\n",
              "  </style>\n",
              "\n",
              "    <script>\n",
              "      const buttonEl =\n",
              "        document.querySelector('#df-eccf73d2-d115-4f90-8d3e-d77106689535 button.colab-df-convert');\n",
              "      buttonEl.style.display =\n",
              "        google.colab.kernel.accessAllowed ? 'block' : 'none';\n",
              "\n",
              "      async function convertToInteractive(key) {\n",
              "        const element = document.querySelector('#df-eccf73d2-d115-4f90-8d3e-d77106689535');\n",
              "        const dataTable =\n",
              "          await google.colab.kernel.invokeFunction('convertToInteractive',\n",
              "                                                    [key], {});\n",
              "        if (!dataTable) return;\n",
              "\n",
              "        const docLinkHtml = 'Like what you see? Visit the ' +\n",
              "          '<a target=\"_blank\" href=https://colab.research.google.com/notebooks/data_table.ipynb>data table notebook</a>'\n",
              "          + ' to learn more about interactive tables.';\n",
              "        element.innerHTML = '';\n",
              "        dataTable['output_type'] = 'display_data';\n",
              "        await google.colab.output.renderOutput(dataTable, element);\n",
              "        const docLink = document.createElement('div');\n",
              "        docLink.innerHTML = docLinkHtml;\n",
              "        element.appendChild(docLink);\n",
              "      }\n",
              "    </script>\n",
              "  </div>\n",
              "\n",
              "\n",
              "<div id=\"df-57f3b673-cbcf-4695-a715-eab916806e14\">\n",
              "  <button class=\"colab-df-quickchart\" onclick=\"quickchart('df-57f3b673-cbcf-4695-a715-eab916806e14')\"\n",
              "            title=\"Suggest charts\"\n",
              "            style=\"display:none;\">\n",
              "\n",
              "<svg xmlns=\"http://www.w3.org/2000/svg\" height=\"24px\"viewBox=\"0 0 24 24\"\n",
              "     width=\"24px\">\n",
              "    <g>\n",
              "        <path d=\"M19 3H5c-1.1 0-2 .9-2 2v14c0 1.1.9 2 2 2h14c1.1 0 2-.9 2-2V5c0-1.1-.9-2-2-2zM9 17H7v-7h2v7zm4 0h-2V7h2v10zm4 0h-2v-4h2v4z\"/>\n",
              "    </g>\n",
              "</svg>\n",
              "  </button>\n",
              "\n",
              "<style>\n",
              "  .colab-df-quickchart {\n",
              "      --bg-color: #E8F0FE;\n",
              "      --fill-color: #1967D2;\n",
              "      --hover-bg-color: #E2EBFA;\n",
              "      --hover-fill-color: #174EA6;\n",
              "      --disabled-fill-color: #AAA;\n",
              "      --disabled-bg-color: #DDD;\n",
              "  }\n",
              "\n",
              "  [theme=dark] .colab-df-quickchart {\n",
              "      --bg-color: #3B4455;\n",
              "      --fill-color: #D2E3FC;\n",
              "      --hover-bg-color: #434B5C;\n",
              "      --hover-fill-color: #FFFFFF;\n",
              "      --disabled-bg-color: #3B4455;\n",
              "      --disabled-fill-color: #666;\n",
              "  }\n",
              "\n",
              "  .colab-df-quickchart {\n",
              "    background-color: var(--bg-color);\n",
              "    border: none;\n",
              "    border-radius: 50%;\n",
              "    cursor: pointer;\n",
              "    display: none;\n",
              "    fill: var(--fill-color);\n",
              "    height: 32px;\n",
              "    padding: 0;\n",
              "    width: 32px;\n",
              "  }\n",
              "\n",
              "  .colab-df-quickchart:hover {\n",
              "    background-color: var(--hover-bg-color);\n",
              "    box-shadow: 0 1px 2px rgba(60, 64, 67, 0.3), 0 1px 3px 1px rgba(60, 64, 67, 0.15);\n",
              "    fill: var(--button-hover-fill-color);\n",
              "  }\n",
              "\n",
              "  .colab-df-quickchart-complete:disabled,\n",
              "  .colab-df-quickchart-complete:disabled:hover {\n",
              "    background-color: var(--disabled-bg-color);\n",
              "    fill: var(--disabled-fill-color);\n",
              "    box-shadow: none;\n",
              "  }\n",
              "\n",
              "  .colab-df-spinner {\n",
              "    border: 2px solid var(--fill-color);\n",
              "    border-color: transparent;\n",
              "    border-bottom-color: var(--fill-color);\n",
              "    animation:\n",
              "      spin 1s steps(1) infinite;\n",
              "  }\n",
              "\n",
              "  @keyframes spin {\n",
              "    0% {\n",
              "      border-color: transparent;\n",
              "      border-bottom-color: var(--fill-color);\n",
              "      border-left-color: var(--fill-color);\n",
              "    }\n",
              "    20% {\n",
              "      border-color: transparent;\n",
              "      border-left-color: var(--fill-color);\n",
              "      border-top-color: var(--fill-color);\n",
              "    }\n",
              "    30% {\n",
              "      border-color: transparent;\n",
              "      border-left-color: var(--fill-color);\n",
              "      border-top-color: var(--fill-color);\n",
              "      border-right-color: var(--fill-color);\n",
              "    }\n",
              "    40% {\n",
              "      border-color: transparent;\n",
              "      border-right-color: var(--fill-color);\n",
              "      border-top-color: var(--fill-color);\n",
              "    }\n",
              "    60% {\n",
              "      border-color: transparent;\n",
              "      border-right-color: var(--fill-color);\n",
              "    }\n",
              "    80% {\n",
              "      border-color: transparent;\n",
              "      border-right-color: var(--fill-color);\n",
              "      border-bottom-color: var(--fill-color);\n",
              "    }\n",
              "    90% {\n",
              "      border-color: transparent;\n",
              "      border-bottom-color: var(--fill-color);\n",
              "    }\n",
              "  }\n",
              "</style>\n",
              "\n",
              "  <script>\n",
              "    async function quickchart(key) {\n",
              "      const quickchartButtonEl =\n",
              "        document.querySelector('#' + key + ' button');\n",
              "      quickchartButtonEl.disabled = true;  // To prevent multiple clicks.\n",
              "      quickchartButtonEl.classList.add('colab-df-spinner');\n",
              "      try {\n",
              "        const charts = await google.colab.kernel.invokeFunction(\n",
              "            'suggestCharts', [key], {});\n",
              "      } catch (error) {\n",
              "        console.error('Error during call to suggestCharts:', error);\n",
              "      }\n",
              "      quickchartButtonEl.classList.remove('colab-df-spinner');\n",
              "      quickchartButtonEl.classList.add('colab-df-quickchart-complete');\n",
              "    }\n",
              "    (() => {\n",
              "      let quickchartButtonEl =\n",
              "        document.querySelector('#df-57f3b673-cbcf-4695-a715-eab916806e14 button');\n",
              "      quickchartButtonEl.style.display =\n",
              "        google.colab.kernel.accessAllowed ? 'block' : 'none';\n",
              "    })();\n",
              "  </script>\n",
              "</div>\n",
              "\n",
              "  <div id=\"id_ddce6b85-f15a-44c1-9096-1567d84078a6\">\n",
              "    <style>\n",
              "      .colab-df-generate {\n",
              "        background-color: #E8F0FE;\n",
              "        border: none;\n",
              "        border-radius: 50%;\n",
              "        cursor: pointer;\n",
              "        display: none;\n",
              "        fill: #1967D2;\n",
              "        height: 32px;\n",
              "        padding: 0 0 0 0;\n",
              "        width: 32px;\n",
              "      }\n",
              "\n",
              "      .colab-df-generate:hover {\n",
              "        background-color: #E2EBFA;\n",
              "        box-shadow: 0px 1px 2px rgba(60, 64, 67, 0.3), 0px 1px 3px 1px rgba(60, 64, 67, 0.15);\n",
              "        fill: #174EA6;\n",
              "      }\n",
              "\n",
              "      [theme=dark] .colab-df-generate {\n",
              "        background-color: #3B4455;\n",
              "        fill: #D2E3FC;\n",
              "      }\n",
              "\n",
              "      [theme=dark] .colab-df-generate:hover {\n",
              "        background-color: #434B5C;\n",
              "        box-shadow: 0px 1px 3px 1px rgba(0, 0, 0, 0.15);\n",
              "        filter: drop-shadow(0px 1px 2px rgba(0, 0, 0, 0.3));\n",
              "        fill: #FFFFFF;\n",
              "      }\n",
              "    </style>\n",
              "    <button class=\"colab-df-generate\" onclick=\"generateWithVariable('table1')\"\n",
              "            title=\"Generate code using this dataframe.\"\n",
              "            style=\"display:none;\">\n",
              "\n",
              "  <svg xmlns=\"http://www.w3.org/2000/svg\" height=\"24px\"viewBox=\"0 0 24 24\"\n",
              "       width=\"24px\">\n",
              "    <path d=\"M7,19H8.4L18.45,9,17,7.55,7,17.6ZM5,21V16.75L18.45,3.32a2,2,0,0,1,2.83,0l1.4,1.43a1.91,1.91,0,0,1,.58,1.4,1.91,1.91,0,0,1-.58,1.4L9.25,21ZM18.45,9,17,7.55Zm-12,3A5.31,5.31,0,0,0,4.9,8.1,5.31,5.31,0,0,0,1,6.5,5.31,5.31,0,0,0,4.9,4.9,5.31,5.31,0,0,0,6.5,1,5.31,5.31,0,0,0,8.1,4.9,5.31,5.31,0,0,0,12,6.5,5.46,5.46,0,0,0,6.5,12Z\"/>\n",
              "  </svg>\n",
              "    </button>\n",
              "    <script>\n",
              "      (() => {\n",
              "      const buttonEl =\n",
              "        document.querySelector('#id_ddce6b85-f15a-44c1-9096-1567d84078a6 button.colab-df-generate');\n",
              "      buttonEl.style.display =\n",
              "        google.colab.kernel.accessAllowed ? 'block' : 'none';\n",
              "\n",
              "      buttonEl.onclick = () => {\n",
              "        google.colab.notebook.generateWithVariable('table1');\n",
              "      }\n",
              "      })();\n",
              "    </script>\n",
              "  </div>\n",
              "\n",
              "    </div>\n",
              "  </div>\n"
            ],
            "application/vnd.google.colaboratory.intrinsic+json": {
              "type": "dataframe",
              "variable_name": "table1",
              "summary": "{\n  \"name\": \"table1\",\n  \"rows\": 12,\n  \"fields\": [\n    {\n      \"column\": \"price\",\n      \"properties\": {\n        \"dtype\": \"category\",\n        \"num_unique_values\": 12,\n        \"samples\": [\n          \"853-946\",\n          \"947-1041\",\n          \"284-378\"\n        ],\n        \"semantic_type\": \"\",\n        \"description\": \"\"\n      }\n    },\n    {\n      \"column\": \"frequency\",\n      \"properties\": {\n        \"dtype\": \"number\",\n        \"std\": 2940,\n        \"min\": 358,\n        \"max\": 8345,\n        \"num_unique_values\": 12,\n        \"samples\": [\n          552,\n          823,\n          8345\n        ],\n        \"semantic_type\": \"\",\n        \"description\": \"\"\n      }\n    },\n    {\n      \"column\": \"percentage\",\n      \"properties\": {\n        \"dtype\": \"number\",\n        \"std\": 0.08481609894595321,\n        \"min\": 0.010327717516732057,\n        \"max\": 0.24073967228248327,\n        \"num_unique_values\": 12,\n        \"samples\": [\n          0.015924301869374567,\n          0.023742210939303024,\n          0.24073967228248327\n        ],\n        \"semantic_type\": \"\",\n        \"description\": \"\"\n      }\n    },\n    {\n      \"column\": \"cumulative_perc\",\n      \"properties\": {\n        \"dtype\": \"number\",\n        \"std\": 0.23478209821340595,\n        \"min\": 0.24073967228248327,\n        \"max\": 1.0,\n        \"num_unique_values\": 12,\n        \"samples\": [\n          0.989672282483268,\n          0.9737479806138934,\n          0.24073967228248327\n        ],\n        \"semantic_type\": \"\",\n        \"description\": \"\"\n      }\n    }\n  ]\n}"
            }
          },
          "metadata": {},
          "execution_count": 179
        }
      ]
    },
    {
      "cell_type": "code",
      "source": [
        "#elimino las columnas \"percentage\" y \"cumulative_perc\" para trabajar con las frecuencias\n",
        "table2=table1.drop(['percentage','cumulative_perc'],axis=1)\n",
        "table2"
      ],
      "metadata": {
        "colab": {
          "base_uri": "https://localhost:8080/",
          "height": 421
        },
        "id": "8V02A_zstZD1",
        "outputId": "9d9bcc7e-73c2-4ba2-ca7c-5a039ccee0b4"
      },
      "execution_count": 180,
      "outputs": [
        {
          "output_type": "execute_result",
          "data": {
            "text/plain": [
              "        price  frequency\n",
              "0     284-378       8345\n",
              "1     200-283       7630\n",
              "2      95-189       6683\n",
              "3     379-473       3219\n",
              "4     474-567       2370\n",
              "5     568-662       1451\n",
              "6        0-94       1185\n",
              "7     663-757       1058\n",
              "8     758-852        990\n",
              "9    947-1041        823\n",
              "10    853-946        552\n",
              "11  1042-1136        358"
            ],
            "text/html": [
              "\n",
              "  <div id=\"df-0f6af14f-9452-49c9-993a-ec81f42f7a08\" class=\"colab-df-container\">\n",
              "    <div>\n",
              "<style scoped>\n",
              "    .dataframe tbody tr th:only-of-type {\n",
              "        vertical-align: middle;\n",
              "    }\n",
              "\n",
              "    .dataframe tbody tr th {\n",
              "        vertical-align: top;\n",
              "    }\n",
              "\n",
              "    .dataframe thead th {\n",
              "        text-align: right;\n",
              "    }\n",
              "</style>\n",
              "<table border=\"1\" class=\"dataframe\">\n",
              "  <thead>\n",
              "    <tr style=\"text-align: right;\">\n",
              "      <th></th>\n",
              "      <th>price</th>\n",
              "      <th>frequency</th>\n",
              "    </tr>\n",
              "  </thead>\n",
              "  <tbody>\n",
              "    <tr>\n",
              "      <th>0</th>\n",
              "      <td>284-378</td>\n",
              "      <td>8345</td>\n",
              "    </tr>\n",
              "    <tr>\n",
              "      <th>1</th>\n",
              "      <td>200-283</td>\n",
              "      <td>7630</td>\n",
              "    </tr>\n",
              "    <tr>\n",
              "      <th>2</th>\n",
              "      <td>95-189</td>\n",
              "      <td>6683</td>\n",
              "    </tr>\n",
              "    <tr>\n",
              "      <th>3</th>\n",
              "      <td>379-473</td>\n",
              "      <td>3219</td>\n",
              "    </tr>\n",
              "    <tr>\n",
              "      <th>4</th>\n",
              "      <td>474-567</td>\n",
              "      <td>2370</td>\n",
              "    </tr>\n",
              "    <tr>\n",
              "      <th>5</th>\n",
              "      <td>568-662</td>\n",
              "      <td>1451</td>\n",
              "    </tr>\n",
              "    <tr>\n",
              "      <th>6</th>\n",
              "      <td>0-94</td>\n",
              "      <td>1185</td>\n",
              "    </tr>\n",
              "    <tr>\n",
              "      <th>7</th>\n",
              "      <td>663-757</td>\n",
              "      <td>1058</td>\n",
              "    </tr>\n",
              "    <tr>\n",
              "      <th>8</th>\n",
              "      <td>758-852</td>\n",
              "      <td>990</td>\n",
              "    </tr>\n",
              "    <tr>\n",
              "      <th>9</th>\n",
              "      <td>947-1041</td>\n",
              "      <td>823</td>\n",
              "    </tr>\n",
              "    <tr>\n",
              "      <th>10</th>\n",
              "      <td>853-946</td>\n",
              "      <td>552</td>\n",
              "    </tr>\n",
              "    <tr>\n",
              "      <th>11</th>\n",
              "      <td>1042-1136</td>\n",
              "      <td>358</td>\n",
              "    </tr>\n",
              "  </tbody>\n",
              "</table>\n",
              "</div>\n",
              "    <div class=\"colab-df-buttons\">\n",
              "\n",
              "  <div class=\"colab-df-container\">\n",
              "    <button class=\"colab-df-convert\" onclick=\"convertToInteractive('df-0f6af14f-9452-49c9-993a-ec81f42f7a08')\"\n",
              "            title=\"Convert this dataframe to an interactive table.\"\n",
              "            style=\"display:none;\">\n",
              "\n",
              "  <svg xmlns=\"http://www.w3.org/2000/svg\" height=\"24px\" viewBox=\"0 -960 960 960\">\n",
              "    <path d=\"M120-120v-720h720v720H120Zm60-500h600v-160H180v160Zm220 220h160v-160H400v160Zm0 220h160v-160H400v160ZM180-400h160v-160H180v160Zm440 0h160v-160H620v160ZM180-180h160v-160H180v160Zm440 0h160v-160H620v160Z\"/>\n",
              "  </svg>\n",
              "    </button>\n",
              "\n",
              "  <style>\n",
              "    .colab-df-container {\n",
              "      display:flex;\n",
              "      gap: 12px;\n",
              "    }\n",
              "\n",
              "    .colab-df-convert {\n",
              "      background-color: #E8F0FE;\n",
              "      border: none;\n",
              "      border-radius: 50%;\n",
              "      cursor: pointer;\n",
              "      display: none;\n",
              "      fill: #1967D2;\n",
              "      height: 32px;\n",
              "      padding: 0 0 0 0;\n",
              "      width: 32px;\n",
              "    }\n",
              "\n",
              "    .colab-df-convert:hover {\n",
              "      background-color: #E2EBFA;\n",
              "      box-shadow: 0px 1px 2px rgba(60, 64, 67, 0.3), 0px 1px 3px 1px rgba(60, 64, 67, 0.15);\n",
              "      fill: #174EA6;\n",
              "    }\n",
              "\n",
              "    .colab-df-buttons div {\n",
              "      margin-bottom: 4px;\n",
              "    }\n",
              "\n",
              "    [theme=dark] .colab-df-convert {\n",
              "      background-color: #3B4455;\n",
              "      fill: #D2E3FC;\n",
              "    }\n",
              "\n",
              "    [theme=dark] .colab-df-convert:hover {\n",
              "      background-color: #434B5C;\n",
              "      box-shadow: 0px 1px 3px 1px rgba(0, 0, 0, 0.15);\n",
              "      filter: drop-shadow(0px 1px 2px rgba(0, 0, 0, 0.3));\n",
              "      fill: #FFFFFF;\n",
              "    }\n",
              "  </style>\n",
              "\n",
              "    <script>\n",
              "      const buttonEl =\n",
              "        document.querySelector('#df-0f6af14f-9452-49c9-993a-ec81f42f7a08 button.colab-df-convert');\n",
              "      buttonEl.style.display =\n",
              "        google.colab.kernel.accessAllowed ? 'block' : 'none';\n",
              "\n",
              "      async function convertToInteractive(key) {\n",
              "        const element = document.querySelector('#df-0f6af14f-9452-49c9-993a-ec81f42f7a08');\n",
              "        const dataTable =\n",
              "          await google.colab.kernel.invokeFunction('convertToInteractive',\n",
              "                                                    [key], {});\n",
              "        if (!dataTable) return;\n",
              "\n",
              "        const docLinkHtml = 'Like what you see? Visit the ' +\n",
              "          '<a target=\"_blank\" href=https://colab.research.google.com/notebooks/data_table.ipynb>data table notebook</a>'\n",
              "          + ' to learn more about interactive tables.';\n",
              "        element.innerHTML = '';\n",
              "        dataTable['output_type'] = 'display_data';\n",
              "        await google.colab.output.renderOutput(dataTable, element);\n",
              "        const docLink = document.createElement('div');\n",
              "        docLink.innerHTML = docLinkHtml;\n",
              "        element.appendChild(docLink);\n",
              "      }\n",
              "    </script>\n",
              "  </div>\n",
              "\n",
              "\n",
              "<div id=\"df-9832cf27-526f-4ece-b798-65517b91fbe2\">\n",
              "  <button class=\"colab-df-quickchart\" onclick=\"quickchart('df-9832cf27-526f-4ece-b798-65517b91fbe2')\"\n",
              "            title=\"Suggest charts\"\n",
              "            style=\"display:none;\">\n",
              "\n",
              "<svg xmlns=\"http://www.w3.org/2000/svg\" height=\"24px\"viewBox=\"0 0 24 24\"\n",
              "     width=\"24px\">\n",
              "    <g>\n",
              "        <path d=\"M19 3H5c-1.1 0-2 .9-2 2v14c0 1.1.9 2 2 2h14c1.1 0 2-.9 2-2V5c0-1.1-.9-2-2-2zM9 17H7v-7h2v7zm4 0h-2V7h2v10zm4 0h-2v-4h2v4z\"/>\n",
              "    </g>\n",
              "</svg>\n",
              "  </button>\n",
              "\n",
              "<style>\n",
              "  .colab-df-quickchart {\n",
              "      --bg-color: #E8F0FE;\n",
              "      --fill-color: #1967D2;\n",
              "      --hover-bg-color: #E2EBFA;\n",
              "      --hover-fill-color: #174EA6;\n",
              "      --disabled-fill-color: #AAA;\n",
              "      --disabled-bg-color: #DDD;\n",
              "  }\n",
              "\n",
              "  [theme=dark] .colab-df-quickchart {\n",
              "      --bg-color: #3B4455;\n",
              "      --fill-color: #D2E3FC;\n",
              "      --hover-bg-color: #434B5C;\n",
              "      --hover-fill-color: #FFFFFF;\n",
              "      --disabled-bg-color: #3B4455;\n",
              "      --disabled-fill-color: #666;\n",
              "  }\n",
              "\n",
              "  .colab-df-quickchart {\n",
              "    background-color: var(--bg-color);\n",
              "    border: none;\n",
              "    border-radius: 50%;\n",
              "    cursor: pointer;\n",
              "    display: none;\n",
              "    fill: var(--fill-color);\n",
              "    height: 32px;\n",
              "    padding: 0;\n",
              "    width: 32px;\n",
              "  }\n",
              "\n",
              "  .colab-df-quickchart:hover {\n",
              "    background-color: var(--hover-bg-color);\n",
              "    box-shadow: 0 1px 2px rgba(60, 64, 67, 0.3), 0 1px 3px 1px rgba(60, 64, 67, 0.15);\n",
              "    fill: var(--button-hover-fill-color);\n",
              "  }\n",
              "\n",
              "  .colab-df-quickchart-complete:disabled,\n",
              "  .colab-df-quickchart-complete:disabled:hover {\n",
              "    background-color: var(--disabled-bg-color);\n",
              "    fill: var(--disabled-fill-color);\n",
              "    box-shadow: none;\n",
              "  }\n",
              "\n",
              "  .colab-df-spinner {\n",
              "    border: 2px solid var(--fill-color);\n",
              "    border-color: transparent;\n",
              "    border-bottom-color: var(--fill-color);\n",
              "    animation:\n",
              "      spin 1s steps(1) infinite;\n",
              "  }\n",
              "\n",
              "  @keyframes spin {\n",
              "    0% {\n",
              "      border-color: transparent;\n",
              "      border-bottom-color: var(--fill-color);\n",
              "      border-left-color: var(--fill-color);\n",
              "    }\n",
              "    20% {\n",
              "      border-color: transparent;\n",
              "      border-left-color: var(--fill-color);\n",
              "      border-top-color: var(--fill-color);\n",
              "    }\n",
              "    30% {\n",
              "      border-color: transparent;\n",
              "      border-left-color: var(--fill-color);\n",
              "      border-top-color: var(--fill-color);\n",
              "      border-right-color: var(--fill-color);\n",
              "    }\n",
              "    40% {\n",
              "      border-color: transparent;\n",
              "      border-right-color: var(--fill-color);\n",
              "      border-top-color: var(--fill-color);\n",
              "    }\n",
              "    60% {\n",
              "      border-color: transparent;\n",
              "      border-right-color: var(--fill-color);\n",
              "    }\n",
              "    80% {\n",
              "      border-color: transparent;\n",
              "      border-right-color: var(--fill-color);\n",
              "      border-bottom-color: var(--fill-color);\n",
              "    }\n",
              "    90% {\n",
              "      border-color: transparent;\n",
              "      border-bottom-color: var(--fill-color);\n",
              "    }\n",
              "  }\n",
              "</style>\n",
              "\n",
              "  <script>\n",
              "    async function quickchart(key) {\n",
              "      const quickchartButtonEl =\n",
              "        document.querySelector('#' + key + ' button');\n",
              "      quickchartButtonEl.disabled = true;  // To prevent multiple clicks.\n",
              "      quickchartButtonEl.classList.add('colab-df-spinner');\n",
              "      try {\n",
              "        const charts = await google.colab.kernel.invokeFunction(\n",
              "            'suggestCharts', [key], {});\n",
              "      } catch (error) {\n",
              "        console.error('Error during call to suggestCharts:', error);\n",
              "      }\n",
              "      quickchartButtonEl.classList.remove('colab-df-spinner');\n",
              "      quickchartButtonEl.classList.add('colab-df-quickchart-complete');\n",
              "    }\n",
              "    (() => {\n",
              "      let quickchartButtonEl =\n",
              "        document.querySelector('#df-9832cf27-526f-4ece-b798-65517b91fbe2 button');\n",
              "      quickchartButtonEl.style.display =\n",
              "        google.colab.kernel.accessAllowed ? 'block' : 'none';\n",
              "    })();\n",
              "  </script>\n",
              "</div>\n",
              "\n",
              "  <div id=\"id_849ff7f5-5ab2-49bc-a8fe-57622e32a8fc\">\n",
              "    <style>\n",
              "      .colab-df-generate {\n",
              "        background-color: #E8F0FE;\n",
              "        border: none;\n",
              "        border-radius: 50%;\n",
              "        cursor: pointer;\n",
              "        display: none;\n",
              "        fill: #1967D2;\n",
              "        height: 32px;\n",
              "        padding: 0 0 0 0;\n",
              "        width: 32px;\n",
              "      }\n",
              "\n",
              "      .colab-df-generate:hover {\n",
              "        background-color: #E2EBFA;\n",
              "        box-shadow: 0px 1px 2px rgba(60, 64, 67, 0.3), 0px 1px 3px 1px rgba(60, 64, 67, 0.15);\n",
              "        fill: #174EA6;\n",
              "      }\n",
              "\n",
              "      [theme=dark] .colab-df-generate {\n",
              "        background-color: #3B4455;\n",
              "        fill: #D2E3FC;\n",
              "      }\n",
              "\n",
              "      [theme=dark] .colab-df-generate:hover {\n",
              "        background-color: #434B5C;\n",
              "        box-shadow: 0px 1px 3px 1px rgba(0, 0, 0, 0.15);\n",
              "        filter: drop-shadow(0px 1px 2px rgba(0, 0, 0, 0.3));\n",
              "        fill: #FFFFFF;\n",
              "      }\n",
              "    </style>\n",
              "    <button class=\"colab-df-generate\" onclick=\"generateWithVariable('table2')\"\n",
              "            title=\"Generate code using this dataframe.\"\n",
              "            style=\"display:none;\">\n",
              "\n",
              "  <svg xmlns=\"http://www.w3.org/2000/svg\" height=\"24px\"viewBox=\"0 0 24 24\"\n",
              "       width=\"24px\">\n",
              "    <path d=\"M7,19H8.4L18.45,9,17,7.55,7,17.6ZM5,21V16.75L18.45,3.32a2,2,0,0,1,2.83,0l1.4,1.43a1.91,1.91,0,0,1,.58,1.4,1.91,1.91,0,0,1-.58,1.4L9.25,21ZM18.45,9,17,7.55Zm-12,3A5.31,5.31,0,0,0,4.9,8.1,5.31,5.31,0,0,0,1,6.5,5.31,5.31,0,0,0,4.9,4.9,5.31,5.31,0,0,0,6.5,1,5.31,5.31,0,0,0,8.1,4.9,5.31,5.31,0,0,0,12,6.5,5.46,5.46,0,0,0,6.5,12Z\"/>\n",
              "  </svg>\n",
              "    </button>\n",
              "    <script>\n",
              "      (() => {\n",
              "      const buttonEl =\n",
              "        document.querySelector('#id_849ff7f5-5ab2-49bc-a8fe-57622e32a8fc button.colab-df-generate');\n",
              "      buttonEl.style.display =\n",
              "        google.colab.kernel.accessAllowed ? 'block' : 'none';\n",
              "\n",
              "      buttonEl.onclick = () => {\n",
              "        google.colab.notebook.generateWithVariable('table2');\n",
              "      }\n",
              "      })();\n",
              "    </script>\n",
              "  </div>\n",
              "\n",
              "    </div>\n",
              "  </div>\n"
            ],
            "application/vnd.google.colaboratory.intrinsic+json": {
              "type": "dataframe",
              "variable_name": "table2",
              "summary": "{\n  \"name\": \"table2\",\n  \"rows\": 12,\n  \"fields\": [\n    {\n      \"column\": \"price\",\n      \"properties\": {\n        \"dtype\": \"category\",\n        \"num_unique_values\": 12,\n        \"samples\": [\n          \"853-946\",\n          \"947-1041\",\n          \"284-378\"\n        ],\n        \"semantic_type\": \"\",\n        \"description\": \"\"\n      }\n    },\n    {\n      \"column\": \"frequency\",\n      \"properties\": {\n        \"dtype\": \"number\",\n        \"std\": 2940,\n        \"min\": 358,\n        \"max\": 8345,\n        \"num_unique_values\": 12,\n        \"samples\": [\n          552,\n          823,\n          8345\n        ],\n        \"semantic_type\": \"\",\n        \"description\": \"\"\n      }\n    }\n  ]\n}"
            }
          },
          "metadata": {},
          "execution_count": 180
        }
      ]
    },
    {
      "cell_type": "code",
      "source": [
        "#Obtengo un filtro de los valores mas relevantes de la variable categorica seleccionada\n",
        "Filtro=table2[table2['frequency']>1]\n",
        "Filtro"
      ],
      "metadata": {
        "colab": {
          "base_uri": "https://localhost:8080/",
          "height": 421
        },
        "id": "fSbXG8GvuJUB",
        "outputId": "cf9fcde3-f067-43ed-e04d-82cfff926f7d"
      },
      "execution_count": 181,
      "outputs": [
        {
          "output_type": "execute_result",
          "data": {
            "text/plain": [
              "        price  frequency\n",
              "0     284-378       8345\n",
              "1     200-283       7630\n",
              "2      95-189       6683\n",
              "3     379-473       3219\n",
              "4     474-567       2370\n",
              "5     568-662       1451\n",
              "6        0-94       1185\n",
              "7     663-757       1058\n",
              "8     758-852        990\n",
              "9    947-1041        823\n",
              "10    853-946        552\n",
              "11  1042-1136        358"
            ],
            "text/html": [
              "\n",
              "  <div id=\"df-242c835f-be36-4cb0-a273-e522506cd30b\" class=\"colab-df-container\">\n",
              "    <div>\n",
              "<style scoped>\n",
              "    .dataframe tbody tr th:only-of-type {\n",
              "        vertical-align: middle;\n",
              "    }\n",
              "\n",
              "    .dataframe tbody tr th {\n",
              "        vertical-align: top;\n",
              "    }\n",
              "\n",
              "    .dataframe thead th {\n",
              "        text-align: right;\n",
              "    }\n",
              "</style>\n",
              "<table border=\"1\" class=\"dataframe\">\n",
              "  <thead>\n",
              "    <tr style=\"text-align: right;\">\n",
              "      <th></th>\n",
              "      <th>price</th>\n",
              "      <th>frequency</th>\n",
              "    </tr>\n",
              "  </thead>\n",
              "  <tbody>\n",
              "    <tr>\n",
              "      <th>0</th>\n",
              "      <td>284-378</td>\n",
              "      <td>8345</td>\n",
              "    </tr>\n",
              "    <tr>\n",
              "      <th>1</th>\n",
              "      <td>200-283</td>\n",
              "      <td>7630</td>\n",
              "    </tr>\n",
              "    <tr>\n",
              "      <th>2</th>\n",
              "      <td>95-189</td>\n",
              "      <td>6683</td>\n",
              "    </tr>\n",
              "    <tr>\n",
              "      <th>3</th>\n",
              "      <td>379-473</td>\n",
              "      <td>3219</td>\n",
              "    </tr>\n",
              "    <tr>\n",
              "      <th>4</th>\n",
              "      <td>474-567</td>\n",
              "      <td>2370</td>\n",
              "    </tr>\n",
              "    <tr>\n",
              "      <th>5</th>\n",
              "      <td>568-662</td>\n",
              "      <td>1451</td>\n",
              "    </tr>\n",
              "    <tr>\n",
              "      <th>6</th>\n",
              "      <td>0-94</td>\n",
              "      <td>1185</td>\n",
              "    </tr>\n",
              "    <tr>\n",
              "      <th>7</th>\n",
              "      <td>663-757</td>\n",
              "      <td>1058</td>\n",
              "    </tr>\n",
              "    <tr>\n",
              "      <th>8</th>\n",
              "      <td>758-852</td>\n",
              "      <td>990</td>\n",
              "    </tr>\n",
              "    <tr>\n",
              "      <th>9</th>\n",
              "      <td>947-1041</td>\n",
              "      <td>823</td>\n",
              "    </tr>\n",
              "    <tr>\n",
              "      <th>10</th>\n",
              "      <td>853-946</td>\n",
              "      <td>552</td>\n",
              "    </tr>\n",
              "    <tr>\n",
              "      <th>11</th>\n",
              "      <td>1042-1136</td>\n",
              "      <td>358</td>\n",
              "    </tr>\n",
              "  </tbody>\n",
              "</table>\n",
              "</div>\n",
              "    <div class=\"colab-df-buttons\">\n",
              "\n",
              "  <div class=\"colab-df-container\">\n",
              "    <button class=\"colab-df-convert\" onclick=\"convertToInteractive('df-242c835f-be36-4cb0-a273-e522506cd30b')\"\n",
              "            title=\"Convert this dataframe to an interactive table.\"\n",
              "            style=\"display:none;\">\n",
              "\n",
              "  <svg xmlns=\"http://www.w3.org/2000/svg\" height=\"24px\" viewBox=\"0 -960 960 960\">\n",
              "    <path d=\"M120-120v-720h720v720H120Zm60-500h600v-160H180v160Zm220 220h160v-160H400v160Zm0 220h160v-160H400v160ZM180-400h160v-160H180v160Zm440 0h160v-160H620v160ZM180-180h160v-160H180v160Zm440 0h160v-160H620v160Z\"/>\n",
              "  </svg>\n",
              "    </button>\n",
              "\n",
              "  <style>\n",
              "    .colab-df-container {\n",
              "      display:flex;\n",
              "      gap: 12px;\n",
              "    }\n",
              "\n",
              "    .colab-df-convert {\n",
              "      background-color: #E8F0FE;\n",
              "      border: none;\n",
              "      border-radius: 50%;\n",
              "      cursor: pointer;\n",
              "      display: none;\n",
              "      fill: #1967D2;\n",
              "      height: 32px;\n",
              "      padding: 0 0 0 0;\n",
              "      width: 32px;\n",
              "    }\n",
              "\n",
              "    .colab-df-convert:hover {\n",
              "      background-color: #E2EBFA;\n",
              "      box-shadow: 0px 1px 2px rgba(60, 64, 67, 0.3), 0px 1px 3px 1px rgba(60, 64, 67, 0.15);\n",
              "      fill: #174EA6;\n",
              "    }\n",
              "\n",
              "    .colab-df-buttons div {\n",
              "      margin-bottom: 4px;\n",
              "    }\n",
              "\n",
              "    [theme=dark] .colab-df-convert {\n",
              "      background-color: #3B4455;\n",
              "      fill: #D2E3FC;\n",
              "    }\n",
              "\n",
              "    [theme=dark] .colab-df-convert:hover {\n",
              "      background-color: #434B5C;\n",
              "      box-shadow: 0px 1px 3px 1px rgba(0, 0, 0, 0.15);\n",
              "      filter: drop-shadow(0px 1px 2px rgba(0, 0, 0, 0.3));\n",
              "      fill: #FFFFFF;\n",
              "    }\n",
              "  </style>\n",
              "\n",
              "    <script>\n",
              "      const buttonEl =\n",
              "        document.querySelector('#df-242c835f-be36-4cb0-a273-e522506cd30b button.colab-df-convert');\n",
              "      buttonEl.style.display =\n",
              "        google.colab.kernel.accessAllowed ? 'block' : 'none';\n",
              "\n",
              "      async function convertToInteractive(key) {\n",
              "        const element = document.querySelector('#df-242c835f-be36-4cb0-a273-e522506cd30b');\n",
              "        const dataTable =\n",
              "          await google.colab.kernel.invokeFunction('convertToInteractive',\n",
              "                                                    [key], {});\n",
              "        if (!dataTable) return;\n",
              "\n",
              "        const docLinkHtml = 'Like what you see? Visit the ' +\n",
              "          '<a target=\"_blank\" href=https://colab.research.google.com/notebooks/data_table.ipynb>data table notebook</a>'\n",
              "          + ' to learn more about interactive tables.';\n",
              "        element.innerHTML = '';\n",
              "        dataTable['output_type'] = 'display_data';\n",
              "        await google.colab.output.renderOutput(dataTable, element);\n",
              "        const docLink = document.createElement('div');\n",
              "        docLink.innerHTML = docLinkHtml;\n",
              "        element.appendChild(docLink);\n",
              "      }\n",
              "    </script>\n",
              "  </div>\n",
              "\n",
              "\n",
              "<div id=\"df-201cb7fe-9d83-49a9-8fbb-0389d4bab9a5\">\n",
              "  <button class=\"colab-df-quickchart\" onclick=\"quickchart('df-201cb7fe-9d83-49a9-8fbb-0389d4bab9a5')\"\n",
              "            title=\"Suggest charts\"\n",
              "            style=\"display:none;\">\n",
              "\n",
              "<svg xmlns=\"http://www.w3.org/2000/svg\" height=\"24px\"viewBox=\"0 0 24 24\"\n",
              "     width=\"24px\">\n",
              "    <g>\n",
              "        <path d=\"M19 3H5c-1.1 0-2 .9-2 2v14c0 1.1.9 2 2 2h14c1.1 0 2-.9 2-2V5c0-1.1-.9-2-2-2zM9 17H7v-7h2v7zm4 0h-2V7h2v10zm4 0h-2v-4h2v4z\"/>\n",
              "    </g>\n",
              "</svg>\n",
              "  </button>\n",
              "\n",
              "<style>\n",
              "  .colab-df-quickchart {\n",
              "      --bg-color: #E8F0FE;\n",
              "      --fill-color: #1967D2;\n",
              "      --hover-bg-color: #E2EBFA;\n",
              "      --hover-fill-color: #174EA6;\n",
              "      --disabled-fill-color: #AAA;\n",
              "      --disabled-bg-color: #DDD;\n",
              "  }\n",
              "\n",
              "  [theme=dark] .colab-df-quickchart {\n",
              "      --bg-color: #3B4455;\n",
              "      --fill-color: #D2E3FC;\n",
              "      --hover-bg-color: #434B5C;\n",
              "      --hover-fill-color: #FFFFFF;\n",
              "      --disabled-bg-color: #3B4455;\n",
              "      --disabled-fill-color: #666;\n",
              "  }\n",
              "\n",
              "  .colab-df-quickchart {\n",
              "    background-color: var(--bg-color);\n",
              "    border: none;\n",
              "    border-radius: 50%;\n",
              "    cursor: pointer;\n",
              "    display: none;\n",
              "    fill: var(--fill-color);\n",
              "    height: 32px;\n",
              "    padding: 0;\n",
              "    width: 32px;\n",
              "  }\n",
              "\n",
              "  .colab-df-quickchart:hover {\n",
              "    background-color: var(--hover-bg-color);\n",
              "    box-shadow: 0 1px 2px rgba(60, 64, 67, 0.3), 0 1px 3px 1px rgba(60, 64, 67, 0.15);\n",
              "    fill: var(--button-hover-fill-color);\n",
              "  }\n",
              "\n",
              "  .colab-df-quickchart-complete:disabled,\n",
              "  .colab-df-quickchart-complete:disabled:hover {\n",
              "    background-color: var(--disabled-bg-color);\n",
              "    fill: var(--disabled-fill-color);\n",
              "    box-shadow: none;\n",
              "  }\n",
              "\n",
              "  .colab-df-spinner {\n",
              "    border: 2px solid var(--fill-color);\n",
              "    border-color: transparent;\n",
              "    border-bottom-color: var(--fill-color);\n",
              "    animation:\n",
              "      spin 1s steps(1) infinite;\n",
              "  }\n",
              "\n",
              "  @keyframes spin {\n",
              "    0% {\n",
              "      border-color: transparent;\n",
              "      border-bottom-color: var(--fill-color);\n",
              "      border-left-color: var(--fill-color);\n",
              "    }\n",
              "    20% {\n",
              "      border-color: transparent;\n",
              "      border-left-color: var(--fill-color);\n",
              "      border-top-color: var(--fill-color);\n",
              "    }\n",
              "    30% {\n",
              "      border-color: transparent;\n",
              "      border-left-color: var(--fill-color);\n",
              "      border-top-color: var(--fill-color);\n",
              "      border-right-color: var(--fill-color);\n",
              "    }\n",
              "    40% {\n",
              "      border-color: transparent;\n",
              "      border-right-color: var(--fill-color);\n",
              "      border-top-color: var(--fill-color);\n",
              "    }\n",
              "    60% {\n",
              "      border-color: transparent;\n",
              "      border-right-color: var(--fill-color);\n",
              "    }\n",
              "    80% {\n",
              "      border-color: transparent;\n",
              "      border-right-color: var(--fill-color);\n",
              "      border-bottom-color: var(--fill-color);\n",
              "    }\n",
              "    90% {\n",
              "      border-color: transparent;\n",
              "      border-bottom-color: var(--fill-color);\n",
              "    }\n",
              "  }\n",
              "</style>\n",
              "\n",
              "  <script>\n",
              "    async function quickchart(key) {\n",
              "      const quickchartButtonEl =\n",
              "        document.querySelector('#' + key + ' button');\n",
              "      quickchartButtonEl.disabled = true;  // To prevent multiple clicks.\n",
              "      quickchartButtonEl.classList.add('colab-df-spinner');\n",
              "      try {\n",
              "        const charts = await google.colab.kernel.invokeFunction(\n",
              "            'suggestCharts', [key], {});\n",
              "      } catch (error) {\n",
              "        console.error('Error during call to suggestCharts:', error);\n",
              "      }\n",
              "      quickchartButtonEl.classList.remove('colab-df-spinner');\n",
              "      quickchartButtonEl.classList.add('colab-df-quickchart-complete');\n",
              "    }\n",
              "    (() => {\n",
              "      let quickchartButtonEl =\n",
              "        document.querySelector('#df-201cb7fe-9d83-49a9-8fbb-0389d4bab9a5 button');\n",
              "      quickchartButtonEl.style.display =\n",
              "        google.colab.kernel.accessAllowed ? 'block' : 'none';\n",
              "    })();\n",
              "  </script>\n",
              "</div>\n",
              "\n",
              "  <div id=\"id_1ba12e9e-ce6c-49a0-af81-5d0841621c94\">\n",
              "    <style>\n",
              "      .colab-df-generate {\n",
              "        background-color: #E8F0FE;\n",
              "        border: none;\n",
              "        border-radius: 50%;\n",
              "        cursor: pointer;\n",
              "        display: none;\n",
              "        fill: #1967D2;\n",
              "        height: 32px;\n",
              "        padding: 0 0 0 0;\n",
              "        width: 32px;\n",
              "      }\n",
              "\n",
              "      .colab-df-generate:hover {\n",
              "        background-color: #E2EBFA;\n",
              "        box-shadow: 0px 1px 2px rgba(60, 64, 67, 0.3), 0px 1px 3px 1px rgba(60, 64, 67, 0.15);\n",
              "        fill: #174EA6;\n",
              "      }\n",
              "\n",
              "      [theme=dark] .colab-df-generate {\n",
              "        background-color: #3B4455;\n",
              "        fill: #D2E3FC;\n",
              "      }\n",
              "\n",
              "      [theme=dark] .colab-df-generate:hover {\n",
              "        background-color: #434B5C;\n",
              "        box-shadow: 0px 1px 3px 1px rgba(0, 0, 0, 0.15);\n",
              "        filter: drop-shadow(0px 1px 2px rgba(0, 0, 0, 0.3));\n",
              "        fill: #FFFFFF;\n",
              "      }\n",
              "    </style>\n",
              "    <button class=\"colab-df-generate\" onclick=\"generateWithVariable('Filtro')\"\n",
              "            title=\"Generate code using this dataframe.\"\n",
              "            style=\"display:none;\">\n",
              "\n",
              "  <svg xmlns=\"http://www.w3.org/2000/svg\" height=\"24px\"viewBox=\"0 0 24 24\"\n",
              "       width=\"24px\">\n",
              "    <path d=\"M7,19H8.4L18.45,9,17,7.55,7,17.6ZM5,21V16.75L18.45,3.32a2,2,0,0,1,2.83,0l1.4,1.43a1.91,1.91,0,0,1,.58,1.4,1.91,1.91,0,0,1-.58,1.4L9.25,21ZM18.45,9,17,7.55Zm-12,3A5.31,5.31,0,0,0,4.9,8.1,5.31,5.31,0,0,0,1,6.5,5.31,5.31,0,0,0,4.9,4.9,5.31,5.31,0,0,0,6.5,1,5.31,5.31,0,0,0,8.1,4.9,5.31,5.31,0,0,0,12,6.5,5.46,5.46,0,0,0,6.5,12Z\"/>\n",
              "  </svg>\n",
              "    </button>\n",
              "    <script>\n",
              "      (() => {\n",
              "      const buttonEl =\n",
              "        document.querySelector('#id_1ba12e9e-ce6c-49a0-af81-5d0841621c94 button.colab-df-generate');\n",
              "      buttonEl.style.display =\n",
              "        google.colab.kernel.accessAllowed ? 'block' : 'none';\n",
              "\n",
              "      buttonEl.onclick = () => {\n",
              "        google.colab.notebook.generateWithVariable('Filtro');\n",
              "      }\n",
              "      })();\n",
              "    </script>\n",
              "  </div>\n",
              "\n",
              "    </div>\n",
              "  </div>\n"
            ],
            "application/vnd.google.colaboratory.intrinsic+json": {
              "type": "dataframe",
              "variable_name": "Filtro",
              "summary": "{\n  \"name\": \"Filtro\",\n  \"rows\": 12,\n  \"fields\": [\n    {\n      \"column\": \"price\",\n      \"properties\": {\n        \"dtype\": \"category\",\n        \"num_unique_values\": 12,\n        \"samples\": [\n          \"853-946\",\n          \"947-1041\",\n          \"284-378\"\n        ],\n        \"semantic_type\": \"\",\n        \"description\": \"\"\n      }\n    },\n    {\n      \"column\": \"frequency\",\n      \"properties\": {\n        \"dtype\": \"number\",\n        \"std\": 2940,\n        \"min\": 358,\n        \"max\": 8345,\n        \"num_unique_values\": 12,\n        \"samples\": [\n          552,\n          823,\n          8345\n        ],\n        \"semantic_type\": \"\",\n        \"description\": \"\"\n      }\n    }\n  ]\n}"
            }
          },
          "metadata": {},
          "execution_count": 181
        }
      ]
    },
    {
      "cell_type": "code",
      "source": [
        "#Ajusto el indice de mi DF\n",
        "Filtro_index=Filtro.set_index('price')\n",
        "Filtro_index"
      ],
      "metadata": {
        "colab": {
          "base_uri": "https://localhost:8080/",
          "height": 452
        },
        "id": "VptmfOsyuaLy",
        "outputId": "d728840e-56eb-4b97-99f6-cf321bc9d03f"
      },
      "execution_count": 182,
      "outputs": [
        {
          "output_type": "execute_result",
          "data": {
            "text/plain": [
              "           frequency\n",
              "price               \n",
              "284-378         8345\n",
              "200-283         7630\n",
              "95-189          6683\n",
              "379-473         3219\n",
              "474-567         2370\n",
              "568-662         1451\n",
              "0-94            1185\n",
              "663-757         1058\n",
              "758-852          990\n",
              "947-1041         823\n",
              "853-946          552\n",
              "1042-1136        358"
            ],
            "text/html": [
              "\n",
              "  <div id=\"df-ec801a41-c804-4c69-a19b-6ea92c99536d\" class=\"colab-df-container\">\n",
              "    <div>\n",
              "<style scoped>\n",
              "    .dataframe tbody tr th:only-of-type {\n",
              "        vertical-align: middle;\n",
              "    }\n",
              "\n",
              "    .dataframe tbody tr th {\n",
              "        vertical-align: top;\n",
              "    }\n",
              "\n",
              "    .dataframe thead th {\n",
              "        text-align: right;\n",
              "    }\n",
              "</style>\n",
              "<table border=\"1\" class=\"dataframe\">\n",
              "  <thead>\n",
              "    <tr style=\"text-align: right;\">\n",
              "      <th></th>\n",
              "      <th>frequency</th>\n",
              "    </tr>\n",
              "    <tr>\n",
              "      <th>price</th>\n",
              "      <th></th>\n",
              "    </tr>\n",
              "  </thead>\n",
              "  <tbody>\n",
              "    <tr>\n",
              "      <th>284-378</th>\n",
              "      <td>8345</td>\n",
              "    </tr>\n",
              "    <tr>\n",
              "      <th>200-283</th>\n",
              "      <td>7630</td>\n",
              "    </tr>\n",
              "    <tr>\n",
              "      <th>95-189</th>\n",
              "      <td>6683</td>\n",
              "    </tr>\n",
              "    <tr>\n",
              "      <th>379-473</th>\n",
              "      <td>3219</td>\n",
              "    </tr>\n",
              "    <tr>\n",
              "      <th>474-567</th>\n",
              "      <td>2370</td>\n",
              "    </tr>\n",
              "    <tr>\n",
              "      <th>568-662</th>\n",
              "      <td>1451</td>\n",
              "    </tr>\n",
              "    <tr>\n",
              "      <th>0-94</th>\n",
              "      <td>1185</td>\n",
              "    </tr>\n",
              "    <tr>\n",
              "      <th>663-757</th>\n",
              "      <td>1058</td>\n",
              "    </tr>\n",
              "    <tr>\n",
              "      <th>758-852</th>\n",
              "      <td>990</td>\n",
              "    </tr>\n",
              "    <tr>\n",
              "      <th>947-1041</th>\n",
              "      <td>823</td>\n",
              "    </tr>\n",
              "    <tr>\n",
              "      <th>853-946</th>\n",
              "      <td>552</td>\n",
              "    </tr>\n",
              "    <tr>\n",
              "      <th>1042-1136</th>\n",
              "      <td>358</td>\n",
              "    </tr>\n",
              "  </tbody>\n",
              "</table>\n",
              "</div>\n",
              "    <div class=\"colab-df-buttons\">\n",
              "\n",
              "  <div class=\"colab-df-container\">\n",
              "    <button class=\"colab-df-convert\" onclick=\"convertToInteractive('df-ec801a41-c804-4c69-a19b-6ea92c99536d')\"\n",
              "            title=\"Convert this dataframe to an interactive table.\"\n",
              "            style=\"display:none;\">\n",
              "\n",
              "  <svg xmlns=\"http://www.w3.org/2000/svg\" height=\"24px\" viewBox=\"0 -960 960 960\">\n",
              "    <path d=\"M120-120v-720h720v720H120Zm60-500h600v-160H180v160Zm220 220h160v-160H400v160Zm0 220h160v-160H400v160ZM180-400h160v-160H180v160Zm440 0h160v-160H620v160ZM180-180h160v-160H180v160Zm440 0h160v-160H620v160Z\"/>\n",
              "  </svg>\n",
              "    </button>\n",
              "\n",
              "  <style>\n",
              "    .colab-df-container {\n",
              "      display:flex;\n",
              "      gap: 12px;\n",
              "    }\n",
              "\n",
              "    .colab-df-convert {\n",
              "      background-color: #E8F0FE;\n",
              "      border: none;\n",
              "      border-radius: 50%;\n",
              "      cursor: pointer;\n",
              "      display: none;\n",
              "      fill: #1967D2;\n",
              "      height: 32px;\n",
              "      padding: 0 0 0 0;\n",
              "      width: 32px;\n",
              "    }\n",
              "\n",
              "    .colab-df-convert:hover {\n",
              "      background-color: #E2EBFA;\n",
              "      box-shadow: 0px 1px 2px rgba(60, 64, 67, 0.3), 0px 1px 3px 1px rgba(60, 64, 67, 0.15);\n",
              "      fill: #174EA6;\n",
              "    }\n",
              "\n",
              "    .colab-df-buttons div {\n",
              "      margin-bottom: 4px;\n",
              "    }\n",
              "\n",
              "    [theme=dark] .colab-df-convert {\n",
              "      background-color: #3B4455;\n",
              "      fill: #D2E3FC;\n",
              "    }\n",
              "\n",
              "    [theme=dark] .colab-df-convert:hover {\n",
              "      background-color: #434B5C;\n",
              "      box-shadow: 0px 1px 3px 1px rgba(0, 0, 0, 0.15);\n",
              "      filter: drop-shadow(0px 1px 2px rgba(0, 0, 0, 0.3));\n",
              "      fill: #FFFFFF;\n",
              "    }\n",
              "  </style>\n",
              "\n",
              "    <script>\n",
              "      const buttonEl =\n",
              "        document.querySelector('#df-ec801a41-c804-4c69-a19b-6ea92c99536d button.colab-df-convert');\n",
              "      buttonEl.style.display =\n",
              "        google.colab.kernel.accessAllowed ? 'block' : 'none';\n",
              "\n",
              "      async function convertToInteractive(key) {\n",
              "        const element = document.querySelector('#df-ec801a41-c804-4c69-a19b-6ea92c99536d');\n",
              "        const dataTable =\n",
              "          await google.colab.kernel.invokeFunction('convertToInteractive',\n",
              "                                                    [key], {});\n",
              "        if (!dataTable) return;\n",
              "\n",
              "        const docLinkHtml = 'Like what you see? Visit the ' +\n",
              "          '<a target=\"_blank\" href=https://colab.research.google.com/notebooks/data_table.ipynb>data table notebook</a>'\n",
              "          + ' to learn more about interactive tables.';\n",
              "        element.innerHTML = '';\n",
              "        dataTable['output_type'] = 'display_data';\n",
              "        await google.colab.output.renderOutput(dataTable, element);\n",
              "        const docLink = document.createElement('div');\n",
              "        docLink.innerHTML = docLinkHtml;\n",
              "        element.appendChild(docLink);\n",
              "      }\n",
              "    </script>\n",
              "  </div>\n",
              "\n",
              "\n",
              "<div id=\"df-bd13e583-300a-4ee6-abfe-8c2e06f666fc\">\n",
              "  <button class=\"colab-df-quickchart\" onclick=\"quickchart('df-bd13e583-300a-4ee6-abfe-8c2e06f666fc')\"\n",
              "            title=\"Suggest charts\"\n",
              "            style=\"display:none;\">\n",
              "\n",
              "<svg xmlns=\"http://www.w3.org/2000/svg\" height=\"24px\"viewBox=\"0 0 24 24\"\n",
              "     width=\"24px\">\n",
              "    <g>\n",
              "        <path d=\"M19 3H5c-1.1 0-2 .9-2 2v14c0 1.1.9 2 2 2h14c1.1 0 2-.9 2-2V5c0-1.1-.9-2-2-2zM9 17H7v-7h2v7zm4 0h-2V7h2v10zm4 0h-2v-4h2v4z\"/>\n",
              "    </g>\n",
              "</svg>\n",
              "  </button>\n",
              "\n",
              "<style>\n",
              "  .colab-df-quickchart {\n",
              "      --bg-color: #E8F0FE;\n",
              "      --fill-color: #1967D2;\n",
              "      --hover-bg-color: #E2EBFA;\n",
              "      --hover-fill-color: #174EA6;\n",
              "      --disabled-fill-color: #AAA;\n",
              "      --disabled-bg-color: #DDD;\n",
              "  }\n",
              "\n",
              "  [theme=dark] .colab-df-quickchart {\n",
              "      --bg-color: #3B4455;\n",
              "      --fill-color: #D2E3FC;\n",
              "      --hover-bg-color: #434B5C;\n",
              "      --hover-fill-color: #FFFFFF;\n",
              "      --disabled-bg-color: #3B4455;\n",
              "      --disabled-fill-color: #666;\n",
              "  }\n",
              "\n",
              "  .colab-df-quickchart {\n",
              "    background-color: var(--bg-color);\n",
              "    border: none;\n",
              "    border-radius: 50%;\n",
              "    cursor: pointer;\n",
              "    display: none;\n",
              "    fill: var(--fill-color);\n",
              "    height: 32px;\n",
              "    padding: 0;\n",
              "    width: 32px;\n",
              "  }\n",
              "\n",
              "  .colab-df-quickchart:hover {\n",
              "    background-color: var(--hover-bg-color);\n",
              "    box-shadow: 0 1px 2px rgba(60, 64, 67, 0.3), 0 1px 3px 1px rgba(60, 64, 67, 0.15);\n",
              "    fill: var(--button-hover-fill-color);\n",
              "  }\n",
              "\n",
              "  .colab-df-quickchart-complete:disabled,\n",
              "  .colab-df-quickchart-complete:disabled:hover {\n",
              "    background-color: var(--disabled-bg-color);\n",
              "    fill: var(--disabled-fill-color);\n",
              "    box-shadow: none;\n",
              "  }\n",
              "\n",
              "  .colab-df-spinner {\n",
              "    border: 2px solid var(--fill-color);\n",
              "    border-color: transparent;\n",
              "    border-bottom-color: var(--fill-color);\n",
              "    animation:\n",
              "      spin 1s steps(1) infinite;\n",
              "  }\n",
              "\n",
              "  @keyframes spin {\n",
              "    0% {\n",
              "      border-color: transparent;\n",
              "      border-bottom-color: var(--fill-color);\n",
              "      border-left-color: var(--fill-color);\n",
              "    }\n",
              "    20% {\n",
              "      border-color: transparent;\n",
              "      border-left-color: var(--fill-color);\n",
              "      border-top-color: var(--fill-color);\n",
              "    }\n",
              "    30% {\n",
              "      border-color: transparent;\n",
              "      border-left-color: var(--fill-color);\n",
              "      border-top-color: var(--fill-color);\n",
              "      border-right-color: var(--fill-color);\n",
              "    }\n",
              "    40% {\n",
              "      border-color: transparent;\n",
              "      border-right-color: var(--fill-color);\n",
              "      border-top-color: var(--fill-color);\n",
              "    }\n",
              "    60% {\n",
              "      border-color: transparent;\n",
              "      border-right-color: var(--fill-color);\n",
              "    }\n",
              "    80% {\n",
              "      border-color: transparent;\n",
              "      border-right-color: var(--fill-color);\n",
              "      border-bottom-color: var(--fill-color);\n",
              "    }\n",
              "    90% {\n",
              "      border-color: transparent;\n",
              "      border-bottom-color: var(--fill-color);\n",
              "    }\n",
              "  }\n",
              "</style>\n",
              "\n",
              "  <script>\n",
              "    async function quickchart(key) {\n",
              "      const quickchartButtonEl =\n",
              "        document.querySelector('#' + key + ' button');\n",
              "      quickchartButtonEl.disabled = true;  // To prevent multiple clicks.\n",
              "      quickchartButtonEl.classList.add('colab-df-spinner');\n",
              "      try {\n",
              "        const charts = await google.colab.kernel.invokeFunction(\n",
              "            'suggestCharts', [key], {});\n",
              "      } catch (error) {\n",
              "        console.error('Error during call to suggestCharts:', error);\n",
              "      }\n",
              "      quickchartButtonEl.classList.remove('colab-df-spinner');\n",
              "      quickchartButtonEl.classList.add('colab-df-quickchart-complete');\n",
              "    }\n",
              "    (() => {\n",
              "      let quickchartButtonEl =\n",
              "        document.querySelector('#df-bd13e583-300a-4ee6-abfe-8c2e06f666fc button');\n",
              "      quickchartButtonEl.style.display =\n",
              "        google.colab.kernel.accessAllowed ? 'block' : 'none';\n",
              "    })();\n",
              "  </script>\n",
              "</div>\n",
              "\n",
              "  <div id=\"id_5994265b-7f2d-43e8-888c-d1834c7afc1c\">\n",
              "    <style>\n",
              "      .colab-df-generate {\n",
              "        background-color: #E8F0FE;\n",
              "        border: none;\n",
              "        border-radius: 50%;\n",
              "        cursor: pointer;\n",
              "        display: none;\n",
              "        fill: #1967D2;\n",
              "        height: 32px;\n",
              "        padding: 0 0 0 0;\n",
              "        width: 32px;\n",
              "      }\n",
              "\n",
              "      .colab-df-generate:hover {\n",
              "        background-color: #E2EBFA;\n",
              "        box-shadow: 0px 1px 2px rgba(60, 64, 67, 0.3), 0px 1px 3px 1px rgba(60, 64, 67, 0.15);\n",
              "        fill: #174EA6;\n",
              "      }\n",
              "\n",
              "      [theme=dark] .colab-df-generate {\n",
              "        background-color: #3B4455;\n",
              "        fill: #D2E3FC;\n",
              "      }\n",
              "\n",
              "      [theme=dark] .colab-df-generate:hover {\n",
              "        background-color: #434B5C;\n",
              "        box-shadow: 0px 1px 3px 1px rgba(0, 0, 0, 0.15);\n",
              "        filter: drop-shadow(0px 1px 2px rgba(0, 0, 0, 0.3));\n",
              "        fill: #FFFFFF;\n",
              "      }\n",
              "    </style>\n",
              "    <button class=\"colab-df-generate\" onclick=\"generateWithVariable('Filtro_index')\"\n",
              "            title=\"Generate code using this dataframe.\"\n",
              "            style=\"display:none;\">\n",
              "\n",
              "  <svg xmlns=\"http://www.w3.org/2000/svg\" height=\"24px\"viewBox=\"0 0 24 24\"\n",
              "       width=\"24px\">\n",
              "    <path d=\"M7,19H8.4L18.45,9,17,7.55,7,17.6ZM5,21V16.75L18.45,3.32a2,2,0,0,1,2.83,0l1.4,1.43a1.91,1.91,0,0,1,.58,1.4,1.91,1.91,0,0,1-.58,1.4L9.25,21ZM18.45,9,17,7.55Zm-12,3A5.31,5.31,0,0,0,4.9,8.1,5.31,5.31,0,0,0,1,6.5,5.31,5.31,0,0,0,4.9,4.9,5.31,5.31,0,0,0,6.5,1,5.31,5.31,0,0,0,8.1,4.9,5.31,5.31,0,0,0,12,6.5,5.46,5.46,0,0,0,6.5,12Z\"/>\n",
              "  </svg>\n",
              "    </button>\n",
              "    <script>\n",
              "      (() => {\n",
              "      const buttonEl =\n",
              "        document.querySelector('#id_5994265b-7f2d-43e8-888c-d1834c7afc1c button.colab-df-generate');\n",
              "      buttonEl.style.display =\n",
              "        google.colab.kernel.accessAllowed ? 'block' : 'none';\n",
              "\n",
              "      buttonEl.onclick = () => {\n",
              "        google.colab.notebook.generateWithVariable('Filtro_index');\n",
              "      }\n",
              "      })();\n",
              "    </script>\n",
              "  </div>\n",
              "\n",
              "    </div>\n",
              "  </div>\n"
            ],
            "application/vnd.google.colaboratory.intrinsic+json": {
              "type": "dataframe",
              "variable_name": "Filtro_index",
              "summary": "{\n  \"name\": \"Filtro_index\",\n  \"rows\": 12,\n  \"fields\": [\n    {\n      \"column\": \"price\",\n      \"properties\": {\n        \"dtype\": \"category\",\n        \"num_unique_values\": 12,\n        \"samples\": [\n          \"853-946\",\n          \"947-1041\",\n          \"284-378\"\n        ],\n        \"semantic_type\": \"\",\n        \"description\": \"\"\n      }\n    },\n    {\n      \"column\": \"frequency\",\n      \"properties\": {\n        \"dtype\": \"number\",\n        \"std\": 2940,\n        \"min\": 358,\n        \"max\": 8345,\n        \"num_unique_values\": 12,\n        \"samples\": [\n          552,\n          823,\n          8345\n        ],\n        \"semantic_type\": \"\",\n        \"description\": \"\"\n      }\n    }\n  ]\n}"
            }
          },
          "metadata": {},
          "execution_count": 182
        }
      ]
    },
    {
      "cell_type": "code",
      "source": [
        "#Realizamos grafico de barras del DF filtrado\n",
        "Filtro_index.plot(kind='bar',width=0.8,figsize=(10,4))\n",
        "plt.title('Precio vs frecuencias')\n",
        "plt.xlabel('Rango de precios')\n",
        "plt.ylabel('Frecuencia')"
      ],
      "metadata": {
        "colab": {
          "base_uri": "https://localhost:8080/",
          "height": 488
        },
        "id": "PklueThIuyNz",
        "outputId": "ae437253-10a7-41f9-d346-65dfb81020e7"
      },
      "execution_count": 183,
      "outputs": [
        {
          "output_type": "execute_result",
          "data": {
            "text/plain": [
              "Text(0, 0.5, 'Frecuencia')"
            ]
          },
          "metadata": {},
          "execution_count": 183
        },
        {
          "output_type": "display_data",
          "data": {
            "text/plain": [
              "<Figure size 1000x400 with 1 Axes>"
            ],
            "image/png": "[encoded data removed]"
          },
          "metadata": {}
        }
      ]
    },
    {
      "cell_type": "code",
      "source": [
        "#Realizamos grafico de dispercion del DF filtrado\n",
        "table1.plot('frequency','cumulative_perc',kind='scatter')"
      ],
      "metadata": {
        "colab": {
          "base_uri": "https://localhost:8080/",
          "height": 466
        },
        "id": "f9KJyH79wXKV",
        "outputId": "62d7e1ed-4f25-47d6-c92a-82d648bafbe9"
      },
      "execution_count": 184,
      "outputs": [
        {
          "output_type": "execute_result",
          "data": {
            "text/plain": [
              "<Axes: xlabel='frequency', ylabel='cumulative_perc'>"
            ]
          },
          "metadata": {},
          "execution_count": 184
        },
        {
          "output_type": "display_data",
          "data": {
            "text/plain": [
              "<Figure size 640x480 with 1 Axes>"
            ],
            "image/png": "[encoded data removed]"
          },
          "metadata": {}
        }
      ]
    },
    {
      "cell_type": "code",
      "source": [
        "#Realoizamos grafico de area del DF filtrado\n",
        "Filtro_index.plot(kind='area',figsize=(10,4),alpha=0.5)"
      ],
      "metadata": {
        "colab": {
          "base_uri": "https://localhost:8080/",
          "height": 405
        },
        "id": "4Ua7Im5bwxNj",
        "outputId": "92840709-9ac4-412c-9cd5-bd3c9fa88b00"
      },
      "execution_count": 185,
      "outputs": [
        {
          "output_type": "execute_result",
          "data": {
            "text/plain": [
              "<Axes: xlabel='price'>"
            ]
          },
          "metadata": {},
          "execution_count": 185
        },
        {
          "output_type": "display_data",
          "data": {
            "text/plain": [
              "<Figure size 1000x400 with 1 Axes>"
            ],
            "image/png": "[encoded data removed]"
          },
          "metadata": {}
        }
      ]
    },
    {
      "cell_type": "code",
      "source": [
        "#Realizamos grafico de pastel del DF filtrado\n",
        "Filtro_index['frequency'].plot(kind='pie',figsize=(10,5),shadow=True,autopct=\"%0.1f %%\")"
      ],
      "metadata": {
        "colab": {
          "base_uri": "https://localhost:8080/",
          "height": 439
        },
        "id": "yV9rhVw9xoRz",
        "outputId": "de8ef81d-ccbe-44fa-8169-ef975e4cb1e4"
      },
      "execution_count": 186,
      "outputs": [
        {
          "output_type": "execute_result",
          "data": {
            "text/plain": [
              "<Axes: ylabel='frequency'>"
            ]
          },
          "metadata": {},
          "execution_count": 186
        },
        {
          "output_type": "display_data",
          "data": {
            "text/plain": [
              "<Figure size 1000x500 with 1 Axes>"
            ],
            "image/png": "[encoded data removed]"
          },
          "metadata": {}
        }
      ]
    },
    {
      "cell_type": "code",
      "source": [
        "#Realizamos grafico hexagonal del DF filtrado, alternativo al scatter plot\n",
        "table1.plot.hexbin('frequency','cumulative_perc',figsize=(10,5))"
      ],
      "metadata": {
        "colab": {
          "base_uri": "https://localhost:8080/",
          "height": 487
        },
        "id": "ZHnu0qBXyKpc",
        "outputId": "2f08108b-1b39-48f8-8e42-7a6a18607aa0"
      },
      "execution_count": 187,
      "outputs": [
        {
          "output_type": "execute_result",
          "data": {
            "text/plain": [
              "<Axes: xlabel='frequency', ylabel='cumulative_perc'>"
            ]
          },
          "metadata": {},
          "execution_count": 187
        },
        {
          "output_type": "display_data",
          "data": {
            "text/plain": [
              "<Figure size 1000x500 with 2 Axes>"
            ],
            "image/png": "[encoded data removed]"
          },
          "metadata": {}
        }
      ]
    },
    {
      "cell_type": "markdown",
      "source": [
        "#**Modelo Explicativo de variables numericas**"
      ],
      "metadata": {
        "id": "CeHXF0F2yqZT"
      }
    },
    {
      "cell_type": "code",
      "source": [
        "#Ajustar maximo de filas\n",
        "pd.options.display.max_rows=None"
      ],
      "metadata": {
        "id": "Er8gHg3dy0ns"
      },
      "execution_count": 188,
      "outputs": []
    },
    {
      "cell_type": "code",
      "source": [
        "#Corroboramos valores nulos\n",
        "valores_nulos=categoricas.isnull().sum()\n",
        "valores_nulos"
      ],
      "metadata": {
        "colab": {
          "base_uri": "https://localhost:8080/",
          "height": 455
        },
        "id": "krxXTrxcy7Nz",
        "outputId": "161d6576-a479-4050-a409-5604241a755e"
      },
      "execution_count": 189,
      "outputs": [
        {
          "output_type": "execute_result",
          "data": {
            "text/plain": [
              "host_response_rate           0\n",
              "host_acceptance_rate         0\n",
              "host_total_listings_count    0\n",
              "accommodates                 0\n",
              "bathrooms                    0\n",
              "beds                         0\n",
              "price                        0\n",
              "availability_60              0\n",
              "availability_90              0\n",
              "availability_365             0\n",
              "number_of_reviews_ltm        0\n",
              "reviews_per_month            0\n",
              "dtype: int64"
            ],
            "text/html": [
              "<div>\n",
              "<style scoped>\n",
              "    .dataframe tbody tr th:only-of-type {\n",
              "        vertical-align: middle;\n",
              "    }\n",
              "\n",
              "    .dataframe tbody tr th {\n",
              "        vertical-align: top;\n",
              "    }\n",
              "\n",
              "    .dataframe thead th {\n",
              "        text-align: right;\n",
              "    }\n",
              "</style>\n",
              "<table border=\"1\" class=\"dataframe\">\n",
              "  <thead>\n",
              "    <tr style=\"text-align: right;\">\n",
              "      <th></th>\n",
              "      <th>0</th>\n",
              "    </tr>\n",
              "  </thead>\n",
              "  <tbody>\n",
              "    <tr>\n",
              "      <th>host_response_rate</th>\n",
              "      <td>0</td>\n",
              "    </tr>\n",
              "    <tr>\n",
              "      <th>host_acceptance_rate</th>\n",
              "      <td>0</td>\n",
              "    </tr>\n",
              "    <tr>\n",
              "      <th>host_total_listings_count</th>\n",
              "      <td>0</td>\n",
              "    </tr>\n",
              "    <tr>\n",
              "      <th>accommodates</th>\n",
              "      <td>0</td>\n",
              "    </tr>\n",
              "    <tr>\n",
              "      <th>bathrooms</th>\n",
              "      <td>0</td>\n",
              "    </tr>\n",
              "    <tr>\n",
              "      <th>beds</th>\n",
              "      <td>0</td>\n",
              "    </tr>\n",
              "    <tr>\n",
              "      <th>price</th>\n",
              "      <td>0</td>\n",
              "    </tr>\n",
              "    <tr>\n",
              "      <th>availability_60</th>\n",
              "      <td>0</td>\n",
              "    </tr>\n",
              "    <tr>\n",
              "      <th>availability_90</th>\n",
              "      <td>0</td>\n",
              "    </tr>\n",
              "    <tr>\n",
              "      <th>availability_365</th>\n",
              "      <td>0</td>\n",
              "    </tr>\n",
              "    <tr>\n",
              "      <th>number_of_reviews_ltm</th>\n",
              "      <td>0</td>\n",
              "    </tr>\n",
              "    <tr>\n",
              "      <th>reviews_per_month</th>\n",
              "      <td>0</td>\n",
              "    </tr>\n",
              "  </tbody>\n",
              "</table>\n",
              "</div><br><label><b>dtype:</b> int64</label>"
            ]
          },
          "metadata": {},
          "execution_count": 189
        }
      ]
    }
  ]
}